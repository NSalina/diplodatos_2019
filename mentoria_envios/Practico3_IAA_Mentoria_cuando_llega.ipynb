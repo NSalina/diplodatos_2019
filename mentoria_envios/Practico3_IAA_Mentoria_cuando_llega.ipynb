{
 "cells": [
  {
   "cell_type": "markdown",
   "metadata": {
    "colab_type": "text",
    "id": "oM70-GU7ZLSy"
   },
   "source": [
    "# Logística de envíos: ¿Cuándo llega?\n",
    "\n",
    "## Mentoría DiploDatos 2019 \n",
    "\n",
    "### Integrantes:\n",
    "\n",
    "- Alini, Walter\n",
    "- Salina, Noelia\n",
    "\n",
    "### Mentora:\n",
    "\n",
    "- Dal Lago, Virginia\n",
    "\n",
    "### Práctico: Introducción al Apendizaje Automático"
   ]
  },
  {
   "cell_type": "markdown",
   "metadata": {
    "colab_type": "text",
    "id": "nOeFzK-zZcIM"
   },
   "source": [
    "## Motivación\n",
    "\n",
    "En la actualidad, cada vez más productos se comercializan a través de una plataforma online. Una de las principales ventajas de este sistema es que el usuario puede recibir el producto en su domicilio en una fecha determinada. Pero, ¿cómo sabemos qué día va a llegar? ¿A partir de qué datos podemos predecir la demora del envío? En este práctico se trabajará con datos de envíos de MercadoLibre, el e-commerce más grande de Latinoamérica, analizando y modelando el problema de logística de envíos para poder responder ¿cuándo llega?\n",
    "\n",
    "## Descripción del dataset\n",
    "\n",
    "**Datos:**  El conjunto de datos seleccionado para realizar el práctico corresponde a un muestreo aleatorio no uniforme de 500.000 envíos de MercadoLibre. Estos envíos fueron realizados en Brasil en el período comprendido entre Octubre de 2018 y Abril de 2019 (las fechas originales han sido modificadas y adaptadas a un período de tiempo diferente, conservando el día de la semana y considerando los feriados correspondientes). Mientras que las fechas han sido modificadas, los horarios registrados en el dataset son los originales. Los datos comprenden variables tanto categóricas como numéricas. \n",
    "\n",
    "El dataset cuenta con las siguientes columnas:\n",
    "\n",
    "- **Sender_state:** Estado de Brasil de donde sale el envío.\n",
    "- **Sender_zipcode:** Código postal (de 5 dígitos) de donde sale el envío.\n",
    "- **Receiver_state:** Estado de Brasil a donde llega el envío.\n",
    "- **Receiver_zipcode:** Código postal (de 5 dígitos) a donde llega el envío.\n",
    "- **Shipment_type:** Método de envío (normal, express, super).\n",
    "- **Quantity:** Cantidad de productos en un envío.\n",
    "- **Service:** Servicio del correo con el cual se realizó un envío.\n",
    "- **Status:** Estado del envío (set: listo para ser enviado, sent: enviado, done: entregado, failed: no entregado, cancelled: cancelado).\n",
    "- **Date_created:** Fecha de creación del envío.\n",
    "- **Date_sent:** Fecha y hora en que se realizó el envío (salió del correo).\n",
    "- **Date_visit:** Fecha y hora en que se entregó el envío al destinatario.\n",
    "- **Shipment_days:** Días hábiles entre que el envío fue enviado (salió del correo) y que fue entregado."
   ]
  },
  {
   "cell_type": "markdown",
   "metadata": {
    "colab_type": "text",
    "id": "0aMgSG5NZm55"
   },
   "source": [
    "## Objetivos generales\n",
    "\n",
    "* Realizar de manera completa el proceso de desarrollo de un modelo de aprendizaje automático para determinar cuándo llega un envío. \n",
    "* Desarrollar el conocimiento práctico sobre dicho proceso, desde la definición de los datasets, la elección y análisis del modelo y las métricas propias para la problemática.\n",
    "* Desarrollar habilidades de comunicación de la información obtenida a partir de los datos de manera clara y sencilla.\n"
   ]
  },
  {
   "cell_type": "markdown",
   "metadata": {
    "colab_type": "text",
    "id": "06srV32U2q7J"
   },
   "source": [
    "## Objetivos específicos\n",
    "\n",
    "* `#ToDO`\n",
    "* Conocer, compartir e incrementar la dinámica de trabajo grupal"
   ]
  },
  {
   "cell_type": "markdown",
   "metadata": {
    "colab_type": "text",
    "id": "o-XE83TKaPDv"
   },
   "source": [
    "## Metodología\n",
    "\n",
    "A partir de lo estudiado en las clases teóricas y prácticas de la materia “Introducción al aprendizaje automático”, realizar un informe en formato de notebook o interactivo, en el cual se respondan, y justifiquen, las siguientes preguntas (además de cualquiera otra información extra que se considere de relevancia sobre la problemática): \n",
    "\n",
    "1. En el práctico anterior se respondió al siguiente enunciado: “A la hora de determinar la promesa de entrega de un envío (fecha estimada de llegada), ¿cuáles son los features que consideran pueden tener mayor relevancia? ¿Cuál es el valor a predecir?”. Recupere esa respuesta y presente un breve resumen de los features que consideraron de mayor relevancia y el target seleccionado para predecir.\n",
    "2. El primer paso para desarrollar un modelo de aprendizaje automático es contar con datos limpios. ¿Qué pasos harían para limpiar el dataset?\n",
    "3. Es necesario poder separar el dataset en un conjunto de entrenamiento y en uno de test. ¿Cómo realizaría esta separación? ¿Qué tamaño emplearía para cada uno considerando que partimos de 500.000 datos?\n",
    "4. Dados los datos que disponemos y el target antes seleccionado, ¿qué tipo de modelo emplearían (regresión o clasificación)?\n",
    "5. Definir el modelo a utilizar, entrenar y evaluar el mismo utilizando los valores por defecto propios de la librería scikit-learn. Analizar los resultados obtenidos en el contexto de la problemática (por ejemplo, ¿por qué creen que para ciertos valores del target tiene mejor performance que para otros?).\n",
    "6. Modificar los hiperparámetros propios del modelo, y volver a entrenar y evaluar. ¿Por qué se eligió dicho valor para modificar? ¿Qué consecuencias tuvo? ¿Mejoró la performance del modelo? Analice los resultados obtenidos en el contexto de la problemática.\n",
    "7. En los puntos anteriores se seleccionó un modelo de regresión o bien uno de clasificación. Realice una prueba con un modelo del otro tipo y comente sobre las métricas y los resultados obtenidos. ¿Por qué tuvo mejor o peor perfomance?\n",
    "\n",
    "Esta comunicación debe estar dirigida para un público técnico pero que desconoce los aspectos propios del problema a resolver (por ejemplo, sus compañeros de clase). Se evaluará, principalmente, la claridad del mensaje presentado, el uso de las herramientas, los conceptos y los modelos desarrollados en las clases teóricas. "
   ]
  },
  {
   "cell_type": "markdown",
   "metadata": {},
   "source": [
    "## Estructura del informe"
   ]
  },
  {
   "cell_type": "markdown",
   "metadata": {},
   "source": [
    "\n",
    "El informe debe contar con la estructura propia de un reporte de un experimento científico. Esto implica que debe tener un objetivo claro, una introducción a la problemática a resolver en dicho informe (no únicamente al problema general), una descripción de los datos a emplear, el desarrollo propiamente dicho del experimento y las conclusiones que se obtuvieron.\n",
    "\n",
    "En el informe se deberá brindar una descripción del dataset suministrado (columnas, tipo de variables, valores extremos, etc.), las visualizaciones realizadas que sean pertinentes para la resolución del práctico, un análisis del modelo seleccionado, el análisis y las respuestas a las preguntas indicadas anteriormente, y las conclusiones.\n"
   ]
  },
  {
   "cell_type": "markdown",
   "metadata": {},
   "source": [
    "## Entrega"
   ]
  },
  {
   "cell_type": "markdown",
   "metadata": {},
   "source": [
    "* Muestra de avance: Viernes 19 de Julio\n",
    "* Informe final: Viernes 26 de Julio"
   ]
  },
  {
   "cell_type": "markdown",
   "metadata": {
    "colab_type": "text",
    "id": "QOIdddL4bOfA"
   },
   "source": [
    "## Desarrollo"
   ]
  },
  {
   "cell_type": "code",
   "execution_count": 1,
   "metadata": {
    "colab": {},
    "colab_type": "code",
    "id": "DFLvheh7b0xL"
   },
   "outputs": [],
   "source": [
    "import matplotlib.pyplot as plt\n",
    "import numpy as np\n",
    "import pandas as pd\n",
    "\n",
    "BLUE = '#35A7FF'\n",
    "RED = '#FF5964'\n",
    "GREEN = '#6BF178'\n",
    "YELLOW = '#FFE74C'\n",
    "\n",
    "RELATIVE_PATH = './'\n",
    "DATA_FILE = 'data_sample_corrected_cleaned.csv'\n",
    "\n",
    "# Establecemos una semilla por cuestiones de reproducibilidad\n",
    "np.random.seed(0)"
   ]
  },
  {
   "cell_type": "markdown",
   "metadata": {
    "colab_type": "text",
    "id": "GyHVCkkqb8Dz"
   },
   "source": [
    "### Lectura y análisis inicial de los datos"
   ]
  },
  {
   "cell_type": "code",
   "execution_count": 2,
   "metadata": {
    "colab": {},
    "colab_type": "code",
    "id": "59nP6TMibpTL"
   },
   "outputs": [],
   "source": [
    "ds = pd.read_csv(RELATIVE_PATH + DATA_FILE, \n",
    "                       dtype={'sender_zipcode':'int64',\n",
    "                              'receiver_zipcode':'int64',\n",
    "                              'quantity':'int64',\n",
    "                              'service':'int64'},\n",
    "                       parse_dates=['date_created','date_sent','date_visit'])"
   ]
  },
  {
   "cell_type": "code",
   "execution_count": 3,
   "metadata": {
    "colab": {
     "base_uri": "https://localhost:8080/",
     "height": 83
    },
    "colab_type": "code",
    "id": "K9cpWdHa3ae4",
    "outputId": "80683362-f59e-4099-fee4-64d1168e090f"
   },
   "outputs": [
    {
     "data": {
      "text/plain": [
       "Index(['sender_state', 'sender_zipcode', 'receiver_state', 'receiver_zipcode',\n",
       "       'shipment_type', 'quantity', 'service', 'status', 'date_created',\n",
       "       'date_sent', 'date_visit', 'shipment_days'],\n",
       "      dtype='object')"
      ]
     },
     "execution_count": 3,
     "metadata": {},
     "output_type": "execute_result"
    }
   ],
   "source": [
    "ds.columns"
   ]
  },
  {
   "cell_type": "code",
   "execution_count": 4,
   "metadata": {
    "colab": {
     "base_uri": "https://localhost:8080/",
     "height": 300
    },
    "colab_type": "code",
    "id": "NXEwu3Be3s1y",
    "outputId": "84b7e295-723f-44aa-8834-fd469f7b0ef5"
   },
   "outputs": [
    {
     "name": "stdout",
     "output_type": "stream",
     "text": [
      "<class 'pandas.core.frame.DataFrame'>\n",
      "RangeIndex: 496860 entries, 0 to 496859\n",
      "Data columns (total 12 columns):\n",
      "sender_state        496860 non-null object\n",
      "sender_zipcode      496860 non-null int64\n",
      "receiver_state      496860 non-null object\n",
      "receiver_zipcode    496860 non-null int64\n",
      "shipment_type       496860 non-null object\n",
      "quantity            496860 non-null int64\n",
      "service             496860 non-null int64\n",
      "status              496860 non-null object\n",
      "date_created        496860 non-null datetime64[ns]\n",
      "date_sent           496860 non-null datetime64[ns]\n",
      "date_visit          496860 non-null datetime64[ns]\n",
      "shipment_days       496860 non-null float64\n",
      "dtypes: datetime64[ns](3), float64(1), int64(4), object(4)\n",
      "memory usage: 45.5+ MB\n"
     ]
    }
   ],
   "source": [
    "ds.info()"
   ]
  },
  {
   "cell_type": "code",
   "execution_count": 5,
   "metadata": {
    "colab": {
     "base_uri": "https://localhost:8080/",
     "height": 534
    },
    "colab_type": "code",
    "id": "7MyczHXg3wkN",
    "outputId": "5140f703-b4df-49a6-cc8f-ffedb4d1bc40",
    "scrolled": true
   },
   "outputs": [
    {
     "data": {
      "text/html": [
       "<div>\n",
       "<style scoped>\n",
       "    .dataframe tbody tr th:only-of-type {\n",
       "        vertical-align: middle;\n",
       "    }\n",
       "\n",
       "    .dataframe tbody tr th {\n",
       "        vertical-align: top;\n",
       "    }\n",
       "\n",
       "    .dataframe thead th {\n",
       "        text-align: right;\n",
       "    }\n",
       "</style>\n",
       "<table border=\"1\" class=\"dataframe\">\n",
       "  <thead>\n",
       "    <tr style=\"text-align: right;\">\n",
       "      <th></th>\n",
       "      <th>sender_state</th>\n",
       "      <th>sender_zipcode</th>\n",
       "      <th>receiver_state</th>\n",
       "      <th>receiver_zipcode</th>\n",
       "      <th>shipment_type</th>\n",
       "      <th>quantity</th>\n",
       "      <th>service</th>\n",
       "      <th>status</th>\n",
       "      <th>date_created</th>\n",
       "      <th>date_sent</th>\n",
       "      <th>date_visit</th>\n",
       "      <th>shipment_days</th>\n",
       "    </tr>\n",
       "  </thead>\n",
       "  <tbody>\n",
       "    <tr>\n",
       "      <th>271424</th>\n",
       "      <td>SP</td>\n",
       "      <td>8740</td>\n",
       "      <td>RS</td>\n",
       "      <td>91060</td>\n",
       "      <td>standard</td>\n",
       "      <td>1</td>\n",
       "      <td>3</td>\n",
       "      <td>done</td>\n",
       "      <td>2019-03-13</td>\n",
       "      <td>2019-03-14 04:04:00</td>\n",
       "      <td>2019-03-19 14:55:00</td>\n",
       "      <td>3.0</td>\n",
       "    </tr>\n",
       "    <tr>\n",
       "      <th>282432</th>\n",
       "      <td>SP</td>\n",
       "      <td>15115</td>\n",
       "      <td>SP</td>\n",
       "      <td>15470</td>\n",
       "      <td>standard</td>\n",
       "      <td>1</td>\n",
       "      <td>1</td>\n",
       "      <td>done</td>\n",
       "      <td>2019-02-23</td>\n",
       "      <td>2019-02-25 17:23:00</td>\n",
       "      <td>2019-03-07 13:02:00</td>\n",
       "      <td>5.0</td>\n",
       "    </tr>\n",
       "    <tr>\n",
       "      <th>97104</th>\n",
       "      <td>SP</td>\n",
       "      <td>2611</td>\n",
       "      <td>DF</td>\n",
       "      <td>70675</td>\n",
       "      <td>express</td>\n",
       "      <td>1</td>\n",
       "      <td>0</td>\n",
       "      <td>done</td>\n",
       "      <td>2019-03-14</td>\n",
       "      <td>2019-03-15 23:41:55</td>\n",
       "      <td>2019-03-20 12:40:00</td>\n",
       "      <td>3.0</td>\n",
       "    </tr>\n",
       "    <tr>\n",
       "      <th>245664</th>\n",
       "      <td>SP</td>\n",
       "      <td>7411</td>\n",
       "      <td>MT</td>\n",
       "      <td>78053</td>\n",
       "      <td>standard</td>\n",
       "      <td>1</td>\n",
       "      <td>2</td>\n",
       "      <td>done</td>\n",
       "      <td>2019-03-07</td>\n",
       "      <td>2019-03-11 16:33:01</td>\n",
       "      <td>2019-03-27 08:44:00</td>\n",
       "      <td>12.0</td>\n",
       "    </tr>\n",
       "    <tr>\n",
       "      <th>299387</th>\n",
       "      <td>SP</td>\n",
       "      <td>13290</td>\n",
       "      <td>SP</td>\n",
       "      <td>18650</td>\n",
       "      <td>super</td>\n",
       "      <td>1</td>\n",
       "      <td>6</td>\n",
       "      <td>done</td>\n",
       "      <td>2019-03-13</td>\n",
       "      <td>2019-03-13 17:58:08</td>\n",
       "      <td>2019-03-14 08:54:55</td>\n",
       "      <td>1.0</td>\n",
       "    </tr>\n",
       "    <tr>\n",
       "      <th>55494</th>\n",
       "      <td>SP</td>\n",
       "      <td>3929</td>\n",
       "      <td>SP</td>\n",
       "      <td>13990</td>\n",
       "      <td>express</td>\n",
       "      <td>1</td>\n",
       "      <td>0</td>\n",
       "      <td>done</td>\n",
       "      <td>2019-03-02</td>\n",
       "      <td>2019-03-04 17:48:00</td>\n",
       "      <td>2019-03-12 15:30:00</td>\n",
       "      <td>3.0</td>\n",
       "    </tr>\n",
       "    <tr>\n",
       "      <th>432549</th>\n",
       "      <td>SP</td>\n",
       "      <td>14707</td>\n",
       "      <td>SP</td>\n",
       "      <td>6730</td>\n",
       "      <td>standard</td>\n",
       "      <td>2</td>\n",
       "      <td>1</td>\n",
       "      <td>done</td>\n",
       "      <td>2019-03-21</td>\n",
       "      <td>2019-03-21 15:43:00</td>\n",
       "      <td>2019-03-25 13:51:00</td>\n",
       "      <td>2.0</td>\n",
       "    </tr>\n",
       "    <tr>\n",
       "      <th>374224</th>\n",
       "      <td>SP</td>\n",
       "      <td>13160</td>\n",
       "      <td>SP</td>\n",
       "      <td>13455</td>\n",
       "      <td>express</td>\n",
       "      <td>2</td>\n",
       "      <td>0</td>\n",
       "      <td>done</td>\n",
       "      <td>2019-03-05</td>\n",
       "      <td>2019-03-06 13:47:00</td>\n",
       "      <td>2019-03-08 17:20:00</td>\n",
       "      <td>1.0</td>\n",
       "    </tr>\n",
       "    <tr>\n",
       "      <th>269291</th>\n",
       "      <td>SP</td>\n",
       "      <td>5175</td>\n",
       "      <td>SP</td>\n",
       "      <td>13287</td>\n",
       "      <td>express</td>\n",
       "      <td>1</td>\n",
       "      <td>0</td>\n",
       "      <td>done</td>\n",
       "      <td>2019-03-17</td>\n",
       "      <td>2019-03-18 14:34:00</td>\n",
       "      <td>2019-03-20 12:20:00</td>\n",
       "      <td>2.0</td>\n",
       "    </tr>\n",
       "    <tr>\n",
       "      <th>366115</th>\n",
       "      <td>SP</td>\n",
       "      <td>12216</td>\n",
       "      <td>SP</td>\n",
       "      <td>13284</td>\n",
       "      <td>express</td>\n",
       "      <td>1</td>\n",
       "      <td>0</td>\n",
       "      <td>done</td>\n",
       "      <td>2019-03-07</td>\n",
       "      <td>2019-03-08 10:43:00</td>\n",
       "      <td>2019-03-11 12:36:00</td>\n",
       "      <td>1.0</td>\n",
       "    </tr>\n",
       "  </tbody>\n",
       "</table>\n",
       "</div>"
      ],
      "text/plain": [
       "       sender_state  sender_zipcode receiver_state  receiver_zipcode  \\\n",
       "271424           SP            8740             RS             91060   \n",
       "282432           SP           15115             SP             15470   \n",
       "97104            SP            2611             DF             70675   \n",
       "245664           SP            7411             MT             78053   \n",
       "299387           SP           13290             SP             18650   \n",
       "55494            SP            3929             SP             13990   \n",
       "432549           SP           14707             SP              6730   \n",
       "374224           SP           13160             SP             13455   \n",
       "269291           SP            5175             SP             13287   \n",
       "366115           SP           12216             SP             13284   \n",
       "\n",
       "       shipment_type  quantity  service status date_created  \\\n",
       "271424      standard         1        3   done   2019-03-13   \n",
       "282432      standard         1        1   done   2019-02-23   \n",
       "97104        express         1        0   done   2019-03-14   \n",
       "245664      standard         1        2   done   2019-03-07   \n",
       "299387         super         1        6   done   2019-03-13   \n",
       "55494        express         1        0   done   2019-03-02   \n",
       "432549      standard         2        1   done   2019-03-21   \n",
       "374224       express         2        0   done   2019-03-05   \n",
       "269291       express         1        0   done   2019-03-17   \n",
       "366115       express         1        0   done   2019-03-07   \n",
       "\n",
       "                 date_sent          date_visit  shipment_days  \n",
       "271424 2019-03-14 04:04:00 2019-03-19 14:55:00            3.0  \n",
       "282432 2019-02-25 17:23:00 2019-03-07 13:02:00            5.0  \n",
       "97104  2019-03-15 23:41:55 2019-03-20 12:40:00            3.0  \n",
       "245664 2019-03-11 16:33:01 2019-03-27 08:44:00           12.0  \n",
       "299387 2019-03-13 17:58:08 2019-03-14 08:54:55            1.0  \n",
       "55494  2019-03-04 17:48:00 2019-03-12 15:30:00            3.0  \n",
       "432549 2019-03-21 15:43:00 2019-03-25 13:51:00            2.0  \n",
       "374224 2019-03-06 13:47:00 2019-03-08 17:20:00            1.0  \n",
       "269291 2019-03-18 14:34:00 2019-03-20 12:20:00            2.0  \n",
       "366115 2019-03-08 10:43:00 2019-03-11 12:36:00            1.0  "
      ]
     },
     "execution_count": 5,
     "metadata": {},
     "output_type": "execute_result"
    }
   ],
   "source": [
    "ds.sample(10)"
   ]
  },
  {
   "cell_type": "code",
   "execution_count": null,
   "metadata": {},
   "outputs": [],
   "source": []
  }
 ],
 "metadata": {
  "colab": {
   "collapsed_sections": [],
   "name": "Mentoría Envíos - Práctico 2",
   "provenance": [],
   "version": "0.3.2"
  },
  "kernelspec": {
   "display_name": "Python 3",
   "language": "python",
   "name": "python3"
  },
  "language_info": {
   "codemirror_mode": {
    "name": "ipython",
    "version": 3
   },
   "file_extension": ".py",
   "mimetype": "text/x-python",
   "name": "python",
   "nbconvert_exporter": "python",
   "pygments_lexer": "ipython3",
   "version": "3.7.3"
  }
 },
 "nbformat": 4,
 "nbformat_minor": 1
}
