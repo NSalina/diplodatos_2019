{
 "cells": [
  {
   "cell_type": "markdown",
   "metadata": {
    "colab_type": "text",
    "id": "oM70-GU7ZLSy"
   },
   "source": [
    "# Logística de envíos: ¿Cuándo llega?\n",
    "\n",
    "## Mentoría DiploDatos 2019 \n",
    "\n",
    "### Integrantes:\n",
    "\n",
    "- Alini, Walter\n",
    "- Salina, Noelia\n",
    "\n",
    "### Mentora:\n",
    "\n",
    "- Dal Lago, Virginia\n",
    "\n",
    "### Práctico: Introducción al Apendizaje Automático"
   ]
  },
  {
   "cell_type": "markdown",
   "metadata": {
    "colab_type": "text",
    "id": "nOeFzK-zZcIM"
   },
   "source": [
    "## Motivación\n",
    "\n",
    "En la actualidad, cada vez más productos se comercializan a través de una plataforma online. Una de las principales ventajas de este sistema es que el usuario puede recibir el producto en su domicilio en una fecha determinada. Pero, ¿cómo sabemos qué día va a llegar? ¿A partir de qué datos podemos predecir la demora del envío? En este práctico se trabajará con datos de envíos de MercadoLibre, el e-commerce más grande de Latinoamérica, analizando y modelando el problema de logística de envíos para poder responder ¿cuándo llega?\n",
    "\n",
    "## Descripción del dataset\n",
    "\n",
    "**Datos:**  El conjunto de datos seleccionado para realizar el práctico corresponde a un muestreo aleatorio no uniforme de 500.000 envíos de MercadoLibre. Estos envíos fueron realizados en Brasil en el período comprendido entre Octubre de 2018 y Abril de 2019 (las fechas originales han sido modificadas y adaptadas a un período de tiempo diferente, conservando el día de la semana y considerando los feriados correspondientes). Mientras que las fechas han sido modificadas, los horarios registrados en el dataset son los originales. Los datos comprenden variables tanto categóricas como numéricas. \n",
    "\n",
    "El dataset cuenta con las siguientes columnas:\n",
    "\n",
    "- **Sender_state:** Estado de Brasil de donde sale el envío.\n",
    "- **Sender_zipcode:** Código postal (de 5 dígitos) de donde sale el envío.\n",
    "- **Receiver_state:** Estado de Brasil a donde llega el envío.\n",
    "- **Receiver_zipcode:** Código postal (de 5 dígitos) a donde llega el envío.\n",
    "- **Shipment_type:** Método de envío (normal, express, super).\n",
    "- **Quantity:** Cantidad de productos en un envío.\n",
    "- **Service:** Servicio del correo con el cual se realizó un envío.\n",
    "- **Status:** Estado del envío (set: listo para ser enviado, sent: enviado, done: entregado, failed: no entregado, cancelled: cancelado).\n",
    "- **Date_created:** Fecha de creación del envío.\n",
    "- **Date_sent:** Fecha y hora en que se realizó el envío (salió del correo).\n",
    "- **Date_visit:** Fecha y hora en que se entregó el envío al destinatario.\n",
    "- **Shipment_days:** Días hábiles entre que el envío fue enviado (salió del correo) y que fue entregado."
   ]
  },
  {
   "cell_type": "markdown",
   "metadata": {
    "colab_type": "text",
    "id": "0aMgSG5NZm55"
   },
   "source": [
    "## Objetivos generales\n",
    "\n",
    "* Realizar de manera completa el proceso de desarrollo de un modelo de aprendizaje automático para determinar cuándo llega un envío. \n",
    "* Desarrollar el conocimiento práctico sobre dicho proceso, desde la definición de los datasets, la elección y análisis del modelo y las métricas propias para la problemática.\n",
    "* Desarrollar habilidades de comunicación de la información obtenida a partir de los datos de manera clara y sencilla.\n"
   ]
  },
  {
   "cell_type": "markdown",
   "metadata": {
    "colab_type": "text",
    "id": "06srV32U2q7J"
   },
   "source": [
    "## Objetivos específicos\n",
    "\n",
    "* Desafiar las decisiones e implementaciones realizadas en el práctico anterior, respecto a la transformación y selección de features.\n",
    "* Aprender y aplicar técnicas de particionado de datasets para problemáticas de naturaleza temporal.\n",
    "* Afianzar los conocimientos sobre los tipos de modelos aplicables a la problemática y ampliación de los criterios para la selección de los mismos.\n",
    "* Ampliar la experiencia en la selección de hiperparámetros y la evaluación de modelos.\n",
    "* Conocer, compartir e incrementar la dinámica de trabajo grupal."
   ]
  },
  {
   "cell_type": "markdown",
   "metadata": {
    "colab_type": "text",
    "id": "o-XE83TKaPDv"
   },
   "source": [
    "## Metodología\n",
    "\n",
    "A partir de lo estudiado en las clases teóricas y prácticas de la materia “Introducción al aprendizaje automático”, realizar un informe en formato de notebook o interactivo, en el cual se respondan, y justifiquen, las siguientes preguntas (además de cualquiera otra información extra que se considere de relevancia sobre la problemática): \n",
    "\n",
    "1. En el práctico anterior se respondió al siguiente enunciado: “A la hora de determinar la promesa de entrega de un envío (fecha estimada de llegada), ¿cuáles son los features que consideran pueden tener mayor relevancia? ¿Cuál es el valor a predecir?”. Recupere esa respuesta y presente un breve resumen de los features que consideraron de mayor relevancia y el target seleccionado para predecir.\n",
    "2. El primer paso para desarrollar un modelo de aprendizaje automático es contar con datos limpios. ¿Qué pasos harían para limpiar el dataset?\n",
    "3. Es necesario poder separar el dataset en un conjunto de entrenamiento y en uno de test. ¿Cómo realizaría esta separación? ¿Qué tamaño emplearía para cada uno considerando que partimos de 500.000 datos?\n",
    "4. Dados los datos que disponemos y el target antes seleccionado, ¿qué tipo de modelo emplearían (regresión o clasificación)?\n",
    "5. Definir el modelo a utilizar, entrenar y evaluar el mismo utilizando los valores por defecto propios de la librería scikit-learn. Analizar los resultados obtenidos en el contexto de la problemática (por ejemplo, ¿por qué creen que para ciertos valores del target tiene mejor performance que para otros?).\n",
    "6. Modificar los hiperparámetros propios del modelo, y volver a entrenar y evaluar. ¿Por qué se eligió dicho valor para modificar? ¿Qué consecuencias tuvo? ¿Mejoró la performance del modelo? Analice los resultados obtenidos en el contexto de la problemática.\n",
    "7. En los puntos anteriores se seleccionó un modelo de regresión o bien uno de clasificación. Realice una prueba con un modelo del otro tipo y comente sobre las métricas y los resultados obtenidos. ¿Por qué tuvo mejor o peor perfomance?\n",
    "\n",
    "Esta comunicación debe estar dirigida para un público técnico pero que desconoce los aspectos propios del problema a resolver (por ejemplo, sus compañeros de clase). Se evaluará, principalmente, la claridad del mensaje presentado, el uso de las herramientas, los conceptos y los modelos desarrollados en las clases teóricas. "
   ]
  },
  {
   "cell_type": "markdown",
   "metadata": {},
   "source": [
    "## Estructura del informe"
   ]
  },
  {
   "cell_type": "markdown",
   "metadata": {},
   "source": [
    "\n",
    "El informe debe contar con la estructura propia de un reporte de un experimento científico. Esto implica que debe tener un objetivo claro, una introducción a la problemática a resolver en dicho informe (no únicamente al problema general), una descripción de los datos a emplear, el desarrollo propiamente dicho del experimento y las conclusiones que se obtuvieron.\n",
    "\n",
    "En el informe se deberá brindar una descripción del dataset suministrado (columnas, tipo de variables, valores extremos, etc.), las visualizaciones realizadas que sean pertinentes para la resolución del práctico, un análisis del modelo seleccionado, el análisis y las respuestas a las preguntas indicadas anteriormente, y las conclusiones.\n"
   ]
  },
  {
   "cell_type": "markdown",
   "metadata": {},
   "source": [
    "## Entrega"
   ]
  },
  {
   "cell_type": "markdown",
   "metadata": {},
   "source": [
    "* Muestra de avance: Viernes 19 de Julio\n",
    "* Informe final: Viernes 26 de Julio"
   ]
  },
  {
   "cell_type": "markdown",
   "metadata": {
    "colab_type": "text",
    "id": "QOIdddL4bOfA"
   },
   "source": [
    "## Desarrollo"
   ]
  },
  {
   "cell_type": "code",
   "execution_count": 3,
   "metadata": {
    "colab": {},
    "colab_type": "code",
    "id": "DFLvheh7b0xL"
   },
   "outputs": [],
   "source": [
    "import matplotlib.pyplot as plt\n",
    "import numpy as np\n",
    "import pandas as pd\n",
    "import datetime\n",
    "import seaborn as sns\n",
    "import time\n",
    "import math\n",
    "\n",
    "from sklearn.model_selection import GridSearchCV\n",
    "from sklearn.model_selection import RandomizedSearchCV\n",
    "from sklearn import linear_model, tree, neighbors, svm\n",
    "from sklearn.neighbors import KNeighborsClassifier\n",
    "from sklearn.ensemble import RandomForestClassifier, GradientBoostingClassifier\n",
    "from sklearn.metrics import accuracy_score, classification_report, confusion_matrix, mean_squared_error, make_scorer\n",
    "\n",
    "from sklearn.model_selection import train_test_split\n",
    "from sklearn.preprocessing import StandardScaler\n",
    "\n",
    "from ml.visualization import plot_confusion_matrix, plot_learning_curve\n",
    "\n",
    "#import warnings\n",
    "#warnings.filterwarnings('ignore')\n",
    "\n",
    "BLUE = '#35A7FF'\n",
    "RED = '#FF5964'\n",
    "GREEN = '#6BF178'\n",
    "YELLOW = '#FFE74C'\n",
    "\n",
    "RELATIVE_PATH = './'\n",
    "DATA_FILE_FEATURES = 'data_sample_cleaned_features.csv'\n",
    "\n",
    "TARGET_ID = 'shipment_days_category'\n",
    "TARGET_CLASES = [x for x in range(6)]\n",
    "\n",
    "TARGET_ID_REG = 'shipment_days'\n",
    "\n",
    "# Establecemos una semilla por cuestiones de reproducibilidad\n",
    "np.random.seed(0)"
   ]
  },
  {
   "cell_type": "code",
   "execution_count": 4,
   "metadata": {},
   "outputs": [],
   "source": [
    "def rsme(real, prediction):\n",
    "    \"\"\"\n",
    "    Returns Root Square Mean Error\n",
    "    \"\"\"\n",
    "    sme = mean_squared_error(real, prediction)\n",
    "    return sme**0.5\n",
    "\n",
    "\n",
    "def threshold_round (number, threshold = 0.5):\n",
    "    \"\"\"\n",
    "    Redondea number hacia arriba o abajo en función de threshold\n",
    "    \"\"\" \n",
    "    (p_decimal, p_entera) = math.modf(number)\n",
    "    if p_decimal < threshold:\n",
    "        return int(p_entera)\n",
    "    else:\n",
    "        return int(p_entera) + 1\n",
    "\n",
    "def is_in (number, mi, ma):\n",
    "    return mi <= number <= ma\n",
    "\n",
    "def map_categories_5 (number):\n",
    "    \"\"\"\n",
    "    Clasifica number a la \"categoría\" del 0 al 5 más cercana\n",
    "    \"\"\" \n",
    "    number = threshold_round (number)\n",
    "    transform_list = [([-500,1], 0),\n",
    "                      ([2,3], 1),\n",
    "                      ([4,5], 2),\n",
    "                      ([6,7], 3),\n",
    "                      ([8,9], 4),\n",
    "                      ([10, 500], 5)]\n",
    "    for tuple_map in transform_list:\n",
    "        if is_in (number, tuple_map[0][0],tuple_map[0][1]):\n",
    "            return tuple_map[1]\n",
    "    return \"error\"\n",
    "\n",
    "def classify_regression_5 (predictions):\n",
    "    \"\"\"\n",
    "    Para cada elemento de predictions (array), vamos a llevarlo\n",
    "    a la categoría más cercana\n",
    "    \"\"\" \n",
    "\n",
    "    return list(map (map_categories_5, predictions))"
   ]
  },
  {
   "cell_type": "markdown",
   "metadata": {
    "colab_type": "text",
    "id": "GyHVCkkqb8Dz"
   },
   "source": [
    "### Lectura y análisis inicial de los datos"
   ]
  },
  {
   "cell_type": "code",
   "execution_count": 5,
   "metadata": {
    "colab": {},
    "colab_type": "code",
    "id": "59nP6TMibpTL"
   },
   "outputs": [],
   "source": [
    "ds = pd.read_csv(RELATIVE_PATH + DATA_FILE_FEATURES, \n",
    "                       dtype={'sender_zipcode':'int64',\n",
    "                              'receiver_zipcode':'int64',\n",
    "                              'quantity':'int64',\n",
    "                              'service':'int64'},\n",
    "                       parse_dates=['date_created','date_sent','date_visit'])"
   ]
  },
  {
   "cell_type": "markdown",
   "metadata": {},
   "source": [
    "A continuación se muestran los datos (con sus correspondientes tipos) que se utilizarán durante el experimento, el cual fue obtenido a partir del dataset de features del **Práctico Nº2**"
   ]
  },
  {
   "cell_type": "code",
   "execution_count": 6,
   "metadata": {
    "colab": {
     "base_uri": "https://localhost:8080/",
     "height": 300
    },
    "colab_type": "code",
    "id": "NXEwu3Be3s1y",
    "outputId": "84b7e295-723f-44aa-8834-fd469f7b0ef5",
    "scrolled": true
   },
   "outputs": [
    {
     "name": "stdout",
     "output_type": "stream",
     "text": [
      "<class 'pandas.core.frame.DataFrame'>\n",
      "RangeIndex: 490439 entries, 0 to 490438\n",
      "Data columns (total 28 columns):\n",
      "sender_state              490439 non-null object\n",
      "sender_zipcode            490439 non-null int64\n",
      "receiver_state_0          490439 non-null int64\n",
      "receiver_state_1          490439 non-null int64\n",
      "receiver_state_2          490439 non-null int64\n",
      "receiver_state_3          490439 non-null int64\n",
      "receiver_state_4          490439 non-null int64\n",
      "receiver_state_5          490439 non-null int64\n",
      "receiver_zipcode          490439 non-null int64\n",
      "shipment_type             490439 non-null object\n",
      "quantity                  490439 non-null int64\n",
      "service_0                 490439 non-null int64\n",
      "service_1                 490439 non-null int64\n",
      "service_2                 490439 non-null int64\n",
      "service_3                 490439 non-null int64\n",
      "service_4                 490439 non-null int64\n",
      "status                    490439 non-null object\n",
      "date_created              490439 non-null datetime64[ns]\n",
      "date_sent                 490439 non-null datetime64[ns]\n",
      "date_visit                490439 non-null datetime64[ns]\n",
      "shipment_days             490439 non-null float64\n",
      "receiver_state            490439 non-null object\n",
      "receiver_frequency        490439 non-null int64\n",
      "distance                  490439 non-null int64\n",
      "tf_sender_zipcode         490439 non-null int64\n",
      "tf_receiver_zipcode       490439 non-null int64\n",
      "standard                  490439 non-null int64\n",
      "shipment_days_category    490439 non-null int64\n",
      "dtypes: datetime64[ns](3), float64(1), int64(20), object(4)\n",
      "memory usage: 104.8+ MB\n"
     ]
    }
   ],
   "source": [
    "ds.info()"
   ]
  },
  {
   "cell_type": "markdown",
   "metadata": {},
   "source": [
    "### 1. Resumen de features relevantes\n",
    "\n",
    "> En el práctico anterior se respondió al siguiente enunciado: “A la hora de determinar la promesa de entrega de un envío (fecha estimada de llegada), ¿cuáles son los features que consideran pueden tener mayor relevancia? ¿Cuál es el valor a predecir?”. Recupere esa respuesta y presente un breve resumen de los features que consideraron de mayor relevancia y el target seleccionado para predecir\n",
    "\n",
    "Del práctico número 2, se llegó a la conclusión de que los features que mayor valor aportaban eran:\n",
    "* service\n",
    "* receiver_zipcode\n",
    "\n",
    "Por otro lado, el valor a predecir se decidió que sea un conjunto de categorías que representaban rangos de tiempos de entrega:\n",
    "* shipment_days_category"
   ]
  },
  {
   "cell_type": "code",
   "execution_count": 7,
   "metadata": {},
   "outputs": [],
   "source": [
    "selected_features = ['service_0', 'service_1', 'service_2', 'service_3', 'service_4', 'tf_receiver_zipcode']\n"
   ]
  },
  {
   "cell_type": "markdown",
   "metadata": {},
   "source": [
    "De todas maneras, definimos un listado completo de features para analizar posteriormente ya que resulta de interés explorar cómo se comportan los modelos con todos los features y no limitar el análisis sólo a dos de ellos."
   ]
  },
  {
   "cell_type": "code",
   "execution_count": 8,
   "metadata": {},
   "outputs": [
    {
     "data": {
      "text/plain": [
       "Index(['sender_state', 'sender_zipcode', 'receiver_state_0',\n",
       "       'receiver_state_1', 'receiver_state_2', 'receiver_state_3',\n",
       "       'receiver_state_4', 'receiver_state_5', 'receiver_zipcode',\n",
       "       'shipment_type', 'quantity', 'service_0', 'service_1', 'service_2',\n",
       "       'service_3', 'service_4', 'status', 'date_created', 'date_sent',\n",
       "       'date_visit', 'shipment_days', 'receiver_state', 'receiver_frequency',\n",
       "       'distance', 'tf_sender_zipcode', 'tf_receiver_zipcode', 'standard',\n",
       "       'shipment_days_category'],\n",
       "      dtype='object')"
      ]
     },
     "execution_count": 8,
     "metadata": {},
     "output_type": "execute_result"
    }
   ],
   "source": [
    "ds.columns"
   ]
  },
  {
   "cell_type": "code",
   "execution_count": 9,
   "metadata": {},
   "outputs": [],
   "source": [
    "features_all = [ 'receiver_state_0',\n",
    "       'receiver_state_1', 'receiver_state_2', 'receiver_state_3',\n",
    "       'receiver_state_4', 'receiver_state_5', 'quantity', 'service_0', 'service_1', 'service_2',\n",
    "       'service_3', 'service_4','receiver_frequency',\n",
    "       'distance', 'tf_sender_zipcode', 'tf_receiver_zipcode', 'standard']"
   ]
  },
  {
   "cell_type": "markdown",
   "metadata": {},
   "source": [
    "### 2. Limpieza de datos\n",
    "\n",
    "> El primer paso para desarrollar un modelo de aprendizaje automático es contar con datos limpios. ¿Qué pasos harían para limpiar el dataset?\n",
    "\n",
    "En los prácticos anteriores se implementaron prácticas para lograr un dataset limpio, entre las cuales se encontraron:\n",
    "\n",
    "* Limpieza de nulos\n",
    "* Limpieza de duplicados\n",
    "* Limpieza de valores inconsistentes (shipment_days negativos)\n",
    "\n",
    "A continuación se muestra que lo anterior ya no se encuentra presente en el dataset con el que se llevará a cabo el siguiente trabajo."
   ]
  },
  {
   "cell_type": "code",
   "execution_count": 10,
   "metadata": {},
   "outputs": [
    {
     "name": "stdout",
     "output_type": "stream",
     "text": [
      "Chequeo de nulos: True\n",
      "Chequeo de duplicados: True\n",
      "Chequeo de inconsistentes: True\n"
     ]
    }
   ],
   "source": [
    "check_null = ds[ds.notnull()].shape == ds.shape\n",
    "check_duplicates = ds[ds.duplicated()].shape[0] == 0\n",
    "check_inconsistent = ds[ds.shipment_days < 0].shape[0] == 0\n",
    "print(f'Chequeo de nulos: {check_null}')\n",
    "print(f'Chequeo de duplicados: {check_duplicates}')\n",
    "print(f'Chequeo de inconsistentes: {check_inconsistent}')"
   ]
  },
  {
   "cell_type": "markdown",
   "metadata": {},
   "source": [
    "Bajo la hipótesis de que podrían existir datos 'outliers' que no deseamos que sean tomados por nuestro modelo para aprender, y luego predecir, analizamos la demora de los envíos junto con la distancia de los mismos.\n",
    "\n",
    "En este caso esperamos visualizar que los envíos con menores distancias, estén concentrados en categorías con menor demora."
   ]
  },
  {
   "cell_type": "code",
   "execution_count": 11,
   "metadata": {
    "scrolled": false
   },
   "outputs": [
    {
     "data": {
      "text/plain": [
       "<matplotlib.axes._subplots.AxesSubplot at 0x1a284e8f98>"
      ]
     },
     "execution_count": 11,
     "metadata": {},
     "output_type": "execute_result"
    },
    {
     "data": {
      "image/png": "[encoded data removed]",
      "text/plain": [
       "<Figure size 720x432 with 1 Axes>"
      ]
     },
     "metadata": {
      "needs_background": "light"
     },
     "output_type": "display_data"
    }
   ],
   "source": [
    "plt.figure(figsize=(10,6))\n",
    "sns.boxplot(data=ds,\n",
    "                  x='shipment_days_category', y='distance')"
   ]
  },
  {
   "cell_type": "markdown",
   "metadata": {},
   "source": [
    "Del gráfico anterior, podemos observar el comportamiento esperado ya que:\n",
    "- la categoría 0 (0 a 1 días de demora) concentra envíos de distancias alrededor de 0km\n",
    "- las categorías 1 y 2 tienen envíos en el mismo rango de distancias pero sus medianas muestran que, en general, en la categoría 2 hay envíos con mayores distancias.\n",
    "- las categorías 3 y 4, de manera similar a las dos anteriores, aunque mucho menos marcado, muestran el comportamiento esperado.\n",
    "- la categoría 5 (10 o más días de demora) tiene envíos cuyas distancias, en su mayoría, son mayores a las demás categorías\n",
    "\n",
    "Por lo tanto, se continua el práctico sin eliminar (más) datos."
   ]
  },
  {
   "cell_type": "markdown",
   "metadata": {},
   "source": [
    "### 3. Separación de dataset en Train y Test\n",
    "\n",
    "> Es necesario poder separar el dataset en un conjunto de entrenamiento y en uno de test. ¿Cómo realizaría esta separación? ¿Qué tamaño emplearía para cada uno considerando que partimos de 500.000 datos?\n",
    "\n",
    "En primera instancia se decide intentar una partición por porcentaje de datos, 80% para train y 20% para test, pero al tener el día 14-03-2019 compartido por ambos datasets, se decidió particionar por esa fecha. Por lo tanto, todos aquellos envíos creados hasta el día 14-03-2019 (inclusive) serán utilizados para entrenar (dataset de train) y los demás, para probar nuestros modelos (dataset de test).\n",
    "\n",
    "El motivo por el cual se decidió tomar una partición aproximada a 80-20 se basó en lograr un equilibrio entre tener un gran porcentaje de datos para que nuestros modelos puedan aprender de ellos y un porcentaje inferior pero significativo (dada la gran cantidad de datos disponibles) para probar que nuestros modelos lograron generalizar bien el aprendizaje adquirido en el entrenamiento."
   ]
  },
  {
   "cell_type": "code",
   "execution_count": 12,
   "metadata": {},
   "outputs": [
    {
     "data": {
      "text/plain": [
       "count                  392351\n",
       "unique                     94\n",
       "top       2019-03-05 00:00:00\n",
       "freq                    19802\n",
       "first     2018-10-21 00:00:00\n",
       "last      2019-03-14 00:00:00\n",
       "Name: date_created, dtype: object"
      ]
     },
     "execution_count": 12,
     "metadata": {},
     "output_type": "execute_result"
    }
   ],
   "source": [
    "# se ordenan los envíos por fecha de creación (ascendentemente)\n",
    "ds = ds.sort_values('date_created', ascending=True).reset_index(drop=True)\n",
    "\n",
    "# se define inicialmente un tamaño para el dataset de train equivalente al 80% del tamaño total del dataset\n",
    "train_size = int(ds.shape[0]*0.80) - 1\n",
    "\n",
    "# se muestra la cantidad de envíos que quedarían en el dataset de train si se particionara con el criterio del\n",
    "# porcentaje. Se muestran también las fechas de los envíos que quedarían en el dataset de train\n",
    "ds.loc[0:train_size,:].date_created.describe()"
   ]
  },
  {
   "cell_type": "code",
   "execution_count": 13,
   "metadata": {},
   "outputs": [
    {
     "data": {
      "text/plain": [
       "count                   98088\n",
       "unique                     15\n",
       "top       2019-03-19 00:00:00\n",
       "freq                    12439\n",
       "first     2019-03-14 00:00:00\n",
       "last      2019-03-28 00:00:00\n",
       "Name: date_created, dtype: object"
      ]
     },
     "execution_count": 13,
     "metadata": {},
     "output_type": "execute_result"
    }
   ],
   "source": [
    "# Se muestra la cantidad de envíos que quedarían en el dataset de test si se particionara con el criterio del\n",
    "# porcentaje. Se muestran también las fechas de los envíos que quedarían en el dataset de test\n",
    "ds.loc[train_size + 1 :,:].date_created.describe()"
   ]
  },
  {
   "cell_type": "code",
   "execution_count": 14,
   "metadata": {},
   "outputs": [
    {
     "data": {
      "text/plain": [
       "count                  395577\n",
       "unique                     94\n",
       "top       2019-03-05 00:00:00\n",
       "freq                    19802\n",
       "first     2018-10-21 00:00:00\n",
       "last      2019-03-14 00:00:00\n",
       "Name: date_created, dtype: object"
      ]
     },
     "execution_count": 14,
     "metadata": {},
     "output_type": "execute_result"
    }
   ],
   "source": [
    "# Se define una fecha que utilizaremos como thresold para realizar la partición de datasets train y test\n",
    "threshold_date = '2019-03-14'\n",
    "\n",
    "# Se muestra la cantidad de envíos que quedarían en el dataset de train si se particiona con el criterio\n",
    "# de la fecha. Se muestran también las fechas de los envíos que quedarían en el dataset de train\n",
    "ds[ds.date_created <= threshold_date].date_created.describe()"
   ]
  },
  {
   "cell_type": "code",
   "execution_count": 15,
   "metadata": {},
   "outputs": [
    {
     "data": {
      "text/plain": [
       "count                   94862\n",
       "unique                     14\n",
       "top       2019-03-19 00:00:00\n",
       "freq                    12439\n",
       "first     2019-03-15 00:00:00\n",
       "last      2019-03-28 00:00:00\n",
       "Name: date_created, dtype: object"
      ]
     },
     "execution_count": 15,
     "metadata": {},
     "output_type": "execute_result"
    }
   ],
   "source": [
    "# se muestra la cantidad de envíos que quedarían en el dataset de test si se particiona con el criterio de la\n",
    "# fecha. Se muestran también las fechas de los envíos que quedarían en el dataset de test\n",
    "ds[ds.date_created > threshold_date].date_created.describe()"
   ]
  },
  {
   "cell_type": "code",
   "execution_count": 16,
   "metadata": {},
   "outputs": [
    {
     "data": {
      "text/plain": [
       "True     0.806577\n",
       "False    0.193423\n",
       "Name: ds_train, dtype: float64"
      ]
     },
     "execution_count": 16,
     "metadata": {},
     "output_type": "execute_result"
    }
   ],
   "source": [
    "# una vez adoptado un criterio, el de la fecha, se genera una nueva columna para contener el indicador de a cual\n",
    "# dataset pertenece cada envío y se muestran los procentajes finales de cada dataset.\n",
    "ds.loc[ds.date_created <= threshold_date, 'ds_train'] = True\n",
    "ds.loc[ds.date_created > threshold_date, 'ds_train'] = False\n",
    "ds['ds_train'].value_counts(normalize=True)"
   ]
  },
  {
   "cell_type": "markdown",
   "metadata": {},
   "source": [
    "#### 3.1 Análisis de distribución de clases\n",
    "\n",
    "Antes de proceder con la división en Train y Test, repasamos la distribución de categorías del DS completo. "
   ]
  },
  {
   "cell_type": "code",
   "execution_count": 17,
   "metadata": {},
   "outputs": [
    {
     "data": {
      "text/plain": [
       "<matplotlib.axes._subplots.AxesSubplot at 0x1a2b503a20>"
      ]
     },
     "execution_count": 17,
     "metadata": {},
     "output_type": "execute_result"
    },
    {
     "data": {
      "image/png": "[encoded data removed]",
      "text/plain": [
       "<Figure size 432x288 with 1 Axes>"
      ]
     },
     "metadata": {
      "needs_background": "light"
     },
     "output_type": "display_data"
    }
   ],
   "source": [
    "ds[TARGET_ID].value_counts(normalize=True,sort=False).plot(kind='bar',title='Distribución de clases en DS')"
   ]
  },
  {
   "cell_type": "markdown",
   "metadata": {},
   "source": [
    "Se puede observar que el dataset tiene como clase mayoritaria a la categoría 1, seguido de la 0 y 5 y finalmente las 2, 3 y 4."
   ]
  },
  {
   "cell_type": "code",
   "execution_count": 18,
   "metadata": {},
   "outputs": [
    {
     "data": {
      "text/plain": [
       "<matplotlib.axes._subplots.AxesSubplot at 0x1a28e82eb8>"
      ]
     },
     "execution_count": 18,
     "metadata": {},
     "output_type": "execute_result"
    },
    {
     "data": {
      "image/png": "[encoded data removed]",
      "text/plain": [
       "<Figure size 432x288 with 1 Axes>"
      ]
     },
     "metadata": {
      "needs_background": "light"
     },
     "output_type": "display_data"
    }
   ],
   "source": [
    "ds[ds.ds_train][TARGET_ID].value_counts(normalize=True,sort=False).plot(kind='bar', \\\n",
    "                                                                    title='Distribución de clases en DS TRAIN')"
   ]
  },
  {
   "cell_type": "markdown",
   "metadata": {},
   "source": [
    "Se observa que el DS Train tiene una distribución de categorías muy parecida a la del DS completo. En el contexto de la problemática y la solución que perseguimos, interpretamos que esta condición puede resultar favorable para que el modelo que implementemos pueda entrenarse (o aprender) con ejemplos que son representativos del total de casos disponibles."
   ]
  },
  {
   "cell_type": "code",
   "execution_count": 19,
   "metadata": {},
   "outputs": [
    {
     "data": {
      "text/plain": [
       "<matplotlib.axes._subplots.AxesSubplot at 0x1a29867550>"
      ]
     },
     "execution_count": 19,
     "metadata": {},
     "output_type": "execute_result"
    },
    {
     "data": {
      "image/png": "[encoded data removed]",
      "text/plain": [
       "<Figure size 432x288 with 1 Axes>"
      ]
     },
     "metadata": {
      "needs_background": "light"
     },
     "output_type": "display_data"
    }
   ],
   "source": [
    "ds[~ds.ds_train][TARGET_ID].value_counts(normalize=True,sort=False).plot(kind='bar', \\\n",
    "                                                        title='Distribución de clases en DS TEST')"
   ]
  },
  {
   "cell_type": "markdown",
   "metadata": {},
   "source": [
    "En el DS Test se observa una distribución muy diferente a del DS completo, ya que la categoría 5 practicamente no tiene ejemplos que la representen. En el contexto de la solución, interpretamos esto como una situación que no debería afectar a la performance del modelo, ya que esos ejemplos son tomados para entrenar (aprender) y, aunque no se utilice ese aprendizaje, el modelo va a ser capaz de responder a ellos si le toca hacerlo. Por otro lado, en lo que sí va a afectar es que no se van a poder contar con suficientes casos para tener confianza sobre la performance del modelo para esa categoría, ya que no hay muchos casos en el DS Test.\n",
    "\n",
    "A continuación se analiza más en profundidad el desbalance de la categoría 5."
   ]
  },
  {
   "cell_type": "code",
   "execution_count": 20,
   "metadata": {},
   "outputs": [
    {
     "data": {
      "text/html": [
       "<div>\n",
       "<style scoped>\n",
       "    .dataframe tbody tr th:only-of-type {\n",
       "        vertical-align: middle;\n",
       "    }\n",
       "\n",
       "    .dataframe tbody tr th {\n",
       "        vertical-align: top;\n",
       "    }\n",
       "\n",
       "    .dataframe thead th {\n",
       "        text-align: right;\n",
       "    }\n",
       "</style>\n",
       "<table border=\"1\" class=\"dataframe\">\n",
       "  <thead>\n",
       "    <tr style=\"text-align: right;\">\n",
       "      <th></th>\n",
       "      <th>date_created</th>\n",
       "      <th>distance</th>\n",
       "      <th>standard</th>\n",
       "    </tr>\n",
       "  </thead>\n",
       "  <tbody>\n",
       "    <tr>\n",
       "      <th>count</th>\n",
       "      <td>93839</td>\n",
       "      <td>93839.000000</td>\n",
       "      <td>93839.000000</td>\n",
       "    </tr>\n",
       "    <tr>\n",
       "      <th>unique</th>\n",
       "      <td>93</td>\n",
       "      <td>NaN</td>\n",
       "      <td>NaN</td>\n",
       "    </tr>\n",
       "    <tr>\n",
       "      <th>top</th>\n",
       "      <td>2019-02-14 00:00:00</td>\n",
       "      <td>NaN</td>\n",
       "      <td>NaN</td>\n",
       "    </tr>\n",
       "    <tr>\n",
       "      <th>freq</th>\n",
       "      <td>4276</td>\n",
       "      <td>NaN</td>\n",
       "      <td>NaN</td>\n",
       "    </tr>\n",
       "    <tr>\n",
       "      <th>first</th>\n",
       "      <td>2018-10-21 00:00:00</td>\n",
       "      <td>NaN</td>\n",
       "      <td>NaN</td>\n",
       "    </tr>\n",
       "    <tr>\n",
       "      <th>last</th>\n",
       "      <td>2019-03-15 00:00:00</td>\n",
       "      <td>NaN</td>\n",
       "      <td>NaN</td>\n",
       "    </tr>\n",
       "    <tr>\n",
       "      <th>mean</th>\n",
       "      <td>NaN</td>\n",
       "      <td>1235.067371</td>\n",
       "      <td>0.981532</td>\n",
       "    </tr>\n",
       "    <tr>\n",
       "      <th>std</th>\n",
       "      <td>NaN</td>\n",
       "      <td>770.860225</td>\n",
       "      <td>0.134636</td>\n",
       "    </tr>\n",
       "    <tr>\n",
       "      <th>min</th>\n",
       "      <td>NaN</td>\n",
       "      <td>0.000000</td>\n",
       "      <td>0.000000</td>\n",
       "    </tr>\n",
       "    <tr>\n",
       "      <th>25%</th>\n",
       "      <td>NaN</td>\n",
       "      <td>664.000000</td>\n",
       "      <td>1.000000</td>\n",
       "    </tr>\n",
       "    <tr>\n",
       "      <th>50%</th>\n",
       "      <td>NaN</td>\n",
       "      <td>1140.000000</td>\n",
       "      <td>1.000000</td>\n",
       "    </tr>\n",
       "    <tr>\n",
       "      <th>75%</th>\n",
       "      <td>NaN</td>\n",
       "      <td>1994.000000</td>\n",
       "      <td>1.000000</td>\n",
       "    </tr>\n",
       "    <tr>\n",
       "      <th>max</th>\n",
       "      <td>NaN</td>\n",
       "      <td>3250.000000</td>\n",
       "      <td>1.000000</td>\n",
       "    </tr>\n",
       "  </tbody>\n",
       "</table>\n",
       "</div>"
      ],
      "text/plain": [
       "               date_created      distance      standard\n",
       "count                 93839  93839.000000  93839.000000\n",
       "unique                   93           NaN           NaN\n",
       "top     2019-02-14 00:00:00           NaN           NaN\n",
       "freq                   4276           NaN           NaN\n",
       "first   2018-10-21 00:00:00           NaN           NaN\n",
       "last    2019-03-15 00:00:00           NaN           NaN\n",
       "mean                    NaN   1235.067371      0.981532\n",
       "std                     NaN    770.860225      0.134636\n",
       "min                     NaN      0.000000      0.000000\n",
       "25%                     NaN    664.000000      1.000000\n",
       "50%                     NaN   1140.000000      1.000000\n",
       "75%                     NaN   1994.000000      1.000000\n",
       "max                     NaN   3250.000000      1.000000"
      ]
     },
     "execution_count": 20,
     "metadata": {},
     "output_type": "execute_result"
    }
   ],
   "source": [
    "ds[(ds.shipment_days_category==5)][['date_created','distance','standard']].describe(include='all')"
   ]
  },
  {
   "cell_type": "markdown",
   "metadata": {},
   "source": [
    "Se puede observar que la categoría 5 desaparece el día `2019-03-15`; por lo tanto, dividir más allá de esa fecha, elimina la categoría del set de test.\n",
    "\n",
    "Además, se considera que se puede continuar con la división actual ya que tenemos datos con todas las categorías en el set de train."
   ]
  },
  {
   "cell_type": "markdown",
   "metadata": {},
   "source": [
    "A continuación, se separan los datasets de train y test de acuerdo al análisis previo. Para el entrenamiento y validación de modelos se hará uso del dataset de train y se guardará el dataset de test para evaluar la performance de nuestros modelos."
   ]
  },
  {
   "cell_type": "code",
   "execution_count": 21,
   "metadata": {},
   "outputs": [],
   "source": [
    "ds_test = ds[~ds['ds_train']][features_all + [TARGET_ID, TARGET_ID_REG]]\n",
    "ds_train = ds[ds['ds_train']][features_all + [TARGET_ID, TARGET_ID_REG]]"
   ]
  },
  {
   "cell_type": "markdown",
   "metadata": {},
   "source": [
    "### 4. Selección del tipo de modelo (Regresión/Clasificación)\n",
    "\n",
    "> Dados los datos que disponemos y el target antes seleccionado, ¿qué tipo de modelo emplearían (regresión o clasificación)?\n",
    "\n",
    "Podemos pensar en ambas estrategias, en función de si pensamos el target como categórico (esto es, si queremos obtener un rango de fechas de entrega) -en cuyo caso, un modelo de clasificación sería lo primero a probar- o como numérico (esto es, si queremos obtener una predicción en cantidad de días hábiles de entrega) -en cuyo caso, deberíamos testear modelos de regresión-.\n",
    "\n",
    "Empezaremos probando modelos de clasificación, que consideramos a priori que tendrán mejor performance, y luego probaremos algunos modelos de regresión."
   ]
  },
  {
   "cell_type": "markdown",
   "metadata": {},
   "source": [
    "### 5. Entrenamiento y evaluación del modelo seleccionado\n",
    "\n",
    "> Definir el modelo a utilizar, entrenar y evaluar el mismo utilizando los valores por defecto propios de la librería scikit-learn. Analizar los resultados obtenidos en el contexto de la problemática (por ejemplo, ¿por qué creen que para ciertos valores del target tiene mejor performance que para otros?)."
   ]
  },
  {
   "cell_type": "markdown",
   "metadata": {},
   "source": [
    "#### 5.0 Selección de métrica\n",
    "\n",
    "Antes de iniciar los entrenamientos, es necesario definir la métrica que se utilizará para cuantificar la performance de los modelos y así poder compararlos y tomar decisiones en la selección de los mismos.\n",
    "\n",
    "Al buscar la métrica, surgen dos aspectos importantes que deseamos cubrir. El primero de ellos es que debe **ser aplicable tanto a regresores como a clasificadores**, ya que necesitamos compararlos y para eso necesitamos medirlos de una misma manera. El segundo aspecto es que debe **brindar información de la magnitud de los errores**, ya que, por ejemplo, no es igual confundir la clase 0 con la 1, que la clase 0 con la 5. Dada la naturaleza de la problemática, es un error menos relevante confundir dos clases consecutivas, como 0 y 1, que dos clases no consecutivas como 0 y 5. En términos generales, *la diferencia entre los valores de las clases determina la magnitud del error*. \n",
    "\n",
    "Por lo tanto, los modelos tendrán una mejor performance, mientras tengan un menor valor de error. Esto último es válido tanto para clasificadores como para regresores."
   ]
  },
  {
   "cell_type": "code",
   "execution_count": 22,
   "metadata": {},
   "outputs": [],
   "source": [
    "# se define un scorer para utilizar la evaluación de los modelos\n",
    "rsme_scorer = make_scorer(rsme, greater_is_better=False)"
   ]
  },
  {
   "cell_type": "markdown",
   "metadata": {},
   "source": [
    "#### 5.1 Selección inicial entre diferentes modelos\n",
    "\n",
    "Primero vamos a generar una muestra reducida que permita seleccionar el mejor modelo, con el criterio de lograr un sobre-ajuste para dicha muestra y luego entrenar con todo el data set de train y verificar que el modelo es, esperemos, capaz de generalizar y obtener buenas métricas.\n",
    "\n",
    "Para obtener esa muestra, se utiliza `train_test_split` con la configuración que nos permita mantener la distribución del target en una muestra del 10%. El dataset sobrante se descarta ya que no le daremos uso."
   ]
  },
  {
   "cell_type": "code",
   "execution_count": 23,
   "metadata": {},
   "outputs": [],
   "source": [
    "results = pd.DataFrame(columns=('name','model', 'train_score','test_score', 'time','phase'))"
   ]
  },
  {
   "cell_type": "code",
   "execution_count": 24,
   "metadata": {},
   "outputs": [],
   "source": [
    "features_sample, features_xx, labels_sample, labels_xx = train_test_split(ds_train[features_all], \\\n",
    "                                                    ds_train[TARGET_ID],\n",
    "                                                    stratify=ds_train[TARGET_ID], \n",
    "                                                    test_size=0.90)\n",
    "features_xx = None\n",
    "labels_xx = None"
   ]
  },
  {
   "cell_type": "code",
   "execution_count": 25,
   "metadata": {},
   "outputs": [],
   "source": [
    "sc = StandardScaler()\n",
    "features_sample_std = sc.fit_transform(features_sample)"
   ]
  },
  {
   "cell_type": "markdown",
   "metadata": {},
   "source": [
    "##### 5.1.1 Prueba con SGDClassifier"
   ]
  },
  {
   "cell_type": "code",
   "execution_count": 26,
   "metadata": {
    "scrolled": true
   },
   "outputs": [
    {
     "name": "stdout",
     "output_type": "stream",
     "text": [
      "Time: 0.7848381996154785 seconds\n",
      "Train Score: 1.3253409198136863\n",
      "              precision    recall  f1-score   support\n",
      "\n",
      "           0       0.51      0.77      0.61      7094\n",
      "           1       0.49      0.42      0.45      9854\n",
      "           2       0.28      0.14      0.18      5649\n",
      "           3       0.19      0.05      0.07      4044\n",
      "           4       0.21      0.06      0.09      3533\n",
      "           5       0.55      0.90      0.68      9383\n",
      "\n",
      "    accuracy                           0.48     39557\n",
      "   macro avg       0.37      0.39      0.35     39557\n",
      "weighted avg       0.42      0.48      0.42     39557\n",
      "\n"
     ]
    },
    {
     "data": {
      "image/png": "[encoded data removed]",
      "text/plain": [
       "<Figure size 432x288 with 2 Axes>"
      ]
     },
     "metadata": {
      "needs_background": "light"
     },
     "output_type": "display_data"
    }
   ],
   "source": [
    "start_time = time.time()\n",
    "sgdc_linear = linear_model.SGDClassifier(random_state=0)\n",
    "sgdc_linear.fit(features_sample_std,labels_sample)\n",
    "y_pred_train = sgdc_linear.predict(features_sample_std)\n",
    "total_time = time.time() - start_time\n",
    "print(\"Time: %s seconds\" % (total_time))\n",
    "results = results.append({'name': 'SGDClassifier',\n",
    "                          'model': sgdc_linear,\n",
    "                          'train_score': rsme(y_pred_train,labels_sample),\n",
    "                          'test_score': np.NaN,\n",
    "                          'time': total_time,\n",
    "                          'phase': 'Prueba'}, ignore_index=True)\n",
    "print(\"Train Score: %s\" % rsme(labels_sample, y_pred_train))\n",
    "print(classification_report(labels_sample, y_pred_train,labels=TARGET_CLASES))\n",
    "plot_confusion_matrix(confusion_matrix(labels_sample, y_pred_train),normalize=True,\n",
    "                          classes=TARGET_CLASES, title=\"Matriz de confusión Normalizada (TRAIN)\")"
   ]
  },
  {
   "cell_type": "markdown",
   "metadata": {},
   "source": [
    "Este clasificador implementa una predicción linear con descenso de gradientes, que predice sesgado sobre todo a las etiquetas 1 y 5, con lo cual la precisión es baja.\n",
    "\n",
    "La interpretación, en el contexto de la problemática, indica que este modelo no es capaz de adaptarse a los datos del dataset; particularmente, muestra una tendencia de predicción sobre las categorías 1 y 5. Por lo tanto, de seleccionar este modelo, es muy probable que la mayorías de los envíos tengan predicciones de 1 o 5 y dado que las categorías 0 y 2 están también entre las mayoritarias (después de 1 y 5), se esperaría tener una alta tasa de error."
   ]
  },
  {
   "cell_type": "markdown",
   "metadata": {},
   "source": [
    "##### 5.1.2 Prueba con DecisionTreeClassifier"
   ]
  },
  {
   "cell_type": "code",
   "execution_count": 27,
   "metadata": {
    "scrolled": true
   },
   "outputs": [
    {
     "name": "stdout",
     "output_type": "stream",
     "text": [
      "Time: 0.226043701171875 seconds\n",
      "Train Score: 0.13888348167771206\n",
      "              precision    recall  f1-score   support\n",
      "\n",
      "           0       0.99      1.00      0.99      7094\n",
      "           1       0.99      0.99      0.99      9854\n",
      "           2       0.99      0.99      0.99      5649\n",
      "           3       0.99      0.99      0.99      4044\n",
      "           4       0.99      0.99      0.99      3533\n",
      "           5       1.00      0.99      1.00      9383\n",
      "\n",
      "    accuracy                           0.99     39557\n",
      "   macro avg       0.99      0.99      0.99     39557\n",
      "weighted avg       0.99      0.99      0.99     39557\n",
      "\n"
     ]
    },
    {
     "data": {
      "image/png": "[encoded data removed]",
      "text/plain": [
       "<Figure size 432x288 with 2 Axes>"
      ]
     },
     "metadata": {
      "needs_background": "light"
     },
     "output_type": "display_data"
    }
   ],
   "source": [
    "start_time = time.time()\n",
    "clf_tree = tree.DecisionTreeClassifier(random_state=0)\n",
    "clf_tree = clf_tree.fit(features_sample_std, labels_sample)\n",
    "y_pred_train = clf_tree.predict(features_sample_std)\n",
    "total_time = time.time() - start_time\n",
    "print(\"Time: %s seconds\" % (total_time))\n",
    "results = results.append({'name': 'DecisionTreeClassifier',\n",
    "                          'model': clf_tree,\n",
    "                          'train_score': rsme(y_pred_train,labels_sample),\n",
    "                          'test_score': np.NaN,\n",
    "                          'time': total_time,\n",
    "                          'phase': 'Prueba'}, ignore_index=True)\n",
    "print(\"Train Score: %s\" % rsme(labels_sample, y_pred_train))\n",
    "print(classification_report(labels_sample, y_pred_train,labels=TARGET_CLASES))\n",
    "plot_confusion_matrix(confusion_matrix(labels_sample, y_pred_train),normalize=True,\n",
    "                          classes=TARGET_CLASES, title=\"Matriz de confusión Normalizada (TRAIN)\")"
   ]
  },
  {
   "cell_type": "markdown",
   "metadata": {},
   "source": [
    "Este clasificador precide a través de una decisión de árboles, en función de la distribución de los datos que posea. Vemos que la diagonal toma buenos valores para las todas las etiquetas.\n",
    "\n",
    "La interpretación, en el contexto de la problemática, indica que este modelo es capaz de adaptarse a los datos del dataset, aunque posiblemente a costa de un sobre-ajuste que no pueda superarse al entrenar con todos los datos de train. De todas maneras, de elegir este modelo, todos los envíos podrían ser estimados prácticamente con exactitud."
   ]
  },
  {
   "cell_type": "markdown",
   "metadata": {},
   "source": [
    "##### 5.1.3 Prueba con RandomForestClassifier"
   ]
  },
  {
   "cell_type": "code",
   "execution_count": 28,
   "metadata": {
    "scrolled": true
   },
   "outputs": [
    {
     "name": "stderr",
     "output_type": "stream",
     "text": [
      "/Users/nsalina/anaconda3/lib/python3.7/site-packages/sklearn/ensemble/forest.py:245: FutureWarning: The default value of n_estimators will change from 10 in version 0.20 to 100 in 0.22.\n",
      "  \"10 in version 0.20 to 100 in 0.22.\", FutureWarning)\n"
     ]
    },
    {
     "name": "stdout",
     "output_type": "stream",
     "text": [
      "Time: 0.54168701171875 seconds\n",
      "Train Score: 0.32276737751571366\n",
      "              precision    recall  f1-score   support\n",
      "\n",
      "           0       0.96      0.98      0.97      7094\n",
      "           1       0.96      0.97      0.96      9854\n",
      "           2       0.97      0.94      0.95      5649\n",
      "           3       0.97      0.94      0.96      4044\n",
      "           4       0.97      0.94      0.95      3533\n",
      "           5       0.97      0.98      0.98      9383\n",
      "\n",
      "    accuracy                           0.96     39557\n",
      "   macro avg       0.97      0.96      0.96     39557\n",
      "weighted avg       0.96      0.96      0.96     39557\n",
      "\n"
     ]
    },
    {
     "data": {
      "image/png": "[encoded data removed]",
      "text/plain": [
       "<Figure size 432x288 with 2 Axes>"
      ]
     },
     "metadata": {
      "needs_background": "light"
     },
     "output_type": "display_data"
    }
   ],
   "source": [
    "start_time = time.time()\n",
    "clf_rfc = RandomForestClassifier(random_state=0)\n",
    "clf_rfc = clf_rfc.fit(features_sample_std, labels_sample)\n",
    "y_pred_train = clf_rfc.predict(features_sample_std)\n",
    "total_time = time.time() - start_time\n",
    "print(\"Time: %s seconds\" % (total_time))\n",
    "results = results.append({'name': 'RandomForestClassifier',\n",
    "                          'model': clf_rfc,\n",
    "                          'train_score': rsme(y_pred_train,labels_sample),\n",
    "                          'test_score': np.NaN,\n",
    "                          'time': total_time,\n",
    "                          'phase': 'Prueba'}, ignore_index=True)\n",
    "print(\"Train Score: %s\" % rsme(labels_sample, y_pred_train))\n",
    "print(classification_report(labels_sample, y_pred_train,labels=TARGET_CLASES, output_dict = False))\n",
    "plot_confusion_matrix(confusion_matrix(labels_sample, y_pred_train),normalize=True,\n",
    "                          classes=TARGET_CLASES, title=\"Matriz de confusión Normalizada (TRAIN)\")"
   ]
  },
  {
   "cell_type": "markdown",
   "metadata": {},
   "source": [
    "Este clasificador es una generalización del anterior de decisión. Vemos que tiene una buena clasificación para todas las etiquetas.\n",
    "\n",
    "La interpretación, en el contexto de la problemática, es igual que en el caso de árbol de decisión; es decir que también es capaz de adaptarse a los datos del dataset, posiblemente a costa de un sobre-ajuste que no pueda superarse al entrenar con todos los datos de train y, si se elige este modelo, todos los envíos podrían ser estimados prácticamente con exactitud."
   ]
  },
  {
   "cell_type": "markdown",
   "metadata": {},
   "source": [
    "##### 5.1.4 Prueba con GradientBoostingClassifier"
   ]
  },
  {
   "cell_type": "code",
   "execution_count": 29,
   "metadata": {
    "scrolled": true
   },
   "outputs": [
    {
     "name": "stdout",
     "output_type": "stream",
     "text": [
      "Time: 13.682717084884644 seconds\n",
      "Train Score: 1.203827183929698\n",
      "              precision    recall  f1-score   support\n",
      "\n",
      "           0       0.65      0.57      0.61      7094\n",
      "           1       0.52      0.70      0.60      9854\n",
      "           2       0.39      0.24      0.30      5649\n",
      "           3       0.37      0.04      0.07      4044\n",
      "           4       0.46      0.03      0.06      3533\n",
      "           5       0.55      0.94      0.69      9383\n",
      "\n",
      "    accuracy                           0.54     39557\n",
      "   macro avg       0.49      0.42      0.39     39557\n",
      "weighted avg       0.51      0.54      0.48     39557\n",
      "\n"
     ]
    },
    {
     "data": {
      "image/png": "[encoded data removed]",
      "text/plain": [
       "<Figure size 432x288 with 2 Axes>"
      ]
     },
     "metadata": {
      "needs_background": "light"
     },
     "output_type": "display_data"
    }
   ],
   "source": [
    "start_time = time.time()\n",
    "\n",
    "clf_gbc = GradientBoostingClassifier(random_state=0)\n",
    "clf_gbc = clf_gbc.fit(features_sample_std, labels_sample)\n",
    "y_pred_train = clf_gbc.predict(features_sample_std)\n",
    "total_time = time.time() - start_time\n",
    "print(\"Time: %s seconds\" % (total_time))\n",
    "results = results.append({'name': 'GradientBoostingClassifier',\n",
    "                          'model': clf_gbc,\n",
    "                          'train_score': rsme(y_pred_train,labels_sample),\n",
    "                          'test_score': np.NaN,\n",
    "                          'time': total_time,\n",
    "                          'phase': 'Prueba'}, ignore_index=True)\n",
    "print(\"Train Score: %s\" % rsme(labels_sample, y_pred_train))\n",
    "print(classification_report(labels_sample, y_pred_train,labels=TARGET_CLASES, output_dict = False))\n",
    "plot_confusion_matrix(confusion_matrix(labels_sample, y_pred_train),normalize=True,\n",
    "                          classes=TARGET_CLASES, title=\"Matriz de confusión Normalizada (TRAIN)\")"
   ]
  },
  {
   "cell_type": "markdown",
   "metadata": {},
   "source": [
    "Este clasificador es una generalización de los clasificadores de Boosting para muchas funciones de loss. En este caso vemos que performa un poco peor que los dos anteriores, con similar comportamiento a SGDClassifier en las categorías.\n",
    "\n",
    "Por lo tanto, en este caso también se observa una incapacidad de adaptación a los datos del dataset y una tendencia hacia las clases 5 y 1, por lo que si se elige este modelo, la mayoría de los envíos serían estimados como categoría 5 o 1 cuando el dataset tiene como mayoritarias (después de 5 y 1) a las clases 0 y 2."
   ]
  },
  {
   "cell_type": "markdown",
   "metadata": {},
   "source": [
    "##### 5.1.5 Prueba con KNeighborsClassifier"
   ]
  },
  {
   "cell_type": "code",
   "execution_count": 30,
   "metadata": {
    "scrolled": true
   },
   "outputs": [
    {
     "name": "stdout",
     "output_type": "stream",
     "text": [
      "Time: 7.522428035736084 seconds\n",
      "Train Score: 1.0635327706009459\n",
      "              precision    recall  f1-score   support\n",
      "\n",
      "           0       0.68      0.77      0.72      7094\n",
      "           1       0.63      0.72      0.67      9854\n",
      "           2       0.55      0.44      0.49      5649\n",
      "           3       0.48      0.36      0.41      4044\n",
      "           4       0.49      0.35      0.41      3533\n",
      "           5       0.72      0.79      0.75      9383\n",
      "\n",
      "    accuracy                           0.64     39557\n",
      "   macro avg       0.59      0.57      0.58     39557\n",
      "weighted avg       0.62      0.64      0.62     39557\n",
      "\n"
     ]
    },
    {
     "data": {
      "image/png": "[encoded data removed]",
      "text/plain": [
       "<Figure size 432x288 with 2 Axes>"
      ]
     },
     "metadata": {
      "needs_background": "light"
     },
     "output_type": "display_data"
    }
   ],
   "source": [
    "start_time = time.time()\n",
    "clf_neigh = KNeighborsClassifier()\n",
    "clf_neigh = clf_neigh.fit(features_sample_std, labels_sample)\n",
    "y_pred_train = clf_neigh.predict(features_sample_std)\n",
    "total_time = time.time() - start_time\n",
    "print(\"Time: %s seconds\" % (total_time))\n",
    "results = results.append({'name': 'KNeighborsClassifier',\n",
    "                          'model': clf_neigh,\n",
    "                          'train_score': rsme(y_pred_train,labels_sample),\n",
    "                          'test_score': np.NaN,\n",
    "                          'time': total_time,\n",
    "                          'phase': 'Prueba'}, ignore_index=True)\n",
    "print(\"Train Score: %s\" % rsme(labels_sample, y_pred_train))\n",
    "print(classification_report(labels_sample, y_pred_train,labels=TARGET_CLASES, output_dict = False))\n",
    "plot_confusion_matrix(confusion_matrix(labels_sample, y_pred_train),normalize=True,\n",
    "                          classes=TARGET_CLASES, title=\"Matriz de confusión Normalizada (TRAIN)\")"
   ]
  },
  {
   "cell_type": "markdown",
   "metadata": {},
   "source": [
    "El clasificador de K vecinos más cercanos predice razonablemente bien (en relación a los otros clasificadores) las etiquetas 0, 1 y 5, pero no tanto las demás (que son las clases minoritarias).\n",
    "\n",
    "En caso de elegir este modelo, se podría esperar que tenga una buena generalización al pasar del dataset de train al de test; es decir, que las métricas en ambos datasets no presente grandes diferencias y devuelvan valores de error aceptables. Por lo tanto, los envíos podrían no ser estimados con exactitud pero, en caso de equivocarse, el error no sería tan grande."
   ]
  },
  {
   "cell_type": "code",
   "execution_count": 31,
   "metadata": {},
   "outputs": [
    {
     "data": {
      "text/html": [
       "<div>\n",
       "<style scoped>\n",
       "    .dataframe tbody tr th:only-of-type {\n",
       "        vertical-align: middle;\n",
       "    }\n",
       "\n",
       "    .dataframe tbody tr th {\n",
       "        vertical-align: top;\n",
       "    }\n",
       "\n",
       "    .dataframe thead th {\n",
       "        text-align: right;\n",
       "    }\n",
       "</style>\n",
       "<table border=\"1\" class=\"dataframe\">\n",
       "  <thead>\n",
       "    <tr style=\"text-align: right;\">\n",
       "      <th></th>\n",
       "      <th>name</th>\n",
       "      <th>model</th>\n",
       "      <th>train_score</th>\n",
       "      <th>test_score</th>\n",
       "      <th>time</th>\n",
       "      <th>phase</th>\n",
       "    </tr>\n",
       "  </thead>\n",
       "  <tbody>\n",
       "    <tr>\n",
       "      <th>0</th>\n",
       "      <td>SGDClassifier</td>\n",
       "      <td>SGDClassifier(alpha=0.0001, average=False, cla...</td>\n",
       "      <td>1.325341</td>\n",
       "      <td>NaN</td>\n",
       "      <td>0.784838</td>\n",
       "      <td>Prueba</td>\n",
       "    </tr>\n",
       "    <tr>\n",
       "      <th>1</th>\n",
       "      <td>DecisionTreeClassifier</td>\n",
       "      <td>DecisionTreeClassifier(class_weight=None, crit...</td>\n",
       "      <td>0.138883</td>\n",
       "      <td>NaN</td>\n",
       "      <td>0.226044</td>\n",
       "      <td>Prueba</td>\n",
       "    </tr>\n",
       "    <tr>\n",
       "      <th>2</th>\n",
       "      <td>RandomForestClassifier</td>\n",
       "      <td>(DecisionTreeClassifier(class_weight=None, cri...</td>\n",
       "      <td>0.322767</td>\n",
       "      <td>NaN</td>\n",
       "      <td>0.541687</td>\n",
       "      <td>Prueba</td>\n",
       "    </tr>\n",
       "    <tr>\n",
       "      <th>3</th>\n",
       "      <td>GradientBoostingClassifier</td>\n",
       "      <td>([DecisionTreeRegressor(criterion='friedman_ms...</td>\n",
       "      <td>1.203827</td>\n",
       "      <td>NaN</td>\n",
       "      <td>13.682717</td>\n",
       "      <td>Prueba</td>\n",
       "    </tr>\n",
       "    <tr>\n",
       "      <th>4</th>\n",
       "      <td>KNeighborsClassifier</td>\n",
       "      <td>KNeighborsClassifier(algorithm='auto', leaf_si...</td>\n",
       "      <td>1.063533</td>\n",
       "      <td>NaN</td>\n",
       "      <td>7.522428</td>\n",
       "      <td>Prueba</td>\n",
       "    </tr>\n",
       "  </tbody>\n",
       "</table>\n",
       "</div>"
      ],
      "text/plain": [
       "                         name  \\\n",
       "0               SGDClassifier   \n",
       "1      DecisionTreeClassifier   \n",
       "2      RandomForestClassifier   \n",
       "3  GradientBoostingClassifier   \n",
       "4        KNeighborsClassifier   \n",
       "\n",
       "                                               model  train_score  test_score  \\\n",
       "0  SGDClassifier(alpha=0.0001, average=False, cla...     1.325341         NaN   \n",
       "1  DecisionTreeClassifier(class_weight=None, crit...     0.138883         NaN   \n",
       "2  (DecisionTreeClassifier(class_weight=None, cri...     0.322767         NaN   \n",
       "3  ([DecisionTreeRegressor(criterion='friedman_ms...     1.203827         NaN   \n",
       "4  KNeighborsClassifier(algorithm='auto', leaf_si...     1.063533         NaN   \n",
       "\n",
       "        time   phase  \n",
       "0   0.784838  Prueba  \n",
       "1   0.226044  Prueba  \n",
       "2   0.541687  Prueba  \n",
       "3  13.682717  Prueba  \n",
       "4   7.522428  Prueba  "
      ]
     },
     "execution_count": 31,
     "metadata": {},
     "output_type": "execute_result"
    }
   ],
   "source": [
    "results"
   ]
  },
  {
   "cell_type": "markdown",
   "metadata": {},
   "source": [
    "Luego de entrenar los modelos con una pequeña porción de datos para ver si son capaces de representarlos, decidimos continuar con:\n",
    "* Decision Trees\n",
    "* Random Forest\n",
    "* K Neighbors\n",
    "\n",
    "En resumen, la selección de los dos primeros se basa en que devolvieron los valores de error más pequeños. En el caso de K Neighbors, pese al valor de la métrica y al tiempo consumido, se decide no descartarlo en esta instancia ya que se desea observar su comportamiento al entrenarse con todo el dataset de train y ver su capacidad de generalizar, en contraste con los otros dos de tipo árbol que son potencialmente \"sobre-ajustables\"."
   ]
  },
  {
   "cell_type": "markdown",
   "metadata": {},
   "source": [
    "#### 5.2 Entrenamiento de modelos\n",
    "\n",
    "Antes de comenzar el entrenamiento con todos los datos de train, se estandarizan los features ya que se utilizarán para entrenar algunos modelos que lo requieren, como ser K Neighbors y, más adelante, los regresores."
   ]
  },
  {
   "cell_type": "code",
   "execution_count": 32,
   "metadata": {},
   "outputs": [],
   "source": [
    "sc = StandardScaler()\n",
    "features = ds_train[features_all]\n",
    "features_std = sc.fit_transform(features)\n",
    "labels = ds_train[TARGET_ID]\n",
    "features_test = ds_test[features_all]\n",
    "features_test_std = sc.transform(features_test)\n",
    "labels_test = ds_test[TARGET_ID]"
   ]
  },
  {
   "cell_type": "markdown",
   "metadata": {},
   "source": [
    "##### 5.2.1 Entrenamiento de DecisionTreeClassifier"
   ]
  },
  {
   "cell_type": "code",
   "execution_count": 33,
   "metadata": {
    "scrolled": true
   },
   "outputs": [
    {
     "name": "stdout",
     "output_type": "stream",
     "text": [
      "Time: 1.7349791526794434 seconds\n",
      "Train Score: 0.34585422429090695\n",
      "              precision    recall  f1-score   support\n",
      "\n",
      "           0       0.94      0.99      0.96     70940\n",
      "           1       0.95      0.96      0.95     98543\n",
      "           2       0.95      0.94      0.95     56488\n",
      "           3       0.94      0.94      0.94     40442\n",
      "           4       0.95      0.94      0.94     35328\n",
      "           5       0.99      0.95      0.97     93836\n",
      "\n",
      "    accuracy                           0.96    395577\n",
      "   macro avg       0.95      0.95      0.95    395577\n",
      "weighted avg       0.96      0.96      0.96    395577\n",
      "\n",
      "Test Score: 1.1905354731130915\n",
      "              precision    recall  f1-score   support\n",
      "\n",
      "           0       0.68      0.63      0.66     35860\n",
      "           1       0.51      0.47      0.49     36067\n",
      "           2       0.32      0.27      0.29     15665\n",
      "           3       0.20      0.20      0.20      6015\n",
      "           4       0.06      0.18      0.09      1252\n",
      "           5       0.00      0.33      0.00         3\n",
      "\n",
      "    accuracy                           0.48     94862\n",
      "   macro avg       0.30      0.35      0.29     94862\n",
      "weighted avg       0.52      0.48      0.50     94862\n",
      "\n"
     ]
    },
    {
     "data": {
      "image/png": "[encoded data removed]",
      "text/plain": [
       "<Figure size 432x288 with 3 Axes>"
      ]
     },
     "metadata": {
      "needs_background": "light"
     },
     "output_type": "display_data"
    }
   ],
   "source": [
    "start_time = time.time()\n",
    "clf_tree = tree.DecisionTreeClassifier(random_state=0)\n",
    "clf_tree = clf_tree.fit(features_std, labels)\n",
    "y_pred_train = clf_tree.predict(features_std)\n",
    "total_time = time.time() - start_time\n",
    "print(\"Time: %s seconds\" % (total_time))\n",
    "\n",
    "print(\"Train Score: %s\" % rsme(labels, y_pred_train))\n",
    "print(classification_report(labels, y_pred_train,labels=TARGET_CLASES))\n",
    "plot_confusion_matrix(confusion_matrix(labels, y_pred_train),normalize=True,\n",
    "                          classes=TARGET_CLASES, title=\"Matriz de confusión Normalizada (TRAIN)\")\n",
    "\n",
    "y_pred_test = clf_tree.predict(features_test_std)\n",
    "print(\"Test Score: %s\" % rsme(labels_test, y_pred_test))\n",
    "print(classification_report(labels_test, y_pred_test,labels=TARGET_CLASES))\n",
    "plot_confusion_matrix(confusion_matrix(labels_test, y_pred_test),normalize=True,\n",
    "                          classes=TARGET_CLASES, title=\"Matriz de confusión Normalizada (TEST)\")\n",
    "\n",
    "results = results.append({'name': 'DecisionTreeClassifier',\n",
    "                          'model': clf_tree,\n",
    "                          'train_score': rsme(y_pred_train,labels),\n",
    "                          'test_score': rsme(y_pred_test,labels_test),\n",
    "                          'time': total_time,\n",
    "                          'phase': 'Train'}, ignore_index=True)"
   ]
  },
  {
   "cell_type": "markdown",
   "metadata": {},
   "source": [
    "Tal como se supuso inicialmente, al evaluar el modelo con el dataset de train los resultados fueron excelentes pero, al repetir la evaluación con el dataset de test, los resultados sufrieron una degradación muy importante, lo que indica que se dio una situación de sobre-ajuste. En caso de continuar con este modelo en la etapa de ajuste de hiper-parámetros, se intentará utilizar valores que eviten el sobre-ajuste."
   ]
  },
  {
   "cell_type": "markdown",
   "metadata": {},
   "source": [
    "##### 5.2.2 Entrenamiento de RandomForestClassifier"
   ]
  },
  {
   "cell_type": "code",
   "execution_count": 34,
   "metadata": {
    "scrolled": true
   },
   "outputs": [
    {
     "name": "stderr",
     "output_type": "stream",
     "text": [
      "/Users/nsalina/anaconda3/lib/python3.7/site-packages/sklearn/ensemble/forest.py:245: FutureWarning: The default value of n_estimators will change from 10 in version 0.20 to 100 in 0.22.\n",
      "  \"10 in version 0.20 to 100 in 0.22.\", FutureWarning)\n"
     ]
    },
    {
     "name": "stdout",
     "output_type": "stream",
     "text": [
      "Time: 7.078236103057861 seconds\n",
      "Train Score: 0.4376966734095447\n",
      "              precision    recall  f1-score   support\n",
      "\n",
      "           0       0.93      0.95      0.94     70940\n",
      "           1       0.92      0.93      0.93     98543\n",
      "           2       0.92      0.90      0.91     56488\n",
      "           3       0.92      0.89      0.91     40442\n",
      "           4       0.92      0.89      0.91     35328\n",
      "           5       0.95      0.96      0.95     93836\n",
      "\n",
      "    accuracy                           0.93    395577\n",
      "   macro avg       0.93      0.92      0.92    395577\n",
      "weighted avg       0.93      0.93      0.93    395577\n",
      "\n",
      "Test Score: 1.1347092555180869\n",
      "              precision    recall  f1-score   support\n",
      "\n",
      "           0       0.70      0.66      0.68     35860\n",
      "           1       0.53      0.52      0.52     36067\n",
      "           2       0.35      0.28      0.31     15665\n",
      "           3       0.22      0.18      0.20      6015\n",
      "           4       0.07      0.15      0.10      1252\n",
      "           5       0.00      0.67      0.00         3\n",
      "\n",
      "    accuracy                           0.51     94862\n",
      "   macro avg       0.31      0.41      0.30     94862\n",
      "weighted avg       0.54      0.51      0.52     94862\n",
      "\n"
     ]
    },
    {
     "data": {
      "image/png": "[encoded data removed]",
      "text/plain": [
       "<Figure size 432x288 with 3 Axes>"
      ]
     },
     "metadata": {
      "needs_background": "light"
     },
     "output_type": "display_data"
    }
   ],
   "source": [
    "start_time = time.time()\n",
    "clf_rfc = RandomForestClassifier(random_state=0)\n",
    "clf_rfc = clf_rfc.fit(features_std, labels)\n",
    "y_pred_train = clf_rfc.predict(features_std)\n",
    "total_time = time.time() - start_time\n",
    "print(\"Time: %s seconds\" % (total_time))\n",
    "\n",
    "print(\"Train Score: %s\" % rsme(labels, y_pred_train))\n",
    "print(classification_report(labels, y_pred_train,labels=TARGET_CLASES, output_dict = False))\n",
    "plot_confusion_matrix(confusion_matrix(labels, y_pred_train),normalize=True,\n",
    "                          classes=TARGET_CLASES, title=\"Matriz de confusión Normalizada (TRAIN)\")\n",
    "\n",
    "y_pred_test = clf_rfc.predict(features_test_std)\n",
    "print(\"Test Score: %s\" % rsme(labels_test, y_pred_test))\n",
    "print(classification_report(labels_test, y_pred_test,labels=TARGET_CLASES))\n",
    "plot_confusion_matrix(confusion_matrix(labels_test, y_pred_test),normalize=True,\n",
    "                          classes=TARGET_CLASES, title=\"Matriz de confusión Normalizada (TEST)\")\n",
    "\n",
    "results = results.append({'name': 'RandomForestClassifier',\n",
    "                          'model': clf_rfc,\n",
    "                          'train_score': rsme(y_pred_train,labels),\n",
    "                          'test_score': rsme(y_pred_test,labels_test),\n",
    "                          'time': total_time,\n",
    "                          'phase': 'Train'}, ignore_index=True)"
   ]
  },
  {
   "cell_type": "code",
   "execution_count": 35,
   "metadata": {},
   "outputs": [
    {
     "data": {
      "text/plain": [
       "{'bootstrap': True,\n",
       " 'class_weight': None,\n",
       " 'criterion': 'gini',\n",
       " 'max_depth': None,\n",
       " 'max_features': 'auto',\n",
       " 'max_leaf_nodes': None,\n",
       " 'min_impurity_decrease': 0.0,\n",
       " 'min_impurity_split': None,\n",
       " 'min_samples_leaf': 1,\n",
       " 'min_samples_split': 2,\n",
       " 'min_weight_fraction_leaf': 0.0,\n",
       " 'n_estimators': 10,\n",
       " 'n_jobs': None,\n",
       " 'oob_score': False,\n",
       " 'random_state': 0,\n",
       " 'verbose': 0,\n",
       " 'warm_start': False}"
      ]
     },
     "execution_count": 35,
     "metadata": {},
     "output_type": "execute_result"
    }
   ],
   "source": [
    "clf_rfc_default_params = clf_rfc.get_params()\n",
    "clf_rfc_default_params"
   ]
  },
  {
   "cell_type": "markdown",
   "metadata": {},
   "source": [
    "De igual manera que para árboles de decisión, al evaluar el modelo con el dataset de train los resultados fueron excelentes y al repetir la evaluación con el dataset de test, los resultados sufrieron una degradación muy importante (aunque menor que para el árbol de decisión), evidenciando que también se dio una situación de sobre-ajuste. En caso de continuar con este modelo en la etapa de ajuste de hiper-parámetros, se tomará la misma acción que para el árbol de decisión y se intentará utilizar valores que eviten el sobre-ajuste."
   ]
  },
  {
   "cell_type": "markdown",
   "metadata": {},
   "source": [
    "##### 5.2.3 Entrenamiento de KNeighborsClassifier"
   ]
  },
  {
   "cell_type": "code",
   "execution_count": 36,
   "metadata": {
    "scrolled": true
   },
   "outputs": [
    {
     "name": "stdout",
     "output_type": "stream",
     "text": [
      "Time: 720.2003126144409 seconds\n",
      "Train Score: 1.0435899588073279\n",
      "              precision    recall  f1-score   support\n",
      "\n",
      "           0       0.69      0.78      0.73     70940\n",
      "           1       0.64      0.72      0.67     98543\n",
      "           2       0.55      0.45      0.49     56488\n",
      "           3       0.49      0.37      0.42     40442\n",
      "           4       0.50      0.35      0.41     35328\n",
      "           5       0.73      0.79      0.76     93836\n",
      "\n",
      "    accuracy                           0.64    395577\n",
      "   macro avg       0.60      0.58      0.58    395577\n",
      "weighted avg       0.63      0.64      0.63    395577\n",
      "\n",
      "Test Score: 1.063787507733333\n",
      "              precision    recall  f1-score   support\n",
      "\n",
      "           0       0.69      0.70      0.69     35860\n",
      "           1       0.53      0.55      0.54     36067\n",
      "           2       0.40      0.26      0.32     15665\n",
      "           3       0.24      0.15      0.19      6015\n",
      "           4       0.07      0.12      0.09      1252\n",
      "           5       0.00      0.33      0.00         3\n",
      "\n",
      "    accuracy                           0.52     94862\n",
      "   macro avg       0.32      0.35      0.30     94862\n",
      "weighted avg       0.55      0.52      0.53     94862\n",
      "\n"
     ]
    },
    {
     "data": {
      "image/png": "[encoded data removed]",
      "text/plain": [
       "<Figure size 432x288 with 3 Axes>"
      ]
     },
     "metadata": {
      "needs_background": "light"
     },
     "output_type": "display_data"
    }
   ],
   "source": [
    "start_time = time.time()\n",
    "clf_neigh = KNeighborsClassifier()\n",
    "clf_neigh = clf_neigh.fit(features_std, labels)\n",
    "y_pred_train = clf_neigh.predict(features_std)\n",
    "total_time = time.time() - start_time\n",
    "print(\"Time: %s seconds\" % (total_time))\n",
    "\n",
    "print(\"Train Score: %s\" % rsme(labels, y_pred_train))\n",
    "print(classification_report(labels, y_pred_train,labels=TARGET_CLASES, output_dict = False))\n",
    "plot_confusion_matrix(confusion_matrix(labels, y_pred_train),normalize=True,\n",
    "                          classes=TARGET_CLASES, title=\"Matriz de confusión Normalizada (TRAIN)\")\n",
    "\n",
    "y_pred_test = clf_neigh.predict(features_test_std)\n",
    "print(\"Test Score: %s\" % rsme(labels_test, y_pred_test))\n",
    "print(classification_report(labels_test, y_pred_test,labels=TARGET_CLASES))\n",
    "plot_confusion_matrix(confusion_matrix(labels_test, y_pred_test),normalize=True,\n",
    "                          classes=TARGET_CLASES, title=\"Matriz de confusión Normalizada (TEST)\")\n",
    "\n",
    "results = results.append({'name': 'KNeighborsClassifier',\n",
    "                          'model': clf_neigh,\n",
    "                          'train_score': rsme(y_pred_train,labels),\n",
    "                          'test_score': rsme(y_pred_test,labels_test),\n",
    "                          'time': total_time,\n",
    "                          'phase': 'Train'}, ignore_index=True)"
   ]
  },
  {
   "cell_type": "code",
   "execution_count": 37,
   "metadata": {},
   "outputs": [
    {
     "data": {
      "text/plain": [
       "{'algorithm': 'auto',\n",
       " 'leaf_size': 30,\n",
       " 'metric': 'minkowski',\n",
       " 'metric_params': None,\n",
       " 'n_jobs': None,\n",
       " 'n_neighbors': 5,\n",
       " 'p': 2,\n",
       " 'weights': 'uniform'}"
      ]
     },
     "execution_count": 37,
     "metadata": {},
     "output_type": "execute_result"
    }
   ],
   "source": [
    "clf_neigh_default_params = clf_neigh.get_params()\n",
    "clf_neigh_default_params"
   ]
  },
  {
   "cell_type": "markdown",
   "metadata": {},
   "source": [
    "En este caso, como se supuso inicialmente, la evaluación de los datasets de train y test no dieron muy diferentes. Pero, observando los valores absolutos de error, la performance es muy baja teniendo en cuenta que se entrenó con todos los datos de train."
   ]
  },
  {
   "cell_type": "code",
   "execution_count": 38,
   "metadata": {},
   "outputs": [
    {
     "data": {
      "text/html": [
       "<div>\n",
       "<style scoped>\n",
       "    .dataframe tbody tr th:only-of-type {\n",
       "        vertical-align: middle;\n",
       "    }\n",
       "\n",
       "    .dataframe tbody tr th {\n",
       "        vertical-align: top;\n",
       "    }\n",
       "\n",
       "    .dataframe thead th {\n",
       "        text-align: right;\n",
       "    }\n",
       "</style>\n",
       "<table border=\"1\" class=\"dataframe\">\n",
       "  <thead>\n",
       "    <tr style=\"text-align: right;\">\n",
       "      <th></th>\n",
       "      <th>name</th>\n",
       "      <th>model</th>\n",
       "      <th>train_score</th>\n",
       "      <th>test_score</th>\n",
       "      <th>time</th>\n",
       "      <th>phase</th>\n",
       "    </tr>\n",
       "  </thead>\n",
       "  <tbody>\n",
       "    <tr>\n",
       "      <th>0</th>\n",
       "      <td>SGDClassifier</td>\n",
       "      <td>SGDClassifier(alpha=0.0001, average=False, cla...</td>\n",
       "      <td>1.325341</td>\n",
       "      <td>NaN</td>\n",
       "      <td>0.784838</td>\n",
       "      <td>Prueba</td>\n",
       "    </tr>\n",
       "    <tr>\n",
       "      <th>1</th>\n",
       "      <td>DecisionTreeClassifier</td>\n",
       "      <td>DecisionTreeClassifier(class_weight=None, crit...</td>\n",
       "      <td>0.138883</td>\n",
       "      <td>NaN</td>\n",
       "      <td>0.226044</td>\n",
       "      <td>Prueba</td>\n",
       "    </tr>\n",
       "    <tr>\n",
       "      <th>2</th>\n",
       "      <td>RandomForestClassifier</td>\n",
       "      <td>(DecisionTreeClassifier(class_weight=None, cri...</td>\n",
       "      <td>0.322767</td>\n",
       "      <td>NaN</td>\n",
       "      <td>0.541687</td>\n",
       "      <td>Prueba</td>\n",
       "    </tr>\n",
       "    <tr>\n",
       "      <th>3</th>\n",
       "      <td>GradientBoostingClassifier</td>\n",
       "      <td>([DecisionTreeRegressor(criterion='friedman_ms...</td>\n",
       "      <td>1.203827</td>\n",
       "      <td>NaN</td>\n",
       "      <td>13.682717</td>\n",
       "      <td>Prueba</td>\n",
       "    </tr>\n",
       "    <tr>\n",
       "      <th>4</th>\n",
       "      <td>KNeighborsClassifier</td>\n",
       "      <td>KNeighborsClassifier(algorithm='auto', leaf_si...</td>\n",
       "      <td>1.063533</td>\n",
       "      <td>NaN</td>\n",
       "      <td>7.522428</td>\n",
       "      <td>Prueba</td>\n",
       "    </tr>\n",
       "    <tr>\n",
       "      <th>5</th>\n",
       "      <td>DecisionTreeClassifier</td>\n",
       "      <td>DecisionTreeClassifier(class_weight=None, crit...</td>\n",
       "      <td>0.345854</td>\n",
       "      <td>1.190535</td>\n",
       "      <td>1.734979</td>\n",
       "      <td>Train</td>\n",
       "    </tr>\n",
       "    <tr>\n",
       "      <th>6</th>\n",
       "      <td>RandomForestClassifier</td>\n",
       "      <td>(DecisionTreeClassifier(class_weight=None, cri...</td>\n",
       "      <td>0.437697</td>\n",
       "      <td>1.134709</td>\n",
       "      <td>7.078236</td>\n",
       "      <td>Train</td>\n",
       "    </tr>\n",
       "    <tr>\n",
       "      <th>7</th>\n",
       "      <td>KNeighborsClassifier</td>\n",
       "      <td>KNeighborsClassifier(algorithm='auto', leaf_si...</td>\n",
       "      <td>1.043590</td>\n",
       "      <td>1.063788</td>\n",
       "      <td>720.200313</td>\n",
       "      <td>Train</td>\n",
       "    </tr>\n",
       "  </tbody>\n",
       "</table>\n",
       "</div>"
      ],
      "text/plain": [
       "                         name  \\\n",
       "0               SGDClassifier   \n",
       "1      DecisionTreeClassifier   \n",
       "2      RandomForestClassifier   \n",
       "3  GradientBoostingClassifier   \n",
       "4        KNeighborsClassifier   \n",
       "5      DecisionTreeClassifier   \n",
       "6      RandomForestClassifier   \n",
       "7        KNeighborsClassifier   \n",
       "\n",
       "                                               model  train_score  test_score  \\\n",
       "0  SGDClassifier(alpha=0.0001, average=False, cla...     1.325341         NaN   \n",
       "1  DecisionTreeClassifier(class_weight=None, crit...     0.138883         NaN   \n",
       "2  (DecisionTreeClassifier(class_weight=None, cri...     0.322767         NaN   \n",
       "3  ([DecisionTreeRegressor(criterion='friedman_ms...     1.203827         NaN   \n",
       "4  KNeighborsClassifier(algorithm='auto', leaf_si...     1.063533         NaN   \n",
       "5  DecisionTreeClassifier(class_weight=None, crit...     0.345854    1.190535   \n",
       "6  (DecisionTreeClassifier(class_weight=None, cri...     0.437697    1.134709   \n",
       "7  KNeighborsClassifier(algorithm='auto', leaf_si...     1.043590    1.063788   \n",
       "\n",
       "         time   phase  \n",
       "0    0.784838  Prueba  \n",
       "1    0.226044  Prueba  \n",
       "2    0.541687  Prueba  \n",
       "3   13.682717  Prueba  \n",
       "4    7.522428  Prueba  \n",
       "5    1.734979   Train  \n",
       "6    7.078236   Train  \n",
       "7  720.200313   Train  "
      ]
     },
     "execution_count": 38,
     "metadata": {},
     "output_type": "execute_result"
    }
   ],
   "source": [
    "results"
   ]
  },
  {
   "cell_type": "markdown",
   "metadata": {},
   "source": [
    "En conclusión de esta etapa, considerando que Random Forest y Decision Trees tuvieron excelentes resultados con el dataset de train y regulares con el de test, se decide avanzar con Random Forest (que es una generalización de Decision Trees) y buscar mejoras de performance mediante el ajuste de hiper-parámetros a fines de evitar el sobre-ajuste que degrada las métricas en test.\n",
    "\n",
    "De todas maneras, también se decide continuar con K Neighbors dado que con este modelo se obtuvieron las mejores métricas para el dataset de test y también se buscará mejorar dichas métricas mediante el ajuste de hiper-parámetros, cuidando de no caer en sobre-ajuste."
   ]
  },
  {
   "cell_type": "markdown",
   "metadata": {},
   "source": [
    "### 6. Selección y evaluación de hiperparámetros\n",
    "\n",
    "> Modificar los hiperparámetros propios del modelo, y volver a entrenar y evaluar. ¿Por qué se eligió dicho valor para modificar? ¿Qué consecuencias tuvo? ¿Mejoró la performance del modelo? Analice los resultados obtenidos en el contexto de la problemática."
   ]
  },
  {
   "cell_type": "markdown",
   "metadata": {},
   "source": [
    "#### 6.1.a Hiperparámetros en RandomForestClassifier con Randomized Search CV\n",
    "\n",
    "La etapa de ajuste y evaluación de hiper-parámetros se realiza con el objetivo de probar diferentes valores de los parámetros que pueden impactar o controlar el sobre-ajuste que se observó en la etapa anterior. A continuación se describen los parámetros seleccionados y su justificación.\n",
    "\n",
    "* **n_estimators**\n",
    "\n",
    "Este parámetro define la cantidad de árboles que se entrenan en cada iteración y mientras mayor sea el número, menor es la posibilidad de hacer sobre-ajuste.\n",
    "\n",
    "* **max_features**\n",
    "\n",
    "Este parámetro define la cantidad de features que se consideran en la búsqueda de la mejor partición y mientras mayor sea el número, los árboles crecen en complejidad y eso puede derivar en que se terminan aprendiendo patrones que no son representativos de los datos y que terminen por no encontrarse en el dataset de test.\n",
    "\n",
    "A fines de encontrar una mejor aproximación de los valores a explorar, en los parámetros seleccionados para ajustar, se realiza una validación cruzada con una selección aleatoria de los valores de los parámetros. Luego, el resultado obtenido, se tomará como punto de partida para un ajuste mediante Grid Search CV."
   ]
  },
  {
   "cell_type": "code",
   "execution_count": 39,
   "metadata": {},
   "outputs": [],
   "source": [
    "n_estimators = [int(x) + clf_rfc_default_params['n_estimators'] for x in \\\n",
    "                np.linspace(start = 10, stop = 1000, num = 100)]\n",
    "max_features = ['auto', 'sqrt','log2']\n",
    "if clf_rfc_default_params['max_depth'] is not None:\n",
    "    max_depth = [int(x)  + clf_rfc_default_params['max_depth'] for x in np.linspace(10, 100, num = 10)]\n",
    "    max_depth.append(None)\n",
    "else:\n",
    "    max_depth = [int(x) for x in np.linspace(10, 100, num = 10)]\n",
    "    max_depth.append(None)\n",
    "random_grid = {'n_estimators': n_estimators,\n",
    "               'max_features': max_features,\n",
    "               'max_depth': max_depth}"
   ]
  },
  {
   "cell_type": "code",
   "execution_count": 40,
   "metadata": {
    "scrolled": true
   },
   "outputs": [
    {
     "name": "stdout",
     "output_type": "stream",
     "text": [
      "Fitting 3 folds for each of 10 candidates, totalling 30 fits\n"
     ]
    },
    {
     "name": "stderr",
     "output_type": "stream",
     "text": [
      "[Parallel(n_jobs=-1)]: Using backend LokyBackend with 4 concurrent workers.\n",
      "/Users/nsalina/anaconda3/lib/python3.7/site-packages/joblib/externals/loky/process_executor.py:706: UserWarning: A worker stopped while some jobs were given to the executor. This can be caused by a too short worker timeout or by a memory leak.\n",
      "  \"timeout or by a memory leak.\", UserWarning\n",
      "[Parallel(n_jobs=-1)]: Done  17 tasks      | elapsed: 33.3min\n",
      "/Users/nsalina/anaconda3/lib/python3.7/site-packages/joblib/externals/loky/process_executor.py:706: UserWarning: A worker stopped while some jobs were given to the executor. This can be caused by a too short worker timeout or by a memory leak.\n",
      "  \"timeout or by a memory leak.\", UserWarning\n",
      "[Parallel(n_jobs=-1)]: Done  30 out of  30 | elapsed: 62.7min finished\n"
     ]
    },
    {
     "name": "stdout",
     "output_type": "stream",
     "text": [
      "Time: 3967.7782039642334 seconds\n",
      "Train Score: 0.975069502451731\n",
      "              precision    recall  f1-score   support\n",
      "\n",
      "           0       0.75      0.79      0.77     70940\n",
      "           1       0.72      0.79      0.75     98543\n",
      "           2       0.73      0.56      0.63     56488\n",
      "           3       0.80      0.41      0.54     40442\n",
      "           4       0.91      0.30      0.45     35328\n",
      "           5       0.66      0.95      0.78     93836\n",
      "\n",
      "    accuracy                           0.71    395577\n",
      "   macro avg       0.76      0.63      0.65    395577\n",
      "weighted avg       0.74      0.71      0.70    395577\n",
      "\n",
      "Test Score: 1.112184667330716\n",
      "              precision    recall  f1-score   support\n",
      "\n",
      "           0       0.75      0.73      0.74     35860\n",
      "           1       0.58      0.60      0.59     36067\n",
      "           2       0.44      0.28      0.35     15665\n",
      "           3       0.24      0.11      0.15      6015\n",
      "           4       0.07      0.04      0.05      1252\n",
      "           5       0.00      0.67      0.00         3\n",
      "\n",
      "    accuracy                           0.56     94862\n",
      "   macro avg       0.35      0.40      0.31     94862\n",
      "weighted avg       0.59      0.56      0.57     94862\n",
      "\n"
     ]
    },
    {
     "data": {
      "image/png": "[encoded data removed]",
      "text/plain": [
       "<Figure size 432x288 with 3 Axes>"
      ]
     },
     "metadata": {
      "needs_background": "light"
     },
     "output_type": "display_data"
    }
   ],
   "source": [
    "start_time = time.time()\n",
    "rfc = RandomForestClassifier(random_state=0)\n",
    "rfc_random = RandomizedSearchCV(estimator = rfc, \n",
    "                               param_distributions = random_grid, \n",
    "                               n_iter = 10, \n",
    "                               scoring = rsme_scorer,\n",
    "                               cv = 3, \n",
    "                               verbose=4, \n",
    "                               n_jobs = -1)\n",
    "rfc_random.fit(features_std, labels)\n",
    "y_pred_train = rfc_random.predict(features_std)\n",
    "total_time = time.time() - start_time\n",
    "print(\"Time: %s seconds\" % (total_time))\n",
    "\n",
    "print(\"Train Score: %s\" % rsme(labels, y_pred_train))\n",
    "print(classification_report(labels, y_pred_train,labels=TARGET_CLASES))\n",
    "plot_confusion_matrix(confusion_matrix(labels, y_pred_train),normalize=True,\n",
    "                          classes=TARGET_CLASES, title=\"Matriz de confusión (TRAIN)\")\n",
    "\n",
    "y_pred_test = rfc_random.predict(features_test_std)\n",
    "print(\"Test Score: %s\" % rsme(labels_test, y_pred_test))\n",
    "print(classification_report(labels_test, y_pred_test,labels=TARGET_CLASES))\n",
    "plot_confusion_matrix(confusion_matrix(labels_test, y_pred_test),normalize=True,\n",
    "                          classes=TARGET_CLASES, title=\"Matriz de confusión (TEST)\")\n",
    "\n",
    "results = results.append({'name': 'RandomForestClassifier',\n",
    "                          'model': rfc_random.best_estimator_,\n",
    "                          'train_score': rsme(y_pred_train,labels),\n",
    "                          'test_score': rsme(y_pred_test,labels_test),\n",
    "                          'time': total_time,\n",
    "                          'phase': 'RSCV'}, ignore_index=True)"
   ]
  },
  {
   "cell_type": "code",
   "execution_count": 41,
   "metadata": {},
   "outputs": [],
   "source": [
    "rfc_best_params = rfc_random.best_params_"
   ]
  },
  {
   "cell_type": "markdown",
   "metadata": {},
   "source": [
    "#### 6.1.b Hiperparámetros en RandomForestClassifier con Grid Search CV\n",
    "\n",
    "Se comparan los resultados en Test del modelo con parámetros por default y del obtenido mediante Randomized Search CV, se selecciona el mejor de ellos y se realiza un ajuste más fino de sus parámetros."
   ]
  },
  {
   "cell_type": "code",
   "execution_count": 42,
   "metadata": {},
   "outputs": [
    {
     "data": {
      "text/html": [
       "<div>\n",
       "<style scoped>\n",
       "    .dataframe tbody tr th:only-of-type {\n",
       "        vertical-align: middle;\n",
       "    }\n",
       "\n",
       "    .dataframe tbody tr th {\n",
       "        vertical-align: top;\n",
       "    }\n",
       "\n",
       "    .dataframe thead th {\n",
       "        text-align: right;\n",
       "    }\n",
       "</style>\n",
       "<table border=\"1\" class=\"dataframe\">\n",
       "  <thead>\n",
       "    <tr style=\"text-align: right;\">\n",
       "      <th></th>\n",
       "      <th>name</th>\n",
       "      <th>model</th>\n",
       "      <th>train_score</th>\n",
       "      <th>test_score</th>\n",
       "      <th>time</th>\n",
       "      <th>phase</th>\n",
       "    </tr>\n",
       "  </thead>\n",
       "  <tbody>\n",
       "    <tr>\n",
       "      <th>0</th>\n",
       "      <td>SGDClassifier</td>\n",
       "      <td>SGDClassifier(alpha=0.0001, average=False, cla...</td>\n",
       "      <td>1.325341</td>\n",
       "      <td>NaN</td>\n",
       "      <td>0.784838</td>\n",
       "      <td>Prueba</td>\n",
       "    </tr>\n",
       "    <tr>\n",
       "      <th>1</th>\n",
       "      <td>DecisionTreeClassifier</td>\n",
       "      <td>DecisionTreeClassifier(class_weight=None, crit...</td>\n",
       "      <td>0.138883</td>\n",
       "      <td>NaN</td>\n",
       "      <td>0.226044</td>\n",
       "      <td>Prueba</td>\n",
       "    </tr>\n",
       "    <tr>\n",
       "      <th>2</th>\n",
       "      <td>RandomForestClassifier</td>\n",
       "      <td>(DecisionTreeClassifier(class_weight=None, cri...</td>\n",
       "      <td>0.322767</td>\n",
       "      <td>NaN</td>\n",
       "      <td>0.541687</td>\n",
       "      <td>Prueba</td>\n",
       "    </tr>\n",
       "    <tr>\n",
       "      <th>3</th>\n",
       "      <td>GradientBoostingClassifier</td>\n",
       "      <td>([DecisionTreeRegressor(criterion='friedman_ms...</td>\n",
       "      <td>1.203827</td>\n",
       "      <td>NaN</td>\n",
       "      <td>13.682717</td>\n",
       "      <td>Prueba</td>\n",
       "    </tr>\n",
       "    <tr>\n",
       "      <th>4</th>\n",
       "      <td>KNeighborsClassifier</td>\n",
       "      <td>KNeighborsClassifier(algorithm='auto', leaf_si...</td>\n",
       "      <td>1.063533</td>\n",
       "      <td>NaN</td>\n",
       "      <td>7.522428</td>\n",
       "      <td>Prueba</td>\n",
       "    </tr>\n",
       "    <tr>\n",
       "      <th>5</th>\n",
       "      <td>DecisionTreeClassifier</td>\n",
       "      <td>DecisionTreeClassifier(class_weight=None, crit...</td>\n",
       "      <td>0.345854</td>\n",
       "      <td>1.190535</td>\n",
       "      <td>1.734979</td>\n",
       "      <td>Train</td>\n",
       "    </tr>\n",
       "    <tr>\n",
       "      <th>6</th>\n",
       "      <td>RandomForestClassifier</td>\n",
       "      <td>(DecisionTreeClassifier(class_weight=None, cri...</td>\n",
       "      <td>0.437697</td>\n",
       "      <td>1.134709</td>\n",
       "      <td>7.078236</td>\n",
       "      <td>Train</td>\n",
       "    </tr>\n",
       "    <tr>\n",
       "      <th>7</th>\n",
       "      <td>KNeighborsClassifier</td>\n",
       "      <td>KNeighborsClassifier(algorithm='auto', leaf_si...</td>\n",
       "      <td>1.043590</td>\n",
       "      <td>1.063788</td>\n",
       "      <td>720.200313</td>\n",
       "      <td>Train</td>\n",
       "    </tr>\n",
       "    <tr>\n",
       "      <th>8</th>\n",
       "      <td>RandomForestClassifier</td>\n",
       "      <td>(DecisionTreeClassifier(class_weight=None, cri...</td>\n",
       "      <td>0.975070</td>\n",
       "      <td>1.112185</td>\n",
       "      <td>3967.778204</td>\n",
       "      <td>RSCV</td>\n",
       "    </tr>\n",
       "  </tbody>\n",
       "</table>\n",
       "</div>"
      ],
      "text/plain": [
       "                         name  \\\n",
       "0               SGDClassifier   \n",
       "1      DecisionTreeClassifier   \n",
       "2      RandomForestClassifier   \n",
       "3  GradientBoostingClassifier   \n",
       "4        KNeighborsClassifier   \n",
       "5      DecisionTreeClassifier   \n",
       "6      RandomForestClassifier   \n",
       "7        KNeighborsClassifier   \n",
       "8      RandomForestClassifier   \n",
       "\n",
       "                                               model  train_score  test_score  \\\n",
       "0  SGDClassifier(alpha=0.0001, average=False, cla...     1.325341         NaN   \n",
       "1  DecisionTreeClassifier(class_weight=None, crit...     0.138883         NaN   \n",
       "2  (DecisionTreeClassifier(class_weight=None, cri...     0.322767         NaN   \n",
       "3  ([DecisionTreeRegressor(criterion='friedman_ms...     1.203827         NaN   \n",
       "4  KNeighborsClassifier(algorithm='auto', leaf_si...     1.063533         NaN   \n",
       "5  DecisionTreeClassifier(class_weight=None, crit...     0.345854    1.190535   \n",
       "6  (DecisionTreeClassifier(class_weight=None, cri...     0.437697    1.134709   \n",
       "7  KNeighborsClassifier(algorithm='auto', leaf_si...     1.043590    1.063788   \n",
       "8  (DecisionTreeClassifier(class_weight=None, cri...     0.975070    1.112185   \n",
       "\n",
       "          time   phase  \n",
       "0     0.784838  Prueba  \n",
       "1     0.226044  Prueba  \n",
       "2     0.541687  Prueba  \n",
       "3    13.682717  Prueba  \n",
       "4     7.522428  Prueba  \n",
       "5     1.734979   Train  \n",
       "6     7.078236   Train  \n",
       "7   720.200313   Train  \n",
       "8  3967.778204    RSCV  "
      ]
     },
     "execution_count": 42,
     "metadata": {},
     "output_type": "execute_result"
    }
   ],
   "source": [
    "results"
   ]
  },
  {
   "cell_type": "markdown",
   "metadata": {},
   "source": [
    "Dado que en la etapa de RSCV se obtuvieron mejores resultados, se utilizarán esos parámetros en vez de los que vienen por defecto."
   ]
  },
  {
   "cell_type": "code",
   "execution_count": 48,
   "metadata": {},
   "outputs": [],
   "source": [
    "train_score = results[(results.name == 'RandomForestClassifier')&(results.phase == 'Train')]['test_score'].item()\n",
    "rscv_score = results[(results.name == 'RandomForestClassifier')&(results.phase == 'RSCV')]['test_score'].item()"
   ]
  },
  {
   "cell_type": "code",
   "execution_count": 51,
   "metadata": {},
   "outputs": [
    {
     "data": {
      "text/plain": [
       "{'n_estimators': 420, 'max_features': 'log2', 'max_depth': 20}"
      ]
     },
     "execution_count": 51,
     "metadata": {},
     "output_type": "execute_result"
    }
   ],
   "source": [
    "if rscv_score < train_score:\n",
    "    rfc_selected_params = rfc_best_params\n",
    "else:\n",
    "    rfc_selected_params = clf_rfc_default_params\n",
    "rfc_selected_params"
   ]
  },
  {
   "cell_type": "code",
   "execution_count": 52,
   "metadata": {
    "scrolled": true
   },
   "outputs": [
    {
     "name": "stdout",
     "output_type": "stream",
     "text": [
      "Fitting 3 folds for each of 36 candidates, totalling 108 fits\n"
     ]
    },
    {
     "name": "stderr",
     "output_type": "stream",
     "text": [
      "[Parallel(n_jobs=-1)]: Using backend LokyBackend with 4 concurrent workers.\n",
      "[Parallel(n_jobs=-1)]: Done  17 tasks      | elapsed: 19.0min\n",
      "[Parallel(n_jobs=-1)]: Done  90 tasks      | elapsed: 145.0min\n",
      "[Parallel(n_jobs=-1)]: Done 108 out of 108 | elapsed: 175.3min finished\n"
     ]
    },
    {
     "name": "stdout",
     "output_type": "stream",
     "text": [
      "Time: 10691.310396194458 seconds\n",
      "Train Score: 1.1325661225007821\n",
      "              precision    recall  f1-score   support\n",
      "\n",
      "           0       0.67      0.66      0.67     70940\n",
      "           1       0.59      0.71      0.65     98543\n",
      "           2       0.51      0.37      0.43     56488\n",
      "           3       0.57      0.14      0.22     40442\n",
      "           4       0.73      0.07      0.13     35328\n",
      "           5       0.58      0.94      0.72     93836\n",
      "\n",
      "    accuracy                           0.59    395577\n",
      "   macro avg       0.61      0.48      0.47    395577\n",
      "weighted avg       0.60      0.59      0.55    395577\n",
      "\n",
      "Test Score: 1.1377291834911445\n",
      "              precision    recall  f1-score   support\n",
      "\n",
      "           0       0.76      0.72      0.74     35860\n",
      "           1       0.58      0.64      0.61     36067\n",
      "           2       0.46      0.28      0.35     15665\n",
      "           3       0.27      0.06      0.10      6015\n",
      "           4       0.07      0.01      0.01      1252\n",
      "           5       0.00      0.67      0.00         3\n",
      "\n",
      "    accuracy                           0.56     94862\n",
      "   macro avg       0.36      0.40      0.30     94862\n",
      "weighted avg       0.60      0.56      0.57     94862\n",
      "\n"
     ]
    },
    {
     "data": {
      "image/png": "[encoded data removed]",
      "text/plain": [
       "<Figure size 432x288 with 3 Axes>"
      ]
     },
     "metadata": {
      "needs_background": "light"
     },
     "output_type": "display_data"
    }
   ],
   "source": [
    "start_time = time.time()\n",
    "parms ={\n",
    "    'n_estimators': [rfc_selected_params['n_estimators'] + x for x in [-5, 5, 10, 15, 20, 30]],\n",
    "    'max_features': [rfc_selected_params['max_features']],\n",
    "    'max_depth': [rfc_selected_params['max_depth'] + x for x in [-5, 5, 10, 15, 20, 30]]\n",
    "}\n",
    "clf_rfc = RandomForestClassifier(random_state=0)\n",
    "gscv_rfc = GridSearchCV(estimator=clf_rfc,\n",
    "                               param_grid=parms,\n",
    "                               scoring=rsme_scorer,\n",
    "                               cv=3,\n",
    "                               verbose=4, \n",
    "                               n_jobs=-1)\n",
    "gscv_rfc.fit(features_std,labels)\n",
    "y_pred_train = gscv_rfc.predict(features_std)\n",
    "total_time = time.time() - start_time\n",
    "print(\"Time: %s seconds\" % (total_time))\n",
    "\n",
    "print(\"Train Score: %s\" % rsme(labels, y_pred_train))\n",
    "print(classification_report(labels, y_pred_train,labels=TARGET_CLASES))\n",
    "plot_confusion_matrix(confusion_matrix(labels, y_pred_train),normalize=True,\n",
    "                          classes=TARGET_CLASES, title=\"Matriz de confusión (TRAIN)\")\n",
    "\n",
    "y_pred_test = gscv_rfc.predict(features_test_std)\n",
    "print(\"Test Score: %s\" % rsme(labels_test, y_pred_test))\n",
    "print(classification_report(labels_test, y_pred_test,labels=TARGET_CLASES))\n",
    "plot_confusion_matrix(confusion_matrix(labels_test, y_pred_test),normalize=True,\n",
    "                          classes=TARGET_CLASES, title=\"Matriz de confusión (TEST)\")\n",
    "\n",
    "results = results.append({'name': 'RandomForestClassifier',\n",
    "                          'model': gscv_rfc.best_estimator_,\n",
    "                          'train_score': rsme(y_pred_train,labels),\n",
    "                          'test_score': rsme(y_pred_test,labels_test),\n",
    "                          'time': total_time,\n",
    "                          'phase': 'GSCV'}, ignore_index=True)"
   ]
  },
  {
   "cell_type": "code",
   "execution_count": 53,
   "metadata": {
    "scrolled": true
   },
   "outputs": [
    {
     "data": {
      "text/html": [
       "<div>\n",
       "<style scoped>\n",
       "    .dataframe tbody tr th:only-of-type {\n",
       "        vertical-align: middle;\n",
       "    }\n",
       "\n",
       "    .dataframe tbody tr th {\n",
       "        vertical-align: top;\n",
       "    }\n",
       "\n",
       "    .dataframe thead th {\n",
       "        text-align: right;\n",
       "    }\n",
       "</style>\n",
       "<table border=\"1\" class=\"dataframe\">\n",
       "  <thead>\n",
       "    <tr style=\"text-align: right;\">\n",
       "      <th></th>\n",
       "      <th>name</th>\n",
       "      <th>model</th>\n",
       "      <th>train_score</th>\n",
       "      <th>test_score</th>\n",
       "      <th>time</th>\n",
       "      <th>phase</th>\n",
       "    </tr>\n",
       "  </thead>\n",
       "  <tbody>\n",
       "    <tr>\n",
       "      <th>0</th>\n",
       "      <td>SGDClassifier</td>\n",
       "      <td>SGDClassifier(alpha=0.0001, average=False, cla...</td>\n",
       "      <td>1.325341</td>\n",
       "      <td>NaN</td>\n",
       "      <td>0.784838</td>\n",
       "      <td>Prueba</td>\n",
       "    </tr>\n",
       "    <tr>\n",
       "      <th>1</th>\n",
       "      <td>DecisionTreeClassifier</td>\n",
       "      <td>DecisionTreeClassifier(class_weight=None, crit...</td>\n",
       "      <td>0.138883</td>\n",
       "      <td>NaN</td>\n",
       "      <td>0.226044</td>\n",
       "      <td>Prueba</td>\n",
       "    </tr>\n",
       "    <tr>\n",
       "      <th>2</th>\n",
       "      <td>RandomForestClassifier</td>\n",
       "      <td>(DecisionTreeClassifier(class_weight=None, cri...</td>\n",
       "      <td>0.322767</td>\n",
       "      <td>NaN</td>\n",
       "      <td>0.541687</td>\n",
       "      <td>Prueba</td>\n",
       "    </tr>\n",
       "    <tr>\n",
       "      <th>3</th>\n",
       "      <td>GradientBoostingClassifier</td>\n",
       "      <td>([DecisionTreeRegressor(criterion='friedman_ms...</td>\n",
       "      <td>1.203827</td>\n",
       "      <td>NaN</td>\n",
       "      <td>13.682717</td>\n",
       "      <td>Prueba</td>\n",
       "    </tr>\n",
       "    <tr>\n",
       "      <th>4</th>\n",
       "      <td>KNeighborsClassifier</td>\n",
       "      <td>KNeighborsClassifier(algorithm='auto', leaf_si...</td>\n",
       "      <td>1.063533</td>\n",
       "      <td>NaN</td>\n",
       "      <td>7.522428</td>\n",
       "      <td>Prueba</td>\n",
       "    </tr>\n",
       "    <tr>\n",
       "      <th>5</th>\n",
       "      <td>DecisionTreeClassifier</td>\n",
       "      <td>DecisionTreeClassifier(class_weight=None, crit...</td>\n",
       "      <td>0.345854</td>\n",
       "      <td>1.190535</td>\n",
       "      <td>1.734979</td>\n",
       "      <td>Train</td>\n",
       "    </tr>\n",
       "    <tr>\n",
       "      <th>6</th>\n",
       "      <td>RandomForestClassifier</td>\n",
       "      <td>(DecisionTreeClassifier(class_weight=None, cri...</td>\n",
       "      <td>0.437697</td>\n",
       "      <td>1.134709</td>\n",
       "      <td>7.078236</td>\n",
       "      <td>Train</td>\n",
       "    </tr>\n",
       "    <tr>\n",
       "      <th>7</th>\n",
       "      <td>KNeighborsClassifier</td>\n",
       "      <td>KNeighborsClassifier(algorithm='auto', leaf_si...</td>\n",
       "      <td>1.043590</td>\n",
       "      <td>1.063788</td>\n",
       "      <td>720.200313</td>\n",
       "      <td>Train</td>\n",
       "    </tr>\n",
       "    <tr>\n",
       "      <th>8</th>\n",
       "      <td>RandomForestClassifier</td>\n",
       "      <td>(DecisionTreeClassifier(class_weight=None, cri...</td>\n",
       "      <td>0.975070</td>\n",
       "      <td>1.112185</td>\n",
       "      <td>3967.778204</td>\n",
       "      <td>RSCV</td>\n",
       "    </tr>\n",
       "    <tr>\n",
       "      <th>9</th>\n",
       "      <td>RandomForestClassifier</td>\n",
       "      <td>(DecisionTreeClassifier(class_weight=None, cri...</td>\n",
       "      <td>1.132566</td>\n",
       "      <td>1.137729</td>\n",
       "      <td>10691.310396</td>\n",
       "      <td>GSCV</td>\n",
       "    </tr>\n",
       "  </tbody>\n",
       "</table>\n",
       "</div>"
      ],
      "text/plain": [
       "                         name  \\\n",
       "0               SGDClassifier   \n",
       "1      DecisionTreeClassifier   \n",
       "2      RandomForestClassifier   \n",
       "3  GradientBoostingClassifier   \n",
       "4        KNeighborsClassifier   \n",
       "5      DecisionTreeClassifier   \n",
       "6      RandomForestClassifier   \n",
       "7        KNeighborsClassifier   \n",
       "8      RandomForestClassifier   \n",
       "9      RandomForestClassifier   \n",
       "\n",
       "                                               model  train_score  test_score  \\\n",
       "0  SGDClassifier(alpha=0.0001, average=False, cla...     1.325341         NaN   \n",
       "1  DecisionTreeClassifier(class_weight=None, crit...     0.138883         NaN   \n",
       "2  (DecisionTreeClassifier(class_weight=None, cri...     0.322767         NaN   \n",
       "3  ([DecisionTreeRegressor(criterion='friedman_ms...     1.203827         NaN   \n",
       "4  KNeighborsClassifier(algorithm='auto', leaf_si...     1.063533         NaN   \n",
       "5  DecisionTreeClassifier(class_weight=None, crit...     0.345854    1.190535   \n",
       "6  (DecisionTreeClassifier(class_weight=None, cri...     0.437697    1.134709   \n",
       "7  KNeighborsClassifier(algorithm='auto', leaf_si...     1.043590    1.063788   \n",
       "8  (DecisionTreeClassifier(class_weight=None, cri...     0.975070    1.112185   \n",
       "9  (DecisionTreeClassifier(class_weight=None, cri...     1.132566    1.137729   \n",
       "\n",
       "           time   phase  \n",
       "0      0.784838  Prueba  \n",
       "1      0.226044  Prueba  \n",
       "2      0.541687  Prueba  \n",
       "3     13.682717  Prueba  \n",
       "4      7.522428  Prueba  \n",
       "5      1.734979   Train  \n",
       "6      7.078236   Train  \n",
       "7    720.200313   Train  \n",
       "8   3967.778204    RSCV  \n",
       "9  10691.310396    GSCV  "
      ]
     },
     "execution_count": 53,
     "metadata": {},
     "output_type": "execute_result"
    }
   ],
   "source": [
    "results"
   ]
  },
  {
   "cell_type": "markdown",
   "metadata": {},
   "source": [
    "#### 6.2.a Hiperparámetros en KNeighborsClassifier con Randomized Search CV\n",
    "\n",
    "La etapa de ajuste y evaluación de hiper-parámetros se realiza con el objetivo de probar diferentes valores de los parámetros que pueden mejorar la baja performance que se observó en la etapa anterior, pero sin caer en una situación de sobre-ajuste. A continuación se describen los parámetros seleccionados y su justificación.\n",
    "\n",
    "* **n_neighbors**\n",
    "\n",
    "Este parámetro define la cantidad de vecinos tomados como referencia para votar la clase de cada dato y, por lo tanto, tiene relación con el sobre-ajuste del modelo ya que, a menores valores de este parámetro, mayores posibilidades de generar sobre-ajuste.\n",
    "\n",
    "* **p**\n",
    "\n",
    "Este parámetro define la distancia que se utiliza como métrica para medir las similitudes o diferencias entre los datos y, dado que este modelo no utiliza probabilidades, es un parámetro que tiene una relevancia clave en la performance obtenida.\n",
    "\n",
    "Al igual que en el caso de Random Forest, a fines de encontrar una mejor aproximación de los valores a explorar, en los parámetros seleccionados para ajustar, se realiza una validación cruzada con una selección aleatoria de los valores de los parámetros. Luego, el resultado obtenido, se tomará como punto de partida para un ajuste mediante Grid Search CV."
   ]
  },
  {
   "cell_type": "code",
   "execution_count": 54,
   "metadata": {
    "scrolled": true
   },
   "outputs": [],
   "source": [
    "n_neighbors = [int(x) + clf_neigh_default_params['n_neighbors'] for x in np.linspace(start = 10, stop = 1000, num = 100)]\n",
    "p = [int(x) + clf_neigh_default_params['n_neighbors'] for x in np.linspace(start = 1, stop = 5, num = 5)]\n",
    "random_grid_knn = {'n_neighbors': n_neighbors,\n",
    "               'p': p}"
   ]
  },
  {
   "cell_type": "code",
   "execution_count": 56,
   "metadata": {
    "scrolled": true
   },
   "outputs": [
    {
     "name": "stdout",
     "output_type": "stream",
     "text": [
      "Fitting 3 folds for each of 10 candidates, totalling 30 fits\n"
     ]
    },
    {
     "name": "stderr",
     "output_type": "stream",
     "text": [
      "[Parallel(n_jobs=-1)]: Using backend LokyBackend with 4 concurrent workers.\n",
      "[Parallel(n_jobs=-1)]: Done  17 tasks      | elapsed: 94.3min\n",
      "/Users/nsalina/anaconda3/lib/python3.7/site-packages/joblib/externals/loky/process_executor.py:706: UserWarning: A worker stopped while some jobs were given to the executor. This can be caused by a too short worker timeout or by a memory leak.\n",
      "  \"timeout or by a memory leak.\", UserWarning\n",
      "/Users/nsalina/anaconda3/lib/python3.7/site-packages/joblib/externals/loky/process_executor.py:706: UserWarning: A worker stopped while some jobs were given to the executor. This can be caused by a too short worker timeout or by a memory leak.\n",
      "  \"timeout or by a memory leak.\", UserWarning\n",
      "[Parallel(n_jobs=-1)]: Done  30 out of  30 | elapsed: 148.6min finished\n"
     ]
    },
    {
     "name": "stdout",
     "output_type": "stream",
     "text": [
      "Time: 10227.351330041885 seconds\n",
      "Train Score: 1.163760324752708\n",
      "              precision    recall  f1-score   support\n",
      "\n",
      "           0       0.64      0.65      0.64     70940\n",
      "           1       0.54      0.66      0.60     98543\n",
      "           2       0.40      0.28      0.33     56488\n",
      "           3       0.32      0.11      0.17     40442\n",
      "           4       0.34      0.05      0.08     35328\n",
      "           5       0.58      0.90      0.71     93836\n",
      "\n",
      "    accuracy                           0.55    395577\n",
      "   macro avg       0.47      0.44      0.42    395577\n",
      "weighted avg       0.51      0.55      0.50    395577\n",
      "\n",
      "Test Score: 1.1224168242294663\n",
      "              precision    recall  f1-score   support\n",
      "\n",
      "           0       0.75      0.70      0.72     35860\n",
      "           1       0.56      0.62      0.59     36067\n",
      "           2       0.44      0.26      0.33     15665\n",
      "           3       0.23      0.09      0.13      6015\n",
      "           4       0.06      0.02      0.03      1252\n",
      "           5       0.00      1.00      0.00         3\n",
      "\n",
      "    accuracy                           0.55     94862\n",
      "   macro avg       0.34      0.45      0.30     94862\n",
      "weighted avg       0.58      0.55      0.56     94862\n",
      "\n"
     ]
    },
    {
     "data": {
      "image/png": "[encoded data removed]",
      "text/plain": [
       "<Figure size 432x288 with 3 Axes>"
      ]
     },
     "metadata": {
      "needs_background": "light"
     },
     "output_type": "display_data"
    }
   ],
   "source": [
    "start_time = time.time()\n",
    "clf_neigh = KNeighborsClassifier()\n",
    "clf_neigh_random = RandomizedSearchCV(estimator = clf_neigh, \n",
    "                               param_distributions = random_grid_knn, \n",
    "                               n_iter = 10, \n",
    "                               scoring = rsme_scorer,\n",
    "                               cv = 3, \n",
    "                               verbose=4, \n",
    "                               n_jobs = -1)\n",
    "clf_neigh_random.fit(features_std, labels)\n",
    "y_pred_train = clf_neigh_random.predict(features_std)\n",
    "total_time = time.time() - start_time\n",
    "print(\"Time: %s seconds\" % (total_time))\n",
    "\n",
    "print(\"Train Score: %s\" % rsme(labels, y_pred_train))\n",
    "print(classification_report(labels, y_pred_train,labels=TARGET_CLASES))\n",
    "plot_confusion_matrix(confusion_matrix(labels, y_pred_train),normalize=True,\n",
    "                          classes=TARGET_CLASES, title=\"Matriz de confusión (TRAIN)\")\n",
    "\n",
    "y_pred_test = clf_neigh_random.predict(features_test_std)\n",
    "print(\"Test Score: %s\" % rsme(labels_test, y_pred_test))\n",
    "print(classification_report(labels_test, y_pred_test,labels=TARGET_CLASES))\n",
    "plot_confusion_matrix(confusion_matrix(labels_test, y_pred_test),normalize=True,\n",
    "                          classes=TARGET_CLASES, title=\"Matriz de confusión (TEST)\")\n",
    "\n",
    "results = results.append({'name': 'KNeighborsClassifier',\n",
    "                          'model': clf_neigh_random.best_estimator_,\n",
    "                          'train_score': rsme(y_pred_train,labels),\n",
    "                          'test_score': rsme(y_pred_test,labels_test),\n",
    "                          'time': total_time,\n",
    "                          'phase': 'RSCV'}, ignore_index=True)"
   ]
  },
  {
   "cell_type": "code",
   "execution_count": 57,
   "metadata": {},
   "outputs": [],
   "source": [
    "clf_neigh_best_params = clf_neigh_random.best_params_"
   ]
  },
  {
   "cell_type": "markdown",
   "metadata": {},
   "source": [
    "#### 6.2.b Hiperparámetros en K Neighbors con Grid Search CV\n",
    "\n",
    "Se comparan los resultados en Test del modelo con parámetros por default y del obtenido mediante Randomized Search CV, se selecciona el mejor de ellos y se realiza un ajuste más fino de sus parámetros."
   ]
  },
  {
   "cell_type": "code",
   "execution_count": 58,
   "metadata": {},
   "outputs": [
    {
     "data": {
      "text/html": [
       "<div>\n",
       "<style scoped>\n",
       "    .dataframe tbody tr th:only-of-type {\n",
       "        vertical-align: middle;\n",
       "    }\n",
       "\n",
       "    .dataframe tbody tr th {\n",
       "        vertical-align: top;\n",
       "    }\n",
       "\n",
       "    .dataframe thead th {\n",
       "        text-align: right;\n",
       "    }\n",
       "</style>\n",
       "<table border=\"1\" class=\"dataframe\">\n",
       "  <thead>\n",
       "    <tr style=\"text-align: right;\">\n",
       "      <th></th>\n",
       "      <th>name</th>\n",
       "      <th>model</th>\n",
       "      <th>train_score</th>\n",
       "      <th>test_score</th>\n",
       "      <th>time</th>\n",
       "      <th>phase</th>\n",
       "    </tr>\n",
       "  </thead>\n",
       "  <tbody>\n",
       "    <tr>\n",
       "      <th>0</th>\n",
       "      <td>SGDClassifier</td>\n",
       "      <td>SGDClassifier(alpha=0.0001, average=False, cla...</td>\n",
       "      <td>1.325341</td>\n",
       "      <td>NaN</td>\n",
       "      <td>0.784838</td>\n",
       "      <td>Prueba</td>\n",
       "    </tr>\n",
       "    <tr>\n",
       "      <th>1</th>\n",
       "      <td>DecisionTreeClassifier</td>\n",
       "      <td>DecisionTreeClassifier(class_weight=None, crit...</td>\n",
       "      <td>0.138883</td>\n",
       "      <td>NaN</td>\n",
       "      <td>0.226044</td>\n",
       "      <td>Prueba</td>\n",
       "    </tr>\n",
       "    <tr>\n",
       "      <th>2</th>\n",
       "      <td>RandomForestClassifier</td>\n",
       "      <td>(DecisionTreeClassifier(class_weight=None, cri...</td>\n",
       "      <td>0.322767</td>\n",
       "      <td>NaN</td>\n",
       "      <td>0.541687</td>\n",
       "      <td>Prueba</td>\n",
       "    </tr>\n",
       "    <tr>\n",
       "      <th>3</th>\n",
       "      <td>GradientBoostingClassifier</td>\n",
       "      <td>([DecisionTreeRegressor(criterion='friedman_ms...</td>\n",
       "      <td>1.203827</td>\n",
       "      <td>NaN</td>\n",
       "      <td>13.682717</td>\n",
       "      <td>Prueba</td>\n",
       "    </tr>\n",
       "    <tr>\n",
       "      <th>4</th>\n",
       "      <td>KNeighborsClassifier</td>\n",
       "      <td>KNeighborsClassifier(algorithm='auto', leaf_si...</td>\n",
       "      <td>1.063533</td>\n",
       "      <td>NaN</td>\n",
       "      <td>7.522428</td>\n",
       "      <td>Prueba</td>\n",
       "    </tr>\n",
       "    <tr>\n",
       "      <th>5</th>\n",
       "      <td>DecisionTreeClassifier</td>\n",
       "      <td>DecisionTreeClassifier(class_weight=None, crit...</td>\n",
       "      <td>0.345854</td>\n",
       "      <td>1.190535</td>\n",
       "      <td>1.734979</td>\n",
       "      <td>Train</td>\n",
       "    </tr>\n",
       "    <tr>\n",
       "      <th>6</th>\n",
       "      <td>RandomForestClassifier</td>\n",
       "      <td>(DecisionTreeClassifier(class_weight=None, cri...</td>\n",
       "      <td>0.437697</td>\n",
       "      <td>1.134709</td>\n",
       "      <td>7.078236</td>\n",
       "      <td>Train</td>\n",
       "    </tr>\n",
       "    <tr>\n",
       "      <th>7</th>\n",
       "      <td>KNeighborsClassifier</td>\n",
       "      <td>KNeighborsClassifier(algorithm='auto', leaf_si...</td>\n",
       "      <td>1.043590</td>\n",
       "      <td>1.063788</td>\n",
       "      <td>720.200313</td>\n",
       "      <td>Train</td>\n",
       "    </tr>\n",
       "    <tr>\n",
       "      <th>8</th>\n",
       "      <td>RandomForestClassifier</td>\n",
       "      <td>(DecisionTreeClassifier(class_weight=None, cri...</td>\n",
       "      <td>0.975070</td>\n",
       "      <td>1.112185</td>\n",
       "      <td>3967.778204</td>\n",
       "      <td>RSCV</td>\n",
       "    </tr>\n",
       "    <tr>\n",
       "      <th>9</th>\n",
       "      <td>RandomForestClassifier</td>\n",
       "      <td>(DecisionTreeClassifier(class_weight=None, cri...</td>\n",
       "      <td>1.132566</td>\n",
       "      <td>1.137729</td>\n",
       "      <td>10691.310396</td>\n",
       "      <td>GSCV</td>\n",
       "    </tr>\n",
       "    <tr>\n",
       "      <th>10</th>\n",
       "      <td>KNeighborsClassifier</td>\n",
       "      <td>KNeighborsClassifier(algorithm='auto', leaf_si...</td>\n",
       "      <td>1.163760</td>\n",
       "      <td>1.122417</td>\n",
       "      <td>10227.351330</td>\n",
       "      <td>RSCV</td>\n",
       "    </tr>\n",
       "  </tbody>\n",
       "</table>\n",
       "</div>"
      ],
      "text/plain": [
       "                          name  \\\n",
       "0                SGDClassifier   \n",
       "1       DecisionTreeClassifier   \n",
       "2       RandomForestClassifier   \n",
       "3   GradientBoostingClassifier   \n",
       "4         KNeighborsClassifier   \n",
       "5       DecisionTreeClassifier   \n",
       "6       RandomForestClassifier   \n",
       "7         KNeighborsClassifier   \n",
       "8       RandomForestClassifier   \n",
       "9       RandomForestClassifier   \n",
       "10        KNeighborsClassifier   \n",
       "\n",
       "                                                model  train_score  \\\n",
       "0   SGDClassifier(alpha=0.0001, average=False, cla...     1.325341   \n",
       "1   DecisionTreeClassifier(class_weight=None, crit...     0.138883   \n",
       "2   (DecisionTreeClassifier(class_weight=None, cri...     0.322767   \n",
       "3   ([DecisionTreeRegressor(criterion='friedman_ms...     1.203827   \n",
       "4   KNeighborsClassifier(algorithm='auto', leaf_si...     1.063533   \n",
       "5   DecisionTreeClassifier(class_weight=None, crit...     0.345854   \n",
       "6   (DecisionTreeClassifier(class_weight=None, cri...     0.437697   \n",
       "7   KNeighborsClassifier(algorithm='auto', leaf_si...     1.043590   \n",
       "8   (DecisionTreeClassifier(class_weight=None, cri...     0.975070   \n",
       "9   (DecisionTreeClassifier(class_weight=None, cri...     1.132566   \n",
       "10  KNeighborsClassifier(algorithm='auto', leaf_si...     1.163760   \n",
       "\n",
       "    test_score          time   phase  \n",
       "0          NaN      0.784838  Prueba  \n",
       "1          NaN      0.226044  Prueba  \n",
       "2          NaN      0.541687  Prueba  \n",
       "3          NaN     13.682717  Prueba  \n",
       "4          NaN      7.522428  Prueba  \n",
       "5     1.190535      1.734979   Train  \n",
       "6     1.134709      7.078236   Train  \n",
       "7     1.063788    720.200313   Train  \n",
       "8     1.112185   3967.778204    RSCV  \n",
       "9     1.137729  10691.310396    GSCV  \n",
       "10    1.122417  10227.351330    RSCV  "
      ]
     },
     "execution_count": 58,
     "metadata": {},
     "output_type": "execute_result"
    }
   ],
   "source": [
    "results"
   ]
  },
  {
   "cell_type": "markdown",
   "metadata": {},
   "source": [
    "Dado que en la etapa de RSCV no se lograron mejorar los resultados, se utilizarán los parámetros que vienen por defecto."
   ]
  },
  {
   "cell_type": "code",
   "execution_count": 59,
   "metadata": {},
   "outputs": [
    {
     "data": {
      "text/plain": [
       "{'algorithm': 'auto',\n",
       " 'leaf_size': 30,\n",
       " 'metric': 'minkowski',\n",
       " 'metric_params': None,\n",
       " 'n_jobs': None,\n",
       " 'n_neighbors': 5,\n",
       " 'p': 2,\n",
       " 'weights': 'uniform'}"
      ]
     },
     "execution_count": 59,
     "metadata": {},
     "output_type": "execute_result"
    }
   ],
   "source": [
    "train_score = results[(results.name == 'KNeighborsClassifier')&(results.phase == 'Train')]['test_score'].item()\n",
    "rscv_score = results[(results.name == 'KNeighborsClassifier')&(results.phase == 'RSCV')]['test_score'].item()\n",
    "if rscv_score < train_score:\n",
    "    neigh_selected_params = clf_neigh_best_params\n",
    "else:\n",
    "    neigh_selected_params = clf_neigh_default_params\n",
    "neigh_selected_params"
   ]
  },
  {
   "cell_type": "code",
   "execution_count": 60,
   "metadata": {},
   "outputs": [
    {
     "data": {
      "text/plain": [
       "{'algorithm': 'auto',\n",
       " 'leaf_size': 30,\n",
       " 'metric': 'minkowski',\n",
       " 'metric_params': None,\n",
       " 'n_jobs': None,\n",
       " 'n_neighbors': 5,\n",
       " 'p': 2,\n",
       " 'weights': 'uniform'}"
      ]
     },
     "execution_count": 60,
     "metadata": {},
     "output_type": "execute_result"
    }
   ],
   "source": [
    "neigh_selected_params = clf_neigh_default_params\n",
    "neigh_selected_params"
   ]
  },
  {
   "cell_type": "code",
   "execution_count": 61,
   "metadata": {
    "scrolled": true
   },
   "outputs": [
    {
     "name": "stdout",
     "output_type": "stream",
     "text": [
      "Fitting 3 folds for each of 10 candidates, totalling 30 fits\n"
     ]
    },
    {
     "name": "stderr",
     "output_type": "stream",
     "text": [
      "[Parallel(n_jobs=-1)]: Using backend LokyBackend with 4 concurrent workers.\n",
      "[Parallel(n_jobs=-1)]: Done  17 tasks      | elapsed: 55.5min\n",
      "[Parallel(n_jobs=-1)]: Done  30 out of  30 | elapsed: 92.0min finished\n"
     ]
    },
    {
     "name": "stdout",
     "output_type": "stream",
     "text": [
      "Time: 6219.706017971039 seconds\n",
      "Train Score: 1.0896972603054198\n",
      "              precision    recall  f1-score   support\n",
      "\n",
      "           0       0.67      0.74      0.70     70940\n",
      "           1       0.59      0.68      0.63     98543\n",
      "           2       0.48      0.37      0.41     56488\n",
      "           3       0.42      0.25      0.32     40442\n",
      "           4       0.44      0.21      0.29     35328\n",
      "           5       0.66      0.83      0.74     93836\n",
      "\n",
      "    accuracy                           0.60    395577\n",
      "   macro avg       0.54      0.51      0.52    395577\n",
      "weighted avg       0.57      0.60      0.58    395577\n",
      "\n",
      "Test Score: 1.0688885922426865\n",
      "              precision    recall  f1-score   support\n",
      "\n",
      "           0       0.72      0.71      0.71     35860\n",
      "           1       0.54      0.57      0.56     36067\n",
      "           2       0.42      0.26      0.32     15665\n",
      "           3       0.25      0.14      0.18      6015\n",
      "           4       0.07      0.09      0.08      1252\n",
      "           5       0.00      0.67      0.00         3\n",
      "\n",
      "    accuracy                           0.54     94862\n",
      "   macro avg       0.33      0.41      0.31     94862\n",
      "weighted avg       0.56      0.54      0.55     94862\n",
      "\n"
     ]
    },
    {
     "data": {
      "image/png": "[encoded data removed]",
      "text/plain": [
       "<Figure size 432x288 with 3 Axes>"
      ]
     },
     "metadata": {
      "needs_background": "light"
     },
     "output_type": "display_data"
    }
   ],
   "source": [
    "start_time = time.time()\n",
    "parms ={\n",
    "    'n_neighbors': [neigh_selected_params['n_neighbors'] + x for x in [-2, -1, 1, 2, 5]],\n",
    "    'p': [neigh_selected_params['p'] + x for x in [-1, 1]]\n",
    "}\n",
    "clf_neigh = KNeighborsClassifier()\n",
    "gscv_clf_neigh = GridSearchCV(estimator=clf_neigh,\n",
    "                               param_grid=parms,\n",
    "                               scoring=rsme_scorer,\n",
    "                               cv=3,\n",
    "                               verbose=4, \n",
    "                               n_jobs=-1)\n",
    "gscv_clf_neigh.fit(features_std,labels)\n",
    "y_pred_train = gscv_clf_neigh.predict(features_std)\n",
    "total_time = time.time() - start_time\n",
    "print(\"Time: %s seconds\" % (total_time))\n",
    "\n",
    "print(\"Train Score: %s\" % rsme(labels, y_pred_train))\n",
    "print(classification_report(labels, y_pred_train,labels=TARGET_CLASES))\n",
    "plot_confusion_matrix(confusion_matrix(labels, y_pred_train),normalize=True,\n",
    "                          classes=TARGET_CLASES, title=\"Matriz de confusión (TRAIN)\")\n",
    "\n",
    "y_pred_test = gscv_clf_neigh.predict(features_test_std)\n",
    "print(\"Test Score: %s\" % rsme(labels_test, y_pred_test))\n",
    "print(classification_report(labels_test, y_pred_test,labels=TARGET_CLASES))\n",
    "plot_confusion_matrix(confusion_matrix(labels_test, y_pred_test),normalize=True,\n",
    "                          classes=TARGET_CLASES, title=\"Matriz de confusión (TEST)\")\n",
    "\n",
    "results = results.append({'name': 'KNeighborsClassifier',\n",
    "                          'model': gscv_clf_neigh.best_estimator_,\n",
    "                          'train_score': rsme(y_pred_train,labels),\n",
    "                          'test_score': rsme(y_pred_test,labels_test),\n",
    "                          'time': total_time,\n",
    "                          'phase': 'GSCV'}, ignore_index=True)"
   ]
  },
  {
   "cell_type": "code",
   "execution_count": 62,
   "metadata": {
    "scrolled": true
   },
   "outputs": [
    {
     "data": {
      "text/html": [
       "<div>\n",
       "<style scoped>\n",
       "    .dataframe tbody tr th:only-of-type {\n",
       "        vertical-align: middle;\n",
       "    }\n",
       "\n",
       "    .dataframe tbody tr th {\n",
       "        vertical-align: top;\n",
       "    }\n",
       "\n",
       "    .dataframe thead th {\n",
       "        text-align: right;\n",
       "    }\n",
       "</style>\n",
       "<table border=\"1\" class=\"dataframe\">\n",
       "  <thead>\n",
       "    <tr style=\"text-align: right;\">\n",
       "      <th></th>\n",
       "      <th>name</th>\n",
       "      <th>model</th>\n",
       "      <th>train_score</th>\n",
       "      <th>test_score</th>\n",
       "      <th>time</th>\n",
       "      <th>phase</th>\n",
       "    </tr>\n",
       "  </thead>\n",
       "  <tbody>\n",
       "    <tr>\n",
       "      <th>0</th>\n",
       "      <td>SGDClassifier</td>\n",
       "      <td>SGDClassifier(alpha=0.0001, average=False, cla...</td>\n",
       "      <td>1.325341</td>\n",
       "      <td>NaN</td>\n",
       "      <td>0.784838</td>\n",
       "      <td>Prueba</td>\n",
       "    </tr>\n",
       "    <tr>\n",
       "      <th>1</th>\n",
       "      <td>DecisionTreeClassifier</td>\n",
       "      <td>DecisionTreeClassifier(class_weight=None, crit...</td>\n",
       "      <td>0.138883</td>\n",
       "      <td>NaN</td>\n",
       "      <td>0.226044</td>\n",
       "      <td>Prueba</td>\n",
       "    </tr>\n",
       "    <tr>\n",
       "      <th>2</th>\n",
       "      <td>RandomForestClassifier</td>\n",
       "      <td>(DecisionTreeClassifier(class_weight=None, cri...</td>\n",
       "      <td>0.322767</td>\n",
       "      <td>NaN</td>\n",
       "      <td>0.541687</td>\n",
       "      <td>Prueba</td>\n",
       "    </tr>\n",
       "    <tr>\n",
       "      <th>3</th>\n",
       "      <td>GradientBoostingClassifier</td>\n",
       "      <td>([DecisionTreeRegressor(criterion='friedman_ms...</td>\n",
       "      <td>1.203827</td>\n",
       "      <td>NaN</td>\n",
       "      <td>13.682717</td>\n",
       "      <td>Prueba</td>\n",
       "    </tr>\n",
       "    <tr>\n",
       "      <th>4</th>\n",
       "      <td>KNeighborsClassifier</td>\n",
       "      <td>KNeighborsClassifier(algorithm='auto', leaf_si...</td>\n",
       "      <td>1.063533</td>\n",
       "      <td>NaN</td>\n",
       "      <td>7.522428</td>\n",
       "      <td>Prueba</td>\n",
       "    </tr>\n",
       "    <tr>\n",
       "      <th>5</th>\n",
       "      <td>DecisionTreeClassifier</td>\n",
       "      <td>DecisionTreeClassifier(class_weight=None, crit...</td>\n",
       "      <td>0.345854</td>\n",
       "      <td>1.190535</td>\n",
       "      <td>1.734979</td>\n",
       "      <td>Train</td>\n",
       "    </tr>\n",
       "    <tr>\n",
       "      <th>6</th>\n",
       "      <td>RandomForestClassifier</td>\n",
       "      <td>(DecisionTreeClassifier(class_weight=None, cri...</td>\n",
       "      <td>0.437697</td>\n",
       "      <td>1.134709</td>\n",
       "      <td>7.078236</td>\n",
       "      <td>Train</td>\n",
       "    </tr>\n",
       "    <tr>\n",
       "      <th>7</th>\n",
       "      <td>KNeighborsClassifier</td>\n",
       "      <td>KNeighborsClassifier(algorithm='auto', leaf_si...</td>\n",
       "      <td>1.043590</td>\n",
       "      <td>1.063788</td>\n",
       "      <td>720.200313</td>\n",
       "      <td>Train</td>\n",
       "    </tr>\n",
       "    <tr>\n",
       "      <th>8</th>\n",
       "      <td>RandomForestClassifier</td>\n",
       "      <td>(DecisionTreeClassifier(class_weight=None, cri...</td>\n",
       "      <td>0.975070</td>\n",
       "      <td>1.112185</td>\n",
       "      <td>3967.778204</td>\n",
       "      <td>RSCV</td>\n",
       "    </tr>\n",
       "    <tr>\n",
       "      <th>9</th>\n",
       "      <td>RandomForestClassifier</td>\n",
       "      <td>(DecisionTreeClassifier(class_weight=None, cri...</td>\n",
       "      <td>1.132566</td>\n",
       "      <td>1.137729</td>\n",
       "      <td>10691.310396</td>\n",
       "      <td>GSCV</td>\n",
       "    </tr>\n",
       "    <tr>\n",
       "      <th>10</th>\n",
       "      <td>KNeighborsClassifier</td>\n",
       "      <td>KNeighborsClassifier(algorithm='auto', leaf_si...</td>\n",
       "      <td>1.163760</td>\n",
       "      <td>1.122417</td>\n",
       "      <td>10227.351330</td>\n",
       "      <td>RSCV</td>\n",
       "    </tr>\n",
       "    <tr>\n",
       "      <th>11</th>\n",
       "      <td>KNeighborsClassifier</td>\n",
       "      <td>KNeighborsClassifier(algorithm='auto', leaf_si...</td>\n",
       "      <td>1.089697</td>\n",
       "      <td>1.068889</td>\n",
       "      <td>6219.706018</td>\n",
       "      <td>GSCV</td>\n",
       "    </tr>\n",
       "  </tbody>\n",
       "</table>\n",
       "</div>"
      ],
      "text/plain": [
       "                          name  \\\n",
       "0                SGDClassifier   \n",
       "1       DecisionTreeClassifier   \n",
       "2       RandomForestClassifier   \n",
       "3   GradientBoostingClassifier   \n",
       "4         KNeighborsClassifier   \n",
       "5       DecisionTreeClassifier   \n",
       "6       RandomForestClassifier   \n",
       "7         KNeighborsClassifier   \n",
       "8       RandomForestClassifier   \n",
       "9       RandomForestClassifier   \n",
       "10        KNeighborsClassifier   \n",
       "11        KNeighborsClassifier   \n",
       "\n",
       "                                                model  train_score  \\\n",
       "0   SGDClassifier(alpha=0.0001, average=False, cla...     1.325341   \n",
       "1   DecisionTreeClassifier(class_weight=None, crit...     0.138883   \n",
       "2   (DecisionTreeClassifier(class_weight=None, cri...     0.322767   \n",
       "3   ([DecisionTreeRegressor(criterion='friedman_ms...     1.203827   \n",
       "4   KNeighborsClassifier(algorithm='auto', leaf_si...     1.063533   \n",
       "5   DecisionTreeClassifier(class_weight=None, crit...     0.345854   \n",
       "6   (DecisionTreeClassifier(class_weight=None, cri...     0.437697   \n",
       "7   KNeighborsClassifier(algorithm='auto', leaf_si...     1.043590   \n",
       "8   (DecisionTreeClassifier(class_weight=None, cri...     0.975070   \n",
       "9   (DecisionTreeClassifier(class_weight=None, cri...     1.132566   \n",
       "10  KNeighborsClassifier(algorithm='auto', leaf_si...     1.163760   \n",
       "11  KNeighborsClassifier(algorithm='auto', leaf_si...     1.089697   \n",
       "\n",
       "    test_score          time   phase  \n",
       "0          NaN      0.784838  Prueba  \n",
       "1          NaN      0.226044  Prueba  \n",
       "2          NaN      0.541687  Prueba  \n",
       "3          NaN     13.682717  Prueba  \n",
       "4          NaN      7.522428  Prueba  \n",
       "5     1.190535      1.734979   Train  \n",
       "6     1.134709      7.078236   Train  \n",
       "7     1.063788    720.200313   Train  \n",
       "8     1.112185   3967.778204    RSCV  \n",
       "9     1.137729  10691.310396    GSCV  \n",
       "10    1.122417  10227.351330    RSCV  \n",
       "11    1.068889   6219.706018    GSCV  "
      ]
     },
     "execution_count": 62,
     "metadata": {},
     "output_type": "execute_result"
    }
   ],
   "source": [
    "results"
   ]
  },
  {
   "cell_type": "code",
   "execution_count": 63,
   "metadata": {},
   "outputs": [
    {
     "data": {
      "text/plain": [
       "KNeighborsClassifier(algorithm='auto', leaf_size=30, metric='minkowski',\n",
       "                     metric_params=None, n_jobs=None, n_neighbors=5, p=2,\n",
       "                     weights='uniform')"
      ]
     },
     "execution_count": 63,
     "metadata": {},
     "output_type": "execute_result"
    }
   ],
   "source": [
    "results[results.test_score == results.test_score.min()]['model'].item()"
   ]
  },
  {
   "cell_type": "markdown",
   "metadata": {},
   "source": [
    "En vista de lo anterior, se puede observar que los mejores resultados se obtuvieron en la etapa de Train, con el modelo K Neighbors parametrizado de la siguiente forma:\n",
    "\n",
    "| Parámetro | Valor |\n",
    "| --------- | ----- |\n",
    "| algorithm | 'auto' |\n",
    "| leaf_size | 30 |\n",
    "| metric | 'minkowski' |\n",
    "| metric_params | None |\n",
    "| n_jobs | None |\n",
    "| __**n_neighbors**__ | _**5**_ |\n",
    "| _**p**_ | _**2**_|\n",
    "| weights | 'uniform' |"
   ]
  },
  {
   "cell_type": "markdown",
   "metadata": {},
   "source": [
    "### 7. Comparación entre el tipo de modelo seleccionado y el descartado\n",
    "\n",
    "> En los puntos anteriores se seleccionó un modelo de regresión o bien uno de clasificación. Realice una prueba con un modelo del otro tipo y comente sobre las métricas y los resultados obtenidos. ¿Por qué tuvo mejor o peor perfomance?"
   ]
  },
  {
   "cell_type": "markdown",
   "metadata": {},
   "source": [
    "Para poder comparar los resultados, se utilizará la columna original de *shipment_days* en el entrenamiento de los regresores. Luego de obtener las predicciones, se traducirán dichos valores a categorías entre 0 y 5. De esta manera, se podrá utilizar los mismos labels de train y test y la misma función de score que en los clasificadores."
   ]
  },
  {
   "cell_type": "code",
   "execution_count": 64,
   "metadata": {},
   "outputs": [],
   "source": [
    "labels_reg = ds_train[TARGET_ID_REG]"
   ]
  },
  {
   "cell_type": "markdown",
   "metadata": {},
   "source": [
    "#### 7.1 Entrenamiento de Ridge"
   ]
  },
  {
   "cell_type": "code",
   "execution_count": 65,
   "metadata": {},
   "outputs": [
    {
     "name": "stdout",
     "output_type": "stream",
     "text": [
      "Time: 0.7292139530181885 seconds\n",
      "Score para entrenamiento: 1.1861\n",
      "Score para test: 1.2963\n"
     ]
    }
   ],
   "source": [
    "start_time = time.time()\n",
    "reg_ridge = linear_model.Ridge(random_state=0)\n",
    "reg_ridge = reg_ridge.fit(features_std, labels_reg)\n",
    "\n",
    "y_pred_train = reg_ridge.predict(features_std)\n",
    "y_pred_train = np.array([map_categories_5(x) for x in y_pred_train])\n",
    "\n",
    "total_time = time.time() - start_time\n",
    "print(\"Time: %s seconds\" % (total_time))\n",
    "\n",
    "print('Score para entrenamiento: %.4f' % \n",
    "      rsme(labels, y_pred_train ))\n",
    "\n",
    "y_pred_test = reg_ridge.predict(features_test_std)\n",
    "y_pred_test = np.array([map_categories_5(x) for x in y_pred_test])\n",
    "\n",
    "print('Score para test: %.4f' %\n",
    "      rsme(labels_test, y_pred_test))\n",
    "\n",
    "results = results.append({'name': 'Ridge',\n",
    "                          'model': reg_ridge,\n",
    "                          'train_score': rsme(labels, y_pred_train),\n",
    "                          'test_score': rsme(labels_test, y_pred_test),\n",
    "                          'time': total_time,\n",
    "                          'phase': 'Train'}, ignore_index=True)"
   ]
  },
  {
   "cell_type": "markdown",
   "metadata": {},
   "source": [
    "Ridge es un modelo de regresión lineal, que intenta minimizar la suma del cuadrado de las distancias entre los puntos, a partir de una función de costo sobre el cuadrado de los coeficientes. Vemos que con los parámetros estándar está bastante lejos de los números obtenidos en la sección anterior."
   ]
  },
  {
   "cell_type": "markdown",
   "metadata": {},
   "source": [
    "#### 7.2 Entrenamiento de BayesianRidge"
   ]
  },
  {
   "cell_type": "code",
   "execution_count": 66,
   "metadata": {},
   "outputs": [
    {
     "name": "stdout",
     "output_type": "stream",
     "text": [
      "Time: 0.8860199451446533 seconds\n",
      "Score para entrenamiento: 1.1861\n",
      "Score para test: 1.2964\n"
     ]
    }
   ],
   "source": [
    "start_time = time.time()\n",
    "reg_bridge = linear_model.BayesianRidge()\n",
    "reg_bridge = reg_bridge.fit(features_std, labels_reg)\n",
    "\n",
    "y_pred_train = reg_bridge.predict(features_std)\n",
    "y_pred_train = np.array([map_categories_5(x) for x in y_pred_train])\n",
    "\n",
    "total_time = time.time() - start_time\n",
    "print(\"Time: %s seconds\" % (total_time))\n",
    "\n",
    "print('Score para entrenamiento: %.4f' % \n",
    "      rsme(labels, y_pred_train))\n",
    "\n",
    "y_pred_test = reg_bridge.predict(features_test_std)\n",
    "y_pred_test = np.array([map_categories_5(x) for x in y_pred_test])\n",
    "\n",
    "print('Score para test: %.4f' %\n",
    "      rsme(labels_test, y_pred_test))\n",
    "\n",
    "results = results.append({'name': 'BayesianRidge',\n",
    "                          'model': reg_bridge,\n",
    "                          'train_score': rsme(labels, y_pred_train),\n",
    "                          'test_score': rsme(labels_test, y_pred_test),\n",
    "                          'time': total_time,\n",
    "                          'phase': 'Train'}, ignore_index=True)"
   ]
  },
  {
   "cell_type": "markdown",
   "metadata": {},
   "source": [
    "Similarmente a Rigde, Bayessian Ridge intenta minimizar el cuadrado de la distancia entre los puntos, pero asumiendo una distribución normal, obteniendo resultados similares."
   ]
  },
  {
   "cell_type": "markdown",
   "metadata": {},
   "source": [
    "#### 7.3 Entrenamiento de KNeighborsRegressor"
   ]
  },
  {
   "cell_type": "code",
   "execution_count": 67,
   "metadata": {},
   "outputs": [
    {
     "name": "stdout",
     "output_type": "stream",
     "text": [
      "Time: 667.0715479850769 seconds\n",
      "Score para entrenamiento: 0.9343\n",
      "Score para test: 1.1178\n"
     ]
    }
   ],
   "source": [
    "start_time = time.time()\n",
    "reg_knr = neighbors.KNeighborsRegressor()\n",
    "reg_knr = reg_knr.fit(features_std, labels_reg)\n",
    "\n",
    "y_pred_train = reg_knr.predict(features_std)\n",
    "y_pred_train = np.array([map_categories_5(x) for x in y_pred_train])\n",
    "\n",
    "total_time = time.time() - start_time\n",
    "print(\"Time: %s seconds\" % (total_time))\n",
    "\n",
    "print('Score para entrenamiento: %.4f' % \n",
    "      rsme(labels, y_pred_train))\n",
    "\n",
    "y_pred_test = reg_knr.predict(features_test_std)\n",
    "y_pred_test = np.array([map_categories_5(x) for x in y_pred_test])\n",
    "\n",
    "print('Score para test: %.4f' %\n",
    "      rsme(labels_test, y_pred_test))\n",
    "\n",
    "results = results.append({'name': 'KNeighborsRegressor',\n",
    "                          'model': reg_knr,\n",
    "                          'train_score': rsme(labels, y_pred_train),\n",
    "                          'test_score': rsme(labels_test, y_pred_test),\n",
    "                          'time': total_time,\n",
    "                          'phase': 'Train'}, ignore_index=True)"
   ]
  },
  {
   "cell_type": "markdown",
   "metadata": {},
   "source": [
    "Kneighbor Regresor funciona de manera similar al Clasificador, con lo cual obtiene sus estimaciones a partir de la información de los k vecinos más cercanos. Si bien los resultados son muy buenos (al menos en comparación con los otros regresores) de todos modos no son mejores que el clasificador propuesto."
   ]
  },
  {
   "cell_type": "markdown",
   "metadata": {},
   "source": [
    "#### 7.4 Entrenamiento de LinearSVR"
   ]
  },
  {
   "cell_type": "code",
   "execution_count": 68,
   "metadata": {},
   "outputs": [
    {
     "name": "stdout",
     "output_type": "stream",
     "text": [
      "Time: 13.037760972976685 seconds\n",
      "Score para entrenamiento: 1.14\n",
      "Score para test: 1.22\n"
     ]
    }
   ],
   "source": [
    "start_time = time.time()\n",
    "reg_svr = svm.LinearSVR(random_state=0)\n",
    "reg_svr = reg_svr.fit(features_std, labels_reg)\n",
    "\n",
    "y_pred_train = reg_svr.predict(features_std)\n",
    "y_pred_train = np.array([map_categories_5(x) for x in y_pred_train])\n",
    "\n",
    "total_time = time.time() - start_time\n",
    "print(\"Time: %s seconds\" % (total_time))\n",
    "\n",
    "print('Score para entrenamiento: %.2f' % \n",
    "      rsme(labels, y_pred_train))\n",
    "\n",
    "y_pred_test = reg_svr.predict(features_test_std)\n",
    "y_pred_test = np.array([map_categories_5(x) for x in y_pred_test])\n",
    "\n",
    "print('Score para test: %.2f' %\n",
    "      rsme(labels_test, y_pred_test))\n",
    "\n",
    "results = results.append({'name': 'LinearSVR',\n",
    "                          'model': reg_svr,\n",
    "                          'train_score': rsme(labels, y_pred_train),\n",
    "                          'test_score': rsme(labels_test, y_pred_test),\n",
    "                          'time': total_time,\n",
    "                          'phase': 'Train'}, ignore_index=True)"
   ]
  },
  {
   "cell_type": "markdown",
   "metadata": {},
   "source": [
    "LinearSVR funciona de manera similar a SVR (que intenta acotar el error dentro de algún parámetro razonable) pero con un kernel (mapeo de dimensiones) \"lineal\". Los resultados son un poco mejores que (Bayessian)Ridge, pero de entre los peores de todos los modelos utilizados."
   ]
  },
  {
   "cell_type": "markdown",
   "metadata": {},
   "source": [
    "## Conclusiones"
   ]
  },
  {
   "cell_type": "code",
   "execution_count": 69,
   "metadata": {
    "scrolled": true
   },
   "outputs": [
    {
     "data": {
      "text/html": [
       "<div>\n",
       "<style scoped>\n",
       "    .dataframe tbody tr th:only-of-type {\n",
       "        vertical-align: middle;\n",
       "    }\n",
       "\n",
       "    .dataframe tbody tr th {\n",
       "        vertical-align: top;\n",
       "    }\n",
       "\n",
       "    .dataframe thead th {\n",
       "        text-align: right;\n",
       "    }\n",
       "</style>\n",
       "<table border=\"1\" class=\"dataframe\">\n",
       "  <thead>\n",
       "    <tr style=\"text-align: right;\">\n",
       "      <th></th>\n",
       "      <th>name</th>\n",
       "      <th>model</th>\n",
       "      <th>train_score</th>\n",
       "      <th>test_score</th>\n",
       "      <th>time</th>\n",
       "      <th>phase</th>\n",
       "    </tr>\n",
       "  </thead>\n",
       "  <tbody>\n",
       "    <tr>\n",
       "      <th>0</th>\n",
       "      <td>SGDClassifier</td>\n",
       "      <td>SGDClassifier(alpha=0.0001, average=False, cla...</td>\n",
       "      <td>1.325341</td>\n",
       "      <td>NaN</td>\n",
       "      <td>0.784838</td>\n",
       "      <td>Prueba</td>\n",
       "    </tr>\n",
       "    <tr>\n",
       "      <th>1</th>\n",
       "      <td>DecisionTreeClassifier</td>\n",
       "      <td>DecisionTreeClassifier(class_weight=None, crit...</td>\n",
       "      <td>0.138883</td>\n",
       "      <td>NaN</td>\n",
       "      <td>0.226044</td>\n",
       "      <td>Prueba</td>\n",
       "    </tr>\n",
       "    <tr>\n",
       "      <th>2</th>\n",
       "      <td>RandomForestClassifier</td>\n",
       "      <td>(DecisionTreeClassifier(class_weight=None, cri...</td>\n",
       "      <td>0.322767</td>\n",
       "      <td>NaN</td>\n",
       "      <td>0.541687</td>\n",
       "      <td>Prueba</td>\n",
       "    </tr>\n",
       "    <tr>\n",
       "      <th>3</th>\n",
       "      <td>GradientBoostingClassifier</td>\n",
       "      <td>([DecisionTreeRegressor(criterion='friedman_ms...</td>\n",
       "      <td>1.203827</td>\n",
       "      <td>NaN</td>\n",
       "      <td>13.682717</td>\n",
       "      <td>Prueba</td>\n",
       "    </tr>\n",
       "    <tr>\n",
       "      <th>4</th>\n",
       "      <td>KNeighborsClassifier</td>\n",
       "      <td>KNeighborsClassifier(algorithm='auto', leaf_si...</td>\n",
       "      <td>1.063533</td>\n",
       "      <td>NaN</td>\n",
       "      <td>7.522428</td>\n",
       "      <td>Prueba</td>\n",
       "    </tr>\n",
       "    <tr>\n",
       "      <th>5</th>\n",
       "      <td>DecisionTreeClassifier</td>\n",
       "      <td>DecisionTreeClassifier(class_weight=None, crit...</td>\n",
       "      <td>0.345854</td>\n",
       "      <td>1.190535</td>\n",
       "      <td>1.734979</td>\n",
       "      <td>Train</td>\n",
       "    </tr>\n",
       "    <tr>\n",
       "      <th>6</th>\n",
       "      <td>RandomForestClassifier</td>\n",
       "      <td>(DecisionTreeClassifier(class_weight=None, cri...</td>\n",
       "      <td>0.437697</td>\n",
       "      <td>1.134709</td>\n",
       "      <td>7.078236</td>\n",
       "      <td>Train</td>\n",
       "    </tr>\n",
       "    <tr>\n",
       "      <th>7</th>\n",
       "      <td>KNeighborsClassifier</td>\n",
       "      <td>KNeighborsClassifier(algorithm='auto', leaf_si...</td>\n",
       "      <td>1.043590</td>\n",
       "      <td>1.063788</td>\n",
       "      <td>720.200313</td>\n",
       "      <td>Train</td>\n",
       "    </tr>\n",
       "    <tr>\n",
       "      <th>8</th>\n",
       "      <td>RandomForestClassifier</td>\n",
       "      <td>(DecisionTreeClassifier(class_weight=None, cri...</td>\n",
       "      <td>0.975070</td>\n",
       "      <td>1.112185</td>\n",
       "      <td>3967.778204</td>\n",
       "      <td>RSCV</td>\n",
       "    </tr>\n",
       "    <tr>\n",
       "      <th>9</th>\n",
       "      <td>RandomForestClassifier</td>\n",
       "      <td>(DecisionTreeClassifier(class_weight=None, cri...</td>\n",
       "      <td>1.132566</td>\n",
       "      <td>1.137729</td>\n",
       "      <td>10691.310396</td>\n",
       "      <td>GSCV</td>\n",
       "    </tr>\n",
       "    <tr>\n",
       "      <th>10</th>\n",
       "      <td>KNeighborsClassifier</td>\n",
       "      <td>KNeighborsClassifier(algorithm='auto', leaf_si...</td>\n",
       "      <td>1.163760</td>\n",
       "      <td>1.122417</td>\n",
       "      <td>10227.351330</td>\n",
       "      <td>RSCV</td>\n",
       "    </tr>\n",
       "    <tr>\n",
       "      <th>11</th>\n",
       "      <td>KNeighborsClassifier</td>\n",
       "      <td>KNeighborsClassifier(algorithm='auto', leaf_si...</td>\n",
       "      <td>1.089697</td>\n",
       "      <td>1.068889</td>\n",
       "      <td>6219.706018</td>\n",
       "      <td>GSCV</td>\n",
       "    </tr>\n",
       "    <tr>\n",
       "      <th>12</th>\n",
       "      <td>Ridge</td>\n",
       "      <td>Ridge(alpha=1.0, copy_X=True, fit_intercept=Tr...</td>\n",
       "      <td>1.186050</td>\n",
       "      <td>1.296347</td>\n",
       "      <td>0.729214</td>\n",
       "      <td>Train</td>\n",
       "    </tr>\n",
       "    <tr>\n",
       "      <th>13</th>\n",
       "      <td>BayesianRidge</td>\n",
       "      <td>BayesianRidge(alpha_1=1e-06, alpha_2=1e-06, co...</td>\n",
       "      <td>1.186059</td>\n",
       "      <td>1.296355</td>\n",
       "      <td>0.886020</td>\n",
       "      <td>Train</td>\n",
       "    </tr>\n",
       "    <tr>\n",
       "      <th>14</th>\n",
       "      <td>KNeighborsRegressor</td>\n",
       "      <td>KNeighborsRegressor(algorithm='auto', leaf_siz...</td>\n",
       "      <td>0.934277</td>\n",
       "      <td>1.117810</td>\n",
       "      <td>667.071548</td>\n",
       "      <td>Train</td>\n",
       "    </tr>\n",
       "    <tr>\n",
       "      <th>15</th>\n",
       "      <td>LinearSVR</td>\n",
       "      <td>LinearSVR(C=1.0, dual=True, epsilon=0.0, fit_i...</td>\n",
       "      <td>1.136997</td>\n",
       "      <td>1.221832</td>\n",
       "      <td>13.037761</td>\n",
       "      <td>Train</td>\n",
       "    </tr>\n",
       "  </tbody>\n",
       "</table>\n",
       "</div>"
      ],
      "text/plain": [
       "                          name  \\\n",
       "0                SGDClassifier   \n",
       "1       DecisionTreeClassifier   \n",
       "2       RandomForestClassifier   \n",
       "3   GradientBoostingClassifier   \n",
       "4         KNeighborsClassifier   \n",
       "5       DecisionTreeClassifier   \n",
       "6       RandomForestClassifier   \n",
       "7         KNeighborsClassifier   \n",
       "8       RandomForestClassifier   \n",
       "9       RandomForestClassifier   \n",
       "10        KNeighborsClassifier   \n",
       "11        KNeighborsClassifier   \n",
       "12                       Ridge   \n",
       "13               BayesianRidge   \n",
       "14         KNeighborsRegressor   \n",
       "15                   LinearSVR   \n",
       "\n",
       "                                                model  train_score  \\\n",
       "0   SGDClassifier(alpha=0.0001, average=False, cla...     1.325341   \n",
       "1   DecisionTreeClassifier(class_weight=None, crit...     0.138883   \n",
       "2   (DecisionTreeClassifier(class_weight=None, cri...     0.322767   \n",
       "3   ([DecisionTreeRegressor(criterion='friedman_ms...     1.203827   \n",
       "4   KNeighborsClassifier(algorithm='auto', leaf_si...     1.063533   \n",
       "5   DecisionTreeClassifier(class_weight=None, crit...     0.345854   \n",
       "6   (DecisionTreeClassifier(class_weight=None, cri...     0.437697   \n",
       "7   KNeighborsClassifier(algorithm='auto', leaf_si...     1.043590   \n",
       "8   (DecisionTreeClassifier(class_weight=None, cri...     0.975070   \n",
       "9   (DecisionTreeClassifier(class_weight=None, cri...     1.132566   \n",
       "10  KNeighborsClassifier(algorithm='auto', leaf_si...     1.163760   \n",
       "11  KNeighborsClassifier(algorithm='auto', leaf_si...     1.089697   \n",
       "12  Ridge(alpha=1.0, copy_X=True, fit_intercept=Tr...     1.186050   \n",
       "13  BayesianRidge(alpha_1=1e-06, alpha_2=1e-06, co...     1.186059   \n",
       "14  KNeighborsRegressor(algorithm='auto', leaf_siz...     0.934277   \n",
       "15  LinearSVR(C=1.0, dual=True, epsilon=0.0, fit_i...     1.136997   \n",
       "\n",
       "    test_score          time   phase  \n",
       "0          NaN      0.784838  Prueba  \n",
       "1          NaN      0.226044  Prueba  \n",
       "2          NaN      0.541687  Prueba  \n",
       "3          NaN     13.682717  Prueba  \n",
       "4          NaN      7.522428  Prueba  \n",
       "5     1.190535      1.734979   Train  \n",
       "6     1.134709      7.078236   Train  \n",
       "7     1.063788    720.200313   Train  \n",
       "8     1.112185   3967.778204    RSCV  \n",
       "9     1.137729  10691.310396    GSCV  \n",
       "10    1.122417  10227.351330    RSCV  \n",
       "11    1.068889   6219.706018    GSCV  \n",
       "12    1.296347      0.729214   Train  \n",
       "13    1.296355      0.886020   Train  \n",
       "14    1.117810    667.071548   Train  \n",
       "15    1.221832     13.037761   Train  "
      ]
     },
     "execution_count": 69,
     "metadata": {},
     "output_type": "execute_result"
    }
   ],
   "source": [
    "results"
   ]
  },
  {
   "cell_type": "markdown",
   "metadata": {},
   "source": [
    "Se realizaron pruebas para el problema dado, tanto para clasificadores como para regresores. La hipótesis (tentativa y arbitraria) de que encarar el problema con un clasificador tenía más sentido, se verifica con los resultados dados. Los resultados se exponen arriba, con los parámetros utilizados y las métricas elegidas para compararlos unos a otros."
   ]
  },
  {
   "cell_type": "code",
   "execution_count": null,
   "metadata": {},
   "outputs": [],
   "source": []
  }
 ],
 "metadata": {
  "colab": {
   "collapsed_sections": [],
   "name": "Mentoría Envíos - Práctico 2",
   "provenance": [],
   "version": "0.3.2"
  },
  "kernelspec": {
   "display_name": "Python 3",
   "language": "python",
   "name": "python3"
  },
  "language_info": {
   "codemirror_mode": {
    "name": "ipython",
    "version": 3
   },
   "file_extension": ".py",
   "mimetype": "text/x-python",
   "name": "python",
   "nbconvert_exporter": "python",
   "pygments_lexer": "ipython3",
   "version": "3.7.3"
  }
 },
 "nbformat": 4,
 "nbformat_minor": 1
}
