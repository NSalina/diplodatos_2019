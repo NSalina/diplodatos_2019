{
 "cells": [
  {
   "cell_type": "markdown",
   "metadata": {
    "colab_type": "text",
    "id": "npmziZLSbeH2"
   },
   "source": [
    "# Logística de envíos: ¿Cuándo llega?\n",
    "\n",
    "## Mentoría DiploDatos 2019 \n",
    "\n",
    "### Integrantes:\n",
    "\n",
    "- Alini, Walter\n",
    "- Frau, Johanna\n",
    "- Salina, Noelia\n",
    "\n",
    "### Mentora:\n",
    "\n",
    "- Dal Lago, Virginia\n",
    "\n",
    "### Práctico: Análisis y visualización de datos"
   ]
  },
  {
   "cell_type": "markdown",
   "metadata": {
    "colab_type": "text",
    "id": "9-L6k0NWbiLq"
   },
   "source": [
    "# Indice\n",
    "\n",
    "\n",
    "1. Motivación\n",
    "2. Objetivos\n",
    "3. Metodología\n",
    "5. Lectura y análisis inicial de los datos, variables y datos anómalos o poco confiables\n",
    "  1. Datos faltantes\n",
    "  2. Análisis de shipment_days anómalos\n",
    "  3. Análisis de fechas anómalas\n",
    "  4. Dataset limpio\n",
    "6. Estadísticos\n",
    "7. Información extra\n",
    "8. Análisis de los zipcodes, quantity y service\n",
    "9. Análisis de Shipment Days\n",
    "10. Análisis de probabilidad de envíos a Minas Gerais\n",
    "11. Análisis de probabilidad de envíos por tipo\n",
    "12. Análisis de correlación entre variables\n",
    "13. Análisis de distancias\n",
    "14. Análisis de la hora del día de entrega\n",
    "15. Inferencia Bayesiana\n"
   ]
  },
  {
   "cell_type": "markdown",
   "metadata": {
    "colab_type": "text",
    "id": "TSsTdwBR-dE4"
   },
   "source": [
    "## Motivación\n",
    "\n",
    "En la actualidad, cada vez más productos se comercializan a través de una plataforma online. Una de las principales ventajas de este sistema es que el usuario puede recibir el producto en su domicilio en una fecha determinada. Pero, ¿cómo sabemos qué día va a llegar? ¿A partir de qué datos podemos predecir la demora del envío? En este práctico se trabajará con datos de envíos de MercadoLibre, el e-commerce más grande de Latinoamérica, analizando y modelando el problema de logística de envíos para poder responder ¿cuándo llega?\n",
    "\n",
    "## Descripción del dataset\n",
    "\n",
    "**Datos:**  El conjunto de datos seleccionado para realizar el práctico corresponde a un muestreo aleatorio no uniforme de 500.000 envíos de MercadoLibre. Estos envíos fueron realizados en Brasil en el período comprendido entre Octubre de 2018 y Abril de 2019 (las fechas originales han sido modificadas y adaptadas a un período de tiempo diferente, conservando el día de la semana y considerando los feriados correspondientes). Mientras que las fechas han sido modificadas, los horarios registrados en el dataset son los originales. Los datos comprenden variables tanto categóricas como numéricas. \n",
    "\n",
    "El dataset cuenta con las siguientes columnas:\n",
    "\n",
    "- **Sender_state:** Estado de Brasil de donde sale el envío.\n",
    "- **Sender_zipcode:** Código postal (de 5 dígitos) de donde sale el envío.\n",
    "- **Receiver_state:** Estado de Brasil a donde llega el envío.\n",
    "- **Receiver_zipcode:** Código postal (de 5 dígitos) a donde llega el envío.\n",
    "- **Shipment_type:** Método de envío (normal, express, super).\n",
    "- **Quantity:** Cantidad de productos en un envío.\n",
    "- **Service:** Servicio del correo con el cual se realizó un envío.\n",
    "- **Status:** Estado del envío (set: listo para ser enviado, sent: enviado, done: entregado, failed: no entregado, cancelled: cancelado).\n",
    "- **Date_created:** Fecha de creación del envío.\n",
    "- **Date_sent:** Fecha y hora en que se realizó el envío (salió del correo).\n",
    "- **Date_visit:** Fecha y hora en que se entregó el envío al destinatario.\n",
    "- **Shipment_days:** Días hábiles entre que el envío fue enviado (salió del correo) y que fue entregado.\n",
    "\n"
   ]
  },
  {
   "cell_type": "markdown",
   "metadata": {
    "colab_type": "text",
    "id": "lAmrsRb_-XgX"
   },
   "source": [
    "## Objetivos\n",
    "\n",
    "* Aprender a leer y analizar el dataset para extraer información útil sobre el problema a resolver.\n",
    "* Ganar conocimiento en el manejo de librerías y metodologías de visualización para generar gráficas de los datos.\n",
    "* Calcular estadísticos que faciliten, junto a los gráficos, dar respuestas a preguntas propias de la problemática.\n",
    "* Desarrollar habilidades de comunicación de la información obtenida a partir de los datos de manera clara y sencilla.\n",
    "\n",
    "### Objetivos Específicos\n",
    "\n",
    "* Conocer generalidades de la problemática con la que nos enfrentamos, y explorar detalles específicos que nos permitan plantear las primeras hipótesis y sacar las primeras conclusiones para aportar valor.\n",
    "* Tener el primer acercamiento a los datos, desde el uso de librerías para leerlos, hasta el análisis exploratorio, tanto de las variables como de los datos en particular, así como también a las generalidades de los mismos.\n",
    "* Explorar y determinar la importancia de cada uno de los datos del dataset, plantear hipótesis con respecto a la forma de obtenerlos y de usarlos.\n",
    "* Caracterizar los datos desde el punto de vista estadístico y analítico, así como también usar ayudas visuales para determinar hipótesis y obtener conclusiones en los mismos puntos de vista\n",
    "* Conocer, compartir e incrementar la dinámica de trabajo grupal"
   ]
  },
  {
   "cell_type": "markdown",
   "metadata": {
    "colab_type": "text",
    "id": "wzrNUY66AVw5"
   },
   "source": [
    "## Metodología\n",
    "\n",
    "A lo largo de este trabajo trataremos de responder a las siguientes preguntas:\n",
    "\n",
    "1. ¿Qué tipo de variables se encuentran presentes en el dataset? Realizar una breve descripción estadística de las mismas, determinar si existen outliers y valores incorrectos o no esperados.\n",
    "1. ¿Cómo es la distribución de zipcodes de origen y destino de un envío? ¿Está concentrada en algún valor? ¿Y para el resto de las variables?\n",
    "2. ¿Es la distribución del número de días que demora un envío normal? ¿Adquiere significado la media y desviación estándar? ¿Qué tipo de estadísticos podrían ser relevantes en este caso? ¿Hay alguna otra distribución a la cual se asemeje más?\n",
    "3. ¿Cuál es la probabilidad de que el destinatario de un envío sea del estado de Minas Gerais (MG)? ¿Cuál es la probabilidad de que dicho envío (que llega a Minas Gerais) sea realizado mediante el servicio 1? \n",
    "4. ¿Cuál es la probabilidad de que un envío sea realizado con el método super express? ¿Y la de que un envío realizado con dicho método llegue al estado de Minas Gerais?\n",
    "5. ¿Existe correlación entre el número de días que tarda un envío y el destinatario del mismo? ¿Y entre el número de días y la cantidad de productos en un paquete? ¿Con qué otra variable está correlacionado el número de días que tarda un envío? Analizar la independencia de las variables.\n",
    "6. Además del cálculo de los estadísticos correspondientes, sería interesante observar un gráfico que muestre la información estadística (por ejemplo, la media) y la presencia de outliers del número de días que tardan los envíos que se realizan a los diferentes estados de Brasil. ¿Cuál es el estado que, en promedio, tiene una mayor demora?\n",
    "7. ¿Cuál es la distancia geográfica de San Pablo a dicho estado? ¿Y al de menor?\n",
    "8. ¿Cuál es la distribución de la entrega de envíos por hora del día para cada uno de los estados de Brasil? Realizar un único gráfico donde se muestre esta información.\n",
    "7. Bonus (no obligatorio): Proponer y discutir la aplicación de al menos uno de los contenidos desarrollados en la clase de “Inferencia Bayesiana” al conjunto de datos y problemática aquí presentada. "
   ]
  },
  {
   "cell_type": "markdown",
   "metadata": {
    "colab_type": "text",
    "id": "Myq9CKw7EP8F"
   },
   "source": [
    "## Lectura y análisis inicial de los datos, variables y datos anómalos o poco confiables"
   ]
  },
  {
   "cell_type": "code",
   "execution_count": 2,
   "metadata": {
    "colab": {},
    "colab_type": "code",
    "id": "ttNfDwEZAyIr"
   },
   "outputs": [],
   "source": [
    "import matplotlib.pyplot as plt\n",
    "import numpy as np\n",
    "import pandas as pd\n",
    "import seaborn as sns\n",
    "from scipy import stats\n",
    "from scipy import special\n",
    "\n",
    "BLUE = '#35A7FF'\n",
    "RED = '#FF5964'\n",
    "GREEN = '#6BF178'\n",
    "YELLOW = '#FFE74C'"
   ]
  },
  {
   "cell_type": "markdown",
   "metadata": {
    "colab_type": "text",
    "id": "hsH97JjlXOUE"
   },
   "source": [
    "Leemos el dataset y vemos cuántas entradas y variables tiene. Notar que estamos usando información de contexto para leer esta información con los tipos que corresponden:"
   ]
  },
  {
   "cell_type": "code",
   "execution_count": 3,
   "metadata": {
    "colab": {
     "base_uri": "https://localhost:8080/",
     "height": 33
    },
    "colab_type": "code",
    "id": "JAoDKr6QFX3b",
    "outputId": "ace0947e-7a2c-4db4-8ae3-0a5df070dff8"
   },
   "outputs": [
    {
     "name": "stdout",
     "output_type": "stream",
     "text": [
      "500000 12\n"
     ]
    }
   ],
   "source": [
    "ds = pd.read_csv('dataset_sample_corrected.csv', \n",
    "                       dtype={'sender_zipcode':'int64',\n",
    "                              'receiver_zipcode':'int64',\n",
    "                              'quantity':'int64',\n",
    "                              'service':'int64'},\n",
    "                       parse_dates=['date_created','date_sent','date_visit'])\n",
    "rows, cols = ds.shape\n",
    "print (rows, cols)"
   ]
  },
  {
   "cell_type": "markdown",
   "metadata": {
    "colab_type": "text",
    "id": "5UjtCuDmJg7A"
   },
   "source": [
    "Contamos con 500.000 entradas y 12 columnas o variables con información. Veamos cuáles son:"
   ]
  },
  {
   "cell_type": "code",
   "execution_count": 4,
   "metadata": {
    "colab": {
     "base_uri": "https://localhost:8080/",
     "height": 83
    },
    "colab_type": "code",
    "id": "7-r8v9yBJJTU",
    "outputId": "7e05544e-38d0-4ba1-ce20-54e976e7fc52"
   },
   "outputs": [
    {
     "data": {
      "text/plain": [
       "Index(['sender_state', 'sender_zipcode', 'receiver_state', 'receiver_zipcode',\n",
       "       'shipment_type', 'quantity', 'service', 'status', 'date_created',\n",
       "       'date_sent', 'date_visit', 'shipment_days'],\n",
       "      dtype='object')"
      ]
     },
     "execution_count": 4,
     "metadata": {},
     "output_type": "execute_result"
    }
   ],
   "source": [
    "ds.columns"
   ]
  },
  {
   "cell_type": "markdown",
   "metadata": {
    "colab_type": "text",
    "id": "us03SumaKK5f"
   },
   "source": [
    "Veamos un poco más de información de las variables en juego (***Pregunta n°1***):"
   ]
  },
  {
   "cell_type": "code",
   "execution_count": 5,
   "metadata": {
    "colab": {
     "base_uri": "https://localhost:8080/",
     "height": 300
    },
    "colab_type": "code",
    "id": "fGSg3QWnKCk5",
    "outputId": "1918c5de-aac0-4f7d-aa49-e469769df5a8"
   },
   "outputs": [
    {
     "name": "stdout",
     "output_type": "stream",
     "text": [
      "<class 'pandas.core.frame.DataFrame'>\n",
      "RangeIndex: 500000 entries, 0 to 499999\n",
      "Data columns (total 12 columns):\n",
      "sender_state        500000 non-null object\n",
      "sender_zipcode      500000 non-null int64\n",
      "receiver_state      500000 non-null object\n",
      "receiver_zipcode    500000 non-null int64\n",
      "shipment_type       500000 non-null object\n",
      "quantity            500000 non-null int64\n",
      "service             500000 non-null int64\n",
      "status              500000 non-null object\n",
      "date_created        500000 non-null datetime64[ns]\n",
      "date_sent           499971 non-null datetime64[ns]\n",
      "date_visit          499398 non-null datetime64[ns]\n",
      "shipment_days       499398 non-null float64\n",
      "dtypes: datetime64[ns](3), float64(1), int64(4), object(4)\n",
      "memory usage: 45.8+ MB\n"
     ]
    }
   ],
   "source": [
    "ds.info()"
   ]
  },
  {
   "cell_type": "markdown",
   "metadata": {
    "colab_type": "text",
    "id": "NYZr1OOsKrEX"
   },
   "source": [
    "Los resultados de arriba comprueban la información inicial proporcionada que nos decía que tenemos columnas numéricas, categóricas y con información de fechas y horas de los envíos.\n",
    "\n",
    "**Variables numéricas**\n",
    "\n",
    "1. quantity\n",
    "1. shipment_days\n",
    "\n",
    "**Variables categóricas**\n",
    "\n",
    "1. sender_zipcode\n",
    "1. receiver_zipcode\n",
    "1. service\n",
    "1. sender_state\n",
    "1. receiver_state\n",
    "1. shipment_type\n",
    "1. status\n",
    "\n",
    "Los códigos postales, si bien son números, responden a clasificaciones de lugares. Lo mismo pasa con la variable **service**, que caracteriza un correo (con un número) \n",
    "\n",
    "**Variables de fecha**\n",
    "\n",
    "1. date_created\t\n",
    "1. date_sent\n",
    "1. date_visit\n"
   ]
  },
  {
   "cell_type": "markdown",
   "metadata": {
    "colab_type": "text",
    "id": "rbYfbkMdLv_U"
   },
   "source": [
    "Veamos un pantallazo general de algunos estadísticos de la información:"
   ]
  },
  {
   "cell_type": "code",
   "execution_count": 6,
   "metadata": {
    "colab": {
     "base_uri": "https://localhost:8080/",
     "height": 287
    },
    "colab_type": "code",
    "id": "T-0gaKONKV_h",
    "outputId": "b5695489-34b6-401c-ce36-2ca72e87fd67"
   },
   "outputs": [
    {
     "data": {
      "text/html": [
       "<div>\n",
       "<style scoped>\n",
       "    .dataframe tbody tr th:only-of-type {\n",
       "        vertical-align: middle;\n",
       "    }\n",
       "\n",
       "    .dataframe tbody tr th {\n",
       "        vertical-align: top;\n",
       "    }\n",
       "\n",
       "    .dataframe thead th {\n",
       "        text-align: right;\n",
       "    }\n",
       "</style>\n",
       "<table border=\"1\" class=\"dataframe\">\n",
       "  <thead>\n",
       "    <tr style=\"text-align: right;\">\n",
       "      <th></th>\n",
       "      <th>sender_zipcode</th>\n",
       "      <th>receiver_zipcode</th>\n",
       "      <th>quantity</th>\n",
       "      <th>service</th>\n",
       "      <th>shipment_days</th>\n",
       "    </tr>\n",
       "  </thead>\n",
       "  <tbody>\n",
       "    <tr>\n",
       "      <th>count</th>\n",
       "      <td>500000.000000</td>\n",
       "      <td>500000.000000</td>\n",
       "      <td>500000.000000</td>\n",
       "      <td>500000.000000</td>\n",
       "      <td>499398.000000</td>\n",
       "    </tr>\n",
       "    <tr>\n",
       "      <th>mean</th>\n",
       "      <td>8305.328412</td>\n",
       "      <td>39982.634918</td>\n",
       "      <td>1.278192</td>\n",
       "      <td>1.515708</td>\n",
       "      <td>5.367969</td>\n",
       "    </tr>\n",
       "    <tr>\n",
       "      <th>std</th>\n",
       "      <td>5088.259017</td>\n",
       "      <td>30975.031692</td>\n",
       "      <td>0.661639</td>\n",
       "      <td>1.826306</td>\n",
       "      <td>5.024451</td>\n",
       "    </tr>\n",
       "    <tr>\n",
       "      <th>min</th>\n",
       "      <td>1001.000000</td>\n",
       "      <td>1001.000000</td>\n",
       "      <td>1.000000</td>\n",
       "      <td>0.000000</td>\n",
       "      <td>-77.000000</td>\n",
       "    </tr>\n",
       "    <tr>\n",
       "      <th>25%</th>\n",
       "      <td>3673.000000</td>\n",
       "      <td>13140.000000</td>\n",
       "      <td>1.000000</td>\n",
       "      <td>0.000000</td>\n",
       "      <td>2.000000</td>\n",
       "    </tr>\n",
       "    <tr>\n",
       "      <th>50%</th>\n",
       "      <td>7274.000000</td>\n",
       "      <td>31150.000000</td>\n",
       "      <td>1.000000</td>\n",
       "      <td>1.000000</td>\n",
       "      <td>4.000000</td>\n",
       "    </tr>\n",
       "    <tr>\n",
       "      <th>75%</th>\n",
       "      <td>13277.000000</td>\n",
       "      <td>70670.000000</td>\n",
       "      <td>1.000000</td>\n",
       "      <td>2.000000</td>\n",
       "      <td>8.000000</td>\n",
       "    </tr>\n",
       "    <tr>\n",
       "      <th>max</th>\n",
       "      <td>19970.000000</td>\n",
       "      <td>99990.000000</td>\n",
       "      <td>5.000000</td>\n",
       "      <td>12.000000</td>\n",
       "      <td>90.000000</td>\n",
       "    </tr>\n",
       "  </tbody>\n",
       "</table>\n",
       "</div>"
      ],
      "text/plain": [
       "       sender_zipcode  receiver_zipcode       quantity        service  \\\n",
       "count   500000.000000     500000.000000  500000.000000  500000.000000   \n",
       "mean      8305.328412      39982.634918       1.278192       1.515708   \n",
       "std       5088.259017      30975.031692       0.661639       1.826306   \n",
       "min       1001.000000       1001.000000       1.000000       0.000000   \n",
       "25%       3673.000000      13140.000000       1.000000       0.000000   \n",
       "50%       7274.000000      31150.000000       1.000000       1.000000   \n",
       "75%      13277.000000      70670.000000       1.000000       2.000000   \n",
       "max      19970.000000      99990.000000       5.000000      12.000000   \n",
       "\n",
       "       shipment_days  \n",
       "count  499398.000000  \n",
       "mean        5.367969  \n",
       "std         5.024451  \n",
       "min       -77.000000  \n",
       "25%         2.000000  \n",
       "50%         4.000000  \n",
       "75%         8.000000  \n",
       "max        90.000000  "
      ]
     },
     "execution_count": 6,
     "metadata": {},
     "output_type": "execute_result"
    }
   ],
   "source": [
    "ds.describe()"
   ]
  },
  {
   "cell_type": "markdown",
   "metadata": {
    "colab_type": "text",
    "id": "cxtGJQf0MSIo"
   },
   "source": [
    "Algunas observaciones:\n",
    "\n",
    "* Encontramos al menos un valor anómalo en la columna **shipment_days** (el **-77** ). Dicha columna no puede tomar valores negativos pues representa la cantidad de días hábiles entre envío y recepción del producto. En la misma columna observamos 602 datos faltantes (0.1204%).\n",
    "\n",
    "* La variable **service** posee 13 servicios de correo diferentes. \n",
    "\n",
    "* La variable **quantity** tiene un mínimo de 1 item y un máximo de 5 por envío (donde el más frecuente es un item por envío).\n",
    "\n",
    "* Estadísticos como la media, desviación estándar o la varianza en las variables **sender_zipcode**, **sender_receiver** y **service** no son representativos y no agregan información útiles, pues si bien son variables numéricas representan categorías y su significado va más allá de su ordenamiento numérico. Sin embargo, es posible que en el caso de los zipcodes su ordenamiento o distribución nos dé información acerca de cómo funcionan los envíos/recepciones por estados o regiones."
   ]
  },
  {
   "cell_type": "markdown",
   "metadata": {
    "colab_type": "text",
    "id": "V1L8BlROU8Dt"
   },
   "source": [
    "Sigamos por las variables de datos con información no numérica (o de fecha):"
   ]
  },
  {
   "cell_type": "code",
   "execution_count": 7,
   "metadata": {
    "colab": {
     "base_uri": "https://localhost:8080/",
     "height": 167
    },
    "colab_type": "code",
    "id": "-48bQPPRVAs0",
    "outputId": "1e63bbf5-da9b-44de-f13a-308543c03d10"
   },
   "outputs": [
    {
     "data": {
      "text/html": [
       "<div>\n",
       "<style scoped>\n",
       "    .dataframe tbody tr th:only-of-type {\n",
       "        vertical-align: middle;\n",
       "    }\n",
       "\n",
       "    .dataframe tbody tr th {\n",
       "        vertical-align: top;\n",
       "    }\n",
       "\n",
       "    .dataframe thead th {\n",
       "        text-align: right;\n",
       "    }\n",
       "</style>\n",
       "<table border=\"1\" class=\"dataframe\">\n",
       "  <thead>\n",
       "    <tr style=\"text-align: right;\">\n",
       "      <th></th>\n",
       "      <th>sender_state</th>\n",
       "      <th>receiver_state</th>\n",
       "      <th>shipment_type</th>\n",
       "      <th>status</th>\n",
       "    </tr>\n",
       "  </thead>\n",
       "  <tbody>\n",
       "    <tr>\n",
       "      <th>count</th>\n",
       "      <td>500000</td>\n",
       "      <td>500000</td>\n",
       "      <td>500000</td>\n",
       "      <td>500000</td>\n",
       "    </tr>\n",
       "    <tr>\n",
       "      <th>unique</th>\n",
       "      <td>1</td>\n",
       "      <td>27</td>\n",
       "      <td>3</td>\n",
       "      <td>5</td>\n",
       "    </tr>\n",
       "    <tr>\n",
       "      <th>top</th>\n",
       "      <td>SP</td>\n",
       "      <td>SP</td>\n",
       "      <td>standard</td>\n",
       "      <td>done</td>\n",
       "    </tr>\n",
       "    <tr>\n",
       "      <th>freq</th>\n",
       "      <td>500000</td>\n",
       "      <td>190586</td>\n",
       "      <td>263227</td>\n",
       "      <td>494983</td>\n",
       "    </tr>\n",
       "  </tbody>\n",
       "</table>\n",
       "</div>"
      ],
      "text/plain": [
       "       sender_state receiver_state shipment_type  status\n",
       "count        500000         500000        500000  500000\n",
       "unique            1             27             3       5\n",
       "top              SP             SP      standard    done\n",
       "freq         500000         190586        263227  494983"
      ]
     },
     "execution_count": 7,
     "metadata": {},
     "output_type": "execute_result"
    }
   ],
   "source": [
    "ds.describe(include='object')"
   ]
  },
  {
   "cell_type": "markdown",
   "metadata": {
    "colab_type": "text",
    "id": "Zltars4QWig3"
   },
   "source": [
    "**Algunas observaciones**\n",
    "\n",
    "* Las columnas categóricas no tienen datos faltantes.\n",
    "* Sólo se realizan envíos desde SP.\n",
    "* Hay 27 estados destino diferentes siendo el más frecuente SP.\n",
    "* Hay 3 tipos de envío diferentes siendo el más frecuente el standard, el cual tiene más de la mitad de los datos totales.\n",
    "* Hay 5 \"situaciones\" de envío (para diferenciar **status** de \"state\") siendo la más frecuente \"done\", donde dicha frecuencia se acerca mucho a la cantidad total de los datos.\n",
    "\n",
    "Finalmente, un pantallazo de las columnas de fechas:\n",
    "\n",
    "\n"
   ]
  },
  {
   "cell_type": "code",
   "execution_count": 8,
   "metadata": {
    "colab": {
     "base_uri": "https://localhost:8080/",
     "height": 227
    },
    "colab_type": "code",
    "id": "oMD99TIwVRcc",
    "outputId": "038b44c6-9150-4765-f592-5ce1680322a0"
   },
   "outputs": [
    {
     "data": {
      "text/html": [
       "<div>\n",
       "<style scoped>\n",
       "    .dataframe tbody tr th:only-of-type {\n",
       "        vertical-align: middle;\n",
       "    }\n",
       "\n",
       "    .dataframe tbody tr th {\n",
       "        vertical-align: top;\n",
       "    }\n",
       "\n",
       "    .dataframe thead th {\n",
       "        text-align: right;\n",
       "    }\n",
       "</style>\n",
       "<table border=\"1\" class=\"dataframe\">\n",
       "  <thead>\n",
       "    <tr style=\"text-align: right;\">\n",
       "      <th></th>\n",
       "      <th>date_created</th>\n",
       "      <th>date_sent</th>\n",
       "      <th>date_visit</th>\n",
       "    </tr>\n",
       "  </thead>\n",
       "  <tbody>\n",
       "    <tr>\n",
       "      <th>count</th>\n",
       "      <td>500000</td>\n",
       "      <td>499971</td>\n",
       "      <td>499398</td>\n",
       "    </tr>\n",
       "    <tr>\n",
       "      <th>unique</th>\n",
       "      <td>150</td>\n",
       "      <td>81391</td>\n",
       "      <td>55669</td>\n",
       "    </tr>\n",
       "    <tr>\n",
       "      <th>top</th>\n",
       "      <td>2019-03-05 00:00:00</td>\n",
       "      <td>2019-03-11 15:53:00</td>\n",
       "      <td>2019-03-11 22:00:00</td>\n",
       "    </tr>\n",
       "    <tr>\n",
       "      <th>freq</th>\n",
       "      <td>20456</td>\n",
       "      <td>113</td>\n",
       "      <td>621</td>\n",
       "    </tr>\n",
       "    <tr>\n",
       "      <th>first</th>\n",
       "      <td>2018-09-06 00:00:00</td>\n",
       "      <td>2018-10-23 13:57:00</td>\n",
       "      <td>2019-02-25 05:36:00</td>\n",
       "    </tr>\n",
       "    <tr>\n",
       "      <th>last</th>\n",
       "      <td>2019-07-01 00:00:00</td>\n",
       "      <td>2019-07-01 18:01:55</td>\n",
       "      <td>2019-04-02 15:35:00</td>\n",
       "    </tr>\n",
       "  </tbody>\n",
       "</table>\n",
       "</div>"
      ],
      "text/plain": [
       "               date_created            date_sent           date_visit\n",
       "count                500000               499971               499398\n",
       "unique                  150                81391                55669\n",
       "top     2019-03-05 00:00:00  2019-03-11 15:53:00  2019-03-11 22:00:00\n",
       "freq                  20456                  113                  621\n",
       "first   2018-09-06 00:00:00  2018-10-23 13:57:00  2019-02-25 05:36:00\n",
       "last    2019-07-01 00:00:00  2019-07-01 18:01:55  2019-04-02 15:35:00"
      ]
     },
     "execution_count": 8,
     "metadata": {},
     "output_type": "execute_result"
    }
   ],
   "source": [
    "ds.describe(include='datetime64')"
   ]
  },
  {
   "cell_type": "markdown",
   "metadata": {
    "colab_type": "text",
    "id": "WxGVJ9G7VwsV"
   },
   "source": [
    "\n",
    "**Observaciones**\n",
    "\n",
    "* La variable **created_date** solo tiene 150 valores distintos y no considera horas (todas están seteadas a las 00:00 hs) esto implica que estamos considerando un total de 150 días distintos.\n",
    "* La variable anterior, **date_created** y **date_sent** contienen fechas que caen fuera del intervalo temporal considerado y más aún, que hasta el momento de este informe, representa una fecha futura (Julio de 2019).\n",
    "* Hay mucha diferencia entre los mínimos de las 3 fechas, podría servir analizar los estados de las fechas fuera del periodo de **date_visit** para ver si no son anómalos.\n",
    "* Faltan 29 datos en **date_sent** (0.0058%) y 602 datos en **date_visit** (0.1204%).\n",
    "* En la variable **date_visit** el dato más frecuente se da a las 22.00 hs, posiblemente fuera del horario de atención de los correos, con lo cual este dato es bastante extraño en un principio. Lo mismo sucede con el horario 05:36.\n",
    "\n",
    "\n",
    "**Algunas preguntas que surgen de este análisis son:**\n",
    "\n",
    "1. ¿Es posible que el correo haga su visita en horarios como las 22.00 o a las 05:36 hs? ¿O qué un pedido salga del correo a las 18hs?\n",
    "\n",
    "2. ¿Los registros de horarios son útiles para nuestro análisis o debemos dejarlos de lado y considerar solo las fechas?\n",
    "\n",
    "3. ¿Podemos considerar a los registros de **data_created**  más precisos que los de **data_sent** y **data_visit**?\n",
    "\n",
    "4. ¿Nos dice algo el número de frecuencia de estas tres variables?\n",
    "\n",
    "Más adelante volveremos sobre estas preguntas.\n",
    "\n",
    "\n"
   ]
  },
  {
   "cell_type": "markdown",
   "metadata": {
    "colab_type": "text",
    "id": "aajQWN4hPFsL"
   },
   "source": [
    "A continuación inspeccionemos algunas filas al azar de nuestro dataset:"
   ]
  },
  {
   "cell_type": "code",
   "execution_count": 9,
   "metadata": {
    "colab": {
     "base_uri": "https://localhost:8080/",
     "height": 534
    },
    "colab_type": "code",
    "id": "YtPcdTBtL8Ye",
    "outputId": "e2896cf9-964e-4c95-cb27-0c23e464bfb7"
   },
   "outputs": [
    {
     "data": {
      "text/html": [
       "<div>\n",
       "<style scoped>\n",
       "    .dataframe tbody tr th:only-of-type {\n",
       "        vertical-align: middle;\n",
       "    }\n",
       "\n",
       "    .dataframe tbody tr th {\n",
       "        vertical-align: top;\n",
       "    }\n",
       "\n",
       "    .dataframe thead th {\n",
       "        text-align: right;\n",
       "    }\n",
       "</style>\n",
       "<table border=\"1\" class=\"dataframe\">\n",
       "  <thead>\n",
       "    <tr style=\"text-align: right;\">\n",
       "      <th></th>\n",
       "      <th>sender_state</th>\n",
       "      <th>sender_zipcode</th>\n",
       "      <th>receiver_state</th>\n",
       "      <th>receiver_zipcode</th>\n",
       "      <th>shipment_type</th>\n",
       "      <th>quantity</th>\n",
       "      <th>service</th>\n",
       "      <th>status</th>\n",
       "      <th>date_created</th>\n",
       "      <th>date_sent</th>\n",
       "      <th>date_visit</th>\n",
       "      <th>shipment_days</th>\n",
       "    </tr>\n",
       "  </thead>\n",
       "  <tbody>\n",
       "    <tr>\n",
       "      <th>194257</th>\n",
       "      <td>SP</td>\n",
       "      <td>3734</td>\n",
       "      <td>RS</td>\n",
       "      <td>96540</td>\n",
       "      <td>standard</td>\n",
       "      <td>1</td>\n",
       "      <td>4</td>\n",
       "      <td>done</td>\n",
       "      <td>2019-02-17</td>\n",
       "      <td>2019-02-22 03:49:21</td>\n",
       "      <td>2019-03-07 15:09:00</td>\n",
       "      <td>6.0</td>\n",
       "    </tr>\n",
       "    <tr>\n",
       "      <th>396319</th>\n",
       "      <td>SP</td>\n",
       "      <td>6422</td>\n",
       "      <td>SP</td>\n",
       "      <td>9580</td>\n",
       "      <td>express</td>\n",
       "      <td>1</td>\n",
       "      <td>5</td>\n",
       "      <td>done</td>\n",
       "      <td>2019-03-04</td>\n",
       "      <td>2019-03-07 20:24:02</td>\n",
       "      <td>2019-03-07 10:02:09</td>\n",
       "      <td>0.0</td>\n",
       "    </tr>\n",
       "    <tr>\n",
       "      <th>138738</th>\n",
       "      <td>SP</td>\n",
       "      <td>14940</td>\n",
       "      <td>CE</td>\n",
       "      <td>62650</td>\n",
       "      <td>standard</td>\n",
       "      <td>1</td>\n",
       "      <td>1</td>\n",
       "      <td>done</td>\n",
       "      <td>2019-02-08</td>\n",
       "      <td>2019-02-13 13:51:00</td>\n",
       "      <td>2019-03-11 14:16:00</td>\n",
       "      <td>15.0</td>\n",
       "    </tr>\n",
       "    <tr>\n",
       "      <th>66570</th>\n",
       "      <td>SP</td>\n",
       "      <td>1004</td>\n",
       "      <td>MG</td>\n",
       "      <td>32340</td>\n",
       "      <td>express</td>\n",
       "      <td>1</td>\n",
       "      <td>4</td>\n",
       "      <td>done</td>\n",
       "      <td>2019-03-16</td>\n",
       "      <td>2019-03-19 00:52:07</td>\n",
       "      <td>2019-03-25 19:00:00</td>\n",
       "      <td>4.0</td>\n",
       "    </tr>\n",
       "    <tr>\n",
       "      <th>149424</th>\n",
       "      <td>SP</td>\n",
       "      <td>13254</td>\n",
       "      <td>BA</td>\n",
       "      <td>44700</td>\n",
       "      <td>express</td>\n",
       "      <td>1</td>\n",
       "      <td>0</td>\n",
       "      <td>done</td>\n",
       "      <td>2019-03-02</td>\n",
       "      <td>2019-03-04 15:41:00</td>\n",
       "      <td>2019-03-12 15:19:00</td>\n",
       "      <td>3.0</td>\n",
       "    </tr>\n",
       "    <tr>\n",
       "      <th>128165</th>\n",
       "      <td>SP</td>\n",
       "      <td>9850</td>\n",
       "      <td>SP</td>\n",
       "      <td>12301</td>\n",
       "      <td>express</td>\n",
       "      <td>2</td>\n",
       "      <td>0</td>\n",
       "      <td>done</td>\n",
       "      <td>2019-03-17</td>\n",
       "      <td>2019-03-19 13:39:00</td>\n",
       "      <td>2019-03-20 18:59:00</td>\n",
       "      <td>1.0</td>\n",
       "    </tr>\n",
       "    <tr>\n",
       "      <th>264495</th>\n",
       "      <td>SP</td>\n",
       "      <td>3627</td>\n",
       "      <td>BA</td>\n",
       "      <td>44690</td>\n",
       "      <td>standard</td>\n",
       "      <td>1</td>\n",
       "      <td>1</td>\n",
       "      <td>done</td>\n",
       "      <td>2019-03-04</td>\n",
       "      <td>2019-03-06 12:13:00</td>\n",
       "      <td>2019-03-22 14:17:00</td>\n",
       "      <td>11.0</td>\n",
       "    </tr>\n",
       "    <tr>\n",
       "      <th>30371</th>\n",
       "      <td>SP</td>\n",
       "      <td>13456</td>\n",
       "      <td>SP</td>\n",
       "      <td>5268</td>\n",
       "      <td>express</td>\n",
       "      <td>2</td>\n",
       "      <td>0</td>\n",
       "      <td>done</td>\n",
       "      <td>2019-03-12</td>\n",
       "      <td>2019-03-13 15:07:00</td>\n",
       "      <td>2019-03-14 16:26:00</td>\n",
       "      <td>1.0</td>\n",
       "    </tr>\n",
       "    <tr>\n",
       "      <th>456998</th>\n",
       "      <td>SP</td>\n",
       "      <td>3004</td>\n",
       "      <td>SC</td>\n",
       "      <td>89300</td>\n",
       "      <td>standard</td>\n",
       "      <td>1</td>\n",
       "      <td>3</td>\n",
       "      <td>done</td>\n",
       "      <td>2019-02-15</td>\n",
       "      <td>2019-02-17 04:52:00</td>\n",
       "      <td>2019-03-07 17:56:00</td>\n",
       "      <td>10.0</td>\n",
       "    </tr>\n",
       "    <tr>\n",
       "      <th>32001</th>\n",
       "      <td>SP</td>\n",
       "      <td>19013</td>\n",
       "      <td>SP</td>\n",
       "      <td>14815</td>\n",
       "      <td>standard</td>\n",
       "      <td>2</td>\n",
       "      <td>1</td>\n",
       "      <td>done</td>\n",
       "      <td>2019-03-21</td>\n",
       "      <td>2019-03-22 14:32:00</td>\n",
       "      <td>2019-03-26 13:39:00</td>\n",
       "      <td>2.0</td>\n",
       "    </tr>\n",
       "  </tbody>\n",
       "</table>\n",
       "</div>"
      ],
      "text/plain": [
       "       sender_state  sender_zipcode receiver_state  receiver_zipcode  \\\n",
       "194257           SP            3734             RS             96540   \n",
       "396319           SP            6422             SP              9580   \n",
       "138738           SP           14940             CE             62650   \n",
       "66570            SP            1004             MG             32340   \n",
       "149424           SP           13254             BA             44700   \n",
       "128165           SP            9850             SP             12301   \n",
       "264495           SP            3627             BA             44690   \n",
       "30371            SP           13456             SP              5268   \n",
       "456998           SP            3004             SC             89300   \n",
       "32001            SP           19013             SP             14815   \n",
       "\n",
       "       shipment_type  quantity  service status date_created  \\\n",
       "194257      standard         1        4   done   2019-02-17   \n",
       "396319       express         1        5   done   2019-03-04   \n",
       "138738      standard         1        1   done   2019-02-08   \n",
       "66570        express         1        4   done   2019-03-16   \n",
       "149424       express         1        0   done   2019-03-02   \n",
       "128165       express         2        0   done   2019-03-17   \n",
       "264495      standard         1        1   done   2019-03-04   \n",
       "30371        express         2        0   done   2019-03-12   \n",
       "456998      standard         1        3   done   2019-02-15   \n",
       "32001       standard         2        1   done   2019-03-21   \n",
       "\n",
       "                 date_sent          date_visit  shipment_days  \n",
       "194257 2019-02-22 03:49:21 2019-03-07 15:09:00            6.0  \n",
       "396319 2019-03-07 20:24:02 2019-03-07 10:02:09            0.0  \n",
       "138738 2019-02-13 13:51:00 2019-03-11 14:16:00           15.0  \n",
       "66570  2019-03-19 00:52:07 2019-03-25 19:00:00            4.0  \n",
       "149424 2019-03-04 15:41:00 2019-03-12 15:19:00            3.0  \n",
       "128165 2019-03-19 13:39:00 2019-03-20 18:59:00            1.0  \n",
       "264495 2019-03-06 12:13:00 2019-03-22 14:17:00           11.0  \n",
       "30371  2019-03-13 15:07:00 2019-03-14 16:26:00            1.0  \n",
       "456998 2019-02-17 04:52:00 2019-03-07 17:56:00           10.0  \n",
       "32001  2019-03-22 14:32:00 2019-03-26 13:39:00            2.0  "
      ]
     },
     "execution_count": 9,
     "metadata": {},
     "output_type": "execute_result"
    }
   ],
   "source": [
    "# Por cuestiones de reproducibilidad (y sólo como valor para este informe),\n",
    "# establecemos la semilla del generador de aleatoriedad\n",
    "np.random.seed(0)\n",
    "ds.sample(10)"
   ]
  },
  {
   "cell_type": "markdown",
   "metadata": {
    "colab_type": "text",
    "id": "24poX6V7Qytj"
   },
   "source": [
    "## Datos faltantes\n",
    "\n",
    "Siempre que analizamos un conjunto de datos es interesante conocer la cantidad real de los datos con los que estamos trabajando. Este problema es equivalente a calcular la cantidad de datos faltantes. Estas cantidades pueden, dependiendo del problema, ser críticas para nuestras conclusiones y nuestro análisis.\n",
    "\n",
    "Sabemos que nuestro dataset contiene 500.00 filas y 12 columnas, lo cual nos da un total de 6.000.000 de datos:"
   ]
  },
  {
   "cell_type": "code",
   "execution_count": 10,
   "metadata": {
    "colab": {
     "base_uri": "https://localhost:8080/",
     "height": 33
    },
    "colab_type": "code",
    "id": "dtnItRUUSCr8",
    "outputId": "44554ee6-e9c0-433f-8435-35ea421a28cf"
   },
   "outputs": [
    {
     "data": {
      "text/plain": [
       "1233"
      ]
     },
     "execution_count": 10,
     "metadata": {},
     "output_type": "execute_result"
    }
   ],
   "source": [
    "# Datos faltantes o nulos\n",
    "null = ds.isnull()\n",
    "\n",
    "# Cantidad de nulos por columna\n",
    "n_null_by_column = null.sum()\n",
    "\n",
    "# Cantidad de nulos total en el dataset\n",
    "n_null = n_null_by_column.sum()\n",
    "n_null"
   ]
  },
  {
   "cell_type": "markdown",
   "metadata": {
    "colab_type": "text",
    "id": "r0p00CllT-j-"
   },
   "source": [
    "Tenemos 1233 datos faltantes. Si lo comparamos con la cantidad total (6.000.000) este número puede resultar no significativo. Sin embargo. consideramos que es muy temprano para hacer esta suposición pues los datos podrían pertenecer todos a una misma columna y esto podría en consecuencia afectar el análisis. "
   ]
  },
  {
   "cell_type": "markdown",
   "metadata": {
    "colab_type": "text",
    "id": "ieSocTbJTk80"
   },
   "source": [
    "## Análisis de shipment_days anómalos\n"
   ]
  },
  {
   "cell_type": "code",
   "execution_count": 11,
   "metadata": {
    "colab": {
     "base_uri": "https://localhost:8080/",
     "height": 287
    },
    "colab_type": "code",
    "id": "xmqoonFST-HN",
    "outputId": "2f5d7831-3c1e-44cf-9cbb-b9036c60d684"
   },
   "outputs": [
    {
     "data": {
      "text/html": [
       "<div>\n",
       "<style scoped>\n",
       "    .dataframe tbody tr th:only-of-type {\n",
       "        vertical-align: middle;\n",
       "    }\n",
       "\n",
       "    .dataframe tbody tr th {\n",
       "        vertical-align: top;\n",
       "    }\n",
       "\n",
       "    .dataframe thead th {\n",
       "        text-align: right;\n",
       "    }\n",
       "</style>\n",
       "<table border=\"1\" class=\"dataframe\">\n",
       "  <thead>\n",
       "    <tr style=\"text-align: right;\">\n",
       "      <th></th>\n",
       "      <th>sender_zipcode</th>\n",
       "      <th>receiver_zipcode</th>\n",
       "      <th>quantity</th>\n",
       "      <th>service</th>\n",
       "      <th>shipment_days</th>\n",
       "    </tr>\n",
       "  </thead>\n",
       "  <tbody>\n",
       "    <tr>\n",
       "      <th>count</th>\n",
       "      <td>48.00000</td>\n",
       "      <td>48.000000</td>\n",
       "      <td>48.000000</td>\n",
       "      <td>48.000000</td>\n",
       "      <td>48.000000</td>\n",
       "    </tr>\n",
       "    <tr>\n",
       "      <th>mean</th>\n",
       "      <td>6933.50000</td>\n",
       "      <td>31424.875000</td>\n",
       "      <td>1.354167</td>\n",
       "      <td>6.770833</td>\n",
       "      <td>-61.083333</td>\n",
       "    </tr>\n",
       "    <tr>\n",
       "      <th>std</th>\n",
       "      <td>4507.20175</td>\n",
       "      <td>32577.232988</td>\n",
       "      <td>0.729021</td>\n",
       "      <td>2.398932</td>\n",
       "      <td>21.236093</td>\n",
       "    </tr>\n",
       "    <tr>\n",
       "      <th>min</th>\n",
       "      <td>1133.00000</td>\n",
       "      <td>1021.000000</td>\n",
       "      <td>1.000000</td>\n",
       "      <td>2.000000</td>\n",
       "      <td>-77.000000</td>\n",
       "    </tr>\n",
       "    <tr>\n",
       "      <th>25%</th>\n",
       "      <td>3111.25000</td>\n",
       "      <td>4705.000000</td>\n",
       "      <td>1.000000</td>\n",
       "      <td>4.000000</td>\n",
       "      <td>-77.000000</td>\n",
       "    </tr>\n",
       "    <tr>\n",
       "      <th>50%</th>\n",
       "      <td>6422.00000</td>\n",
       "      <td>18201.000000</td>\n",
       "      <td>1.000000</td>\n",
       "      <td>7.000000</td>\n",
       "      <td>-74.000000</td>\n",
       "    </tr>\n",
       "    <tr>\n",
       "      <th>75%</th>\n",
       "      <td>9140.00000</td>\n",
       "      <td>53934.250000</td>\n",
       "      <td>1.000000</td>\n",
       "      <td>9.000000</td>\n",
       "      <td>-37.000000</td>\n",
       "    </tr>\n",
       "    <tr>\n",
       "      <th>max</th>\n",
       "      <td>18070.00000</td>\n",
       "      <td>95300.000000</td>\n",
       "      <td>4.000000</td>\n",
       "      <td>9.000000</td>\n",
       "      <td>-5.000000</td>\n",
       "    </tr>\n",
       "  </tbody>\n",
       "</table>\n",
       "</div>"
      ],
      "text/plain": [
       "       sender_zipcode  receiver_zipcode   quantity    service  shipment_days\n",
       "count        48.00000         48.000000  48.000000  48.000000      48.000000\n",
       "mean       6933.50000      31424.875000   1.354167   6.770833     -61.083333\n",
       "std        4507.20175      32577.232988   0.729021   2.398932      21.236093\n",
       "min        1133.00000       1021.000000   1.000000   2.000000     -77.000000\n",
       "25%        3111.25000       4705.000000   1.000000   4.000000     -77.000000\n",
       "50%        6422.00000      18201.000000   1.000000   7.000000     -74.000000\n",
       "75%        9140.00000      53934.250000   1.000000   9.000000     -37.000000\n",
       "max       18070.00000      95300.000000   4.000000   9.000000      -5.000000"
      ]
     },
     "execution_count": 11,
     "metadata": {},
     "output_type": "execute_result"
    }
   ],
   "source": [
    "m_shipment_days_negative = ds.shipment_days < 0 #Filtramos la columna shipment_days para encontrar los valores negativos\n",
    "m_shipment_days_positive = ds.shipment_days >= 0 #Hacemos lo mismo para los shipment_positivos\n",
    "#Analizamos los estadísticos para los valores negativos de shipment_days\n",
    "ds[m_shipment_days_negative].describe() "
   ]
  },
  {
   "cell_type": "code",
   "execution_count": 12,
   "metadata": {
    "colab": {
     "base_uri": "https://localhost:8080/",
     "height": 167
    },
    "colab_type": "code",
    "id": "67kFn8W4SJiG",
    "outputId": "5cc8344c-791c-4f74-c0d0-2ee1ce444802"
   },
   "outputs": [
    {
     "data": {
      "text/html": [
       "<div>\n",
       "<style scoped>\n",
       "    .dataframe tbody tr th:only-of-type {\n",
       "        vertical-align: middle;\n",
       "    }\n",
       "\n",
       "    .dataframe tbody tr th {\n",
       "        vertical-align: top;\n",
       "    }\n",
       "\n",
       "    .dataframe thead th {\n",
       "        text-align: right;\n",
       "    }\n",
       "</style>\n",
       "<table border=\"1\" class=\"dataframe\">\n",
       "  <thead>\n",
       "    <tr style=\"text-align: right;\">\n",
       "      <th></th>\n",
       "      <th>sender_state</th>\n",
       "      <th>receiver_state</th>\n",
       "      <th>shipment_type</th>\n",
       "      <th>status</th>\n",
       "    </tr>\n",
       "  </thead>\n",
       "  <tbody>\n",
       "    <tr>\n",
       "      <th>count</th>\n",
       "      <td>48</td>\n",
       "      <td>48</td>\n",
       "      <td>48</td>\n",
       "      <td>48</td>\n",
       "    </tr>\n",
       "    <tr>\n",
       "      <th>unique</th>\n",
       "      <td>1</td>\n",
       "      <td>12</td>\n",
       "      <td>2</td>\n",
       "      <td>2</td>\n",
       "    </tr>\n",
       "    <tr>\n",
       "      <th>top</th>\n",
       "      <td>SP</td>\n",
       "      <td>SP</td>\n",
       "      <td>express</td>\n",
       "      <td>done</td>\n",
       "    </tr>\n",
       "    <tr>\n",
       "      <th>freq</th>\n",
       "      <td>48</td>\n",
       "      <td>26</td>\n",
       "      <td>27</td>\n",
       "      <td>43</td>\n",
       "    </tr>\n",
       "  </tbody>\n",
       "</table>\n",
       "</div>"
      ],
      "text/plain": [
       "       sender_state receiver_state shipment_type status\n",
       "count            48             48            48     48\n",
       "unique            1             12             2      2\n",
       "top              SP             SP       express   done\n",
       "freq             48             26            27     43"
      ]
     },
     "execution_count": 12,
     "metadata": {},
     "output_type": "execute_result"
    }
   ],
   "source": [
    "ds[m_shipment_days_negative].describe(include='object')"
   ]
  },
  {
   "cell_type": "code",
   "execution_count": 13,
   "metadata": {
    "colab": {
     "base_uri": "https://localhost:8080/",
     "height": 227
    },
    "colab_type": "code",
    "id": "auZRaYbbU2xI",
    "outputId": "056f4b61-1a8a-4656-f8c9-f1acbfdf2e91"
   },
   "outputs": [
    {
     "data": {
      "text/html": [
       "<div>\n",
       "<style scoped>\n",
       "    .dataframe tbody tr th:only-of-type {\n",
       "        vertical-align: middle;\n",
       "    }\n",
       "\n",
       "    .dataframe tbody tr th {\n",
       "        vertical-align: top;\n",
       "    }\n",
       "\n",
       "    .dataframe thead th {\n",
       "        text-align: right;\n",
       "    }\n",
       "</style>\n",
       "<table border=\"1\" class=\"dataframe\">\n",
       "  <thead>\n",
       "    <tr style=\"text-align: right;\">\n",
       "      <th></th>\n",
       "      <th>date_created</th>\n",
       "      <th>date_sent</th>\n",
       "      <th>date_visit</th>\n",
       "    </tr>\n",
       "  </thead>\n",
       "  <tbody>\n",
       "    <tr>\n",
       "      <th>count</th>\n",
       "      <td>48</td>\n",
       "      <td>48</td>\n",
       "      <td>48</td>\n",
       "    </tr>\n",
       "    <tr>\n",
       "      <th>unique</th>\n",
       "      <td>25</td>\n",
       "      <td>39</td>\n",
       "      <td>47</td>\n",
       "    </tr>\n",
       "    <tr>\n",
       "      <th>top</th>\n",
       "      <td>2019-06-28 00:00:00</td>\n",
       "      <td>2019-07-01 14:48:20</td>\n",
       "      <td>2019-03-01 12:51:00</td>\n",
       "    </tr>\n",
       "    <tr>\n",
       "      <th>freq</th>\n",
       "      <td>9</td>\n",
       "      <td>4</td>\n",
       "      <td>2</td>\n",
       "    </tr>\n",
       "    <tr>\n",
       "      <th>first</th>\n",
       "      <td>2019-03-08 00:00:00</td>\n",
       "      <td>2019-03-12 23:22:53</td>\n",
       "      <td>2019-02-28 14:21:00</td>\n",
       "    </tr>\n",
       "    <tr>\n",
       "      <th>last</th>\n",
       "      <td>2019-07-01 00:00:00</td>\n",
       "      <td>2019-07-01 18:01:55</td>\n",
       "      <td>2019-03-12 15:44:00</td>\n",
       "    </tr>\n",
       "  </tbody>\n",
       "</table>\n",
       "</div>"
      ],
      "text/plain": [
       "               date_created            date_sent           date_visit\n",
       "count                    48                   48                   48\n",
       "unique                   25                   39                   47\n",
       "top     2019-06-28 00:00:00  2019-07-01 14:48:20  2019-03-01 12:51:00\n",
       "freq                      9                    4                    2\n",
       "first   2019-03-08 00:00:00  2019-03-12 23:22:53  2019-02-28 14:21:00\n",
       "last    2019-07-01 00:00:00  2019-07-01 18:01:55  2019-03-12 15:44:00"
      ]
     },
     "execution_count": 13,
     "metadata": {},
     "output_type": "execute_result"
    }
   ],
   "source": [
    "ds[m_shipment_days_negative].describe(include='datetime64')"
   ]
  },
  {
   "cell_type": "markdown",
   "metadata": {
    "colab_type": "text",
    "id": "R_J9KiEcWe6b"
   },
   "source": [
    "Observaciones:\n",
    "\n",
    "* -77 no es el único valor anómalo\n",
    "* Hay 48 de 500.000 (0.0096%) registros afectados\n",
    "\n",
    "Dado que este porcentaje es mínimo, podría ser apropiado descartarlos. "
   ]
  },
  {
   "cell_type": "markdown",
   "metadata": {
    "colab_type": "text",
    "id": "lzBW62t5iUQX"
   },
   "source": [
    "## Análisis de fechas anómalas"
   ]
  },
  {
   "cell_type": "markdown",
   "metadata": {
    "colab_type": "text",
    "id": "jiqkvuSyiZcm"
   },
   "source": [
    "Las 3 variables de fechas que tenemos en este dataset, y los supuestos que proponemos para ellas, son:\n",
    "\n",
    "- **date_created**: Corresponde a la fecha de creación del envío.\n",
    "  - Es una fecha que se crea automáticamente a través de algunos de los procesos de venta de MercadoLibre.\n",
    "  - Sólo nos interesa la fecha y no la hora de creación.\n",
    "- **date_sent**: Corresponde a la fecha y hora en que alguno de los correos cargó para el envío en cuestión, que comenzó el proceso de envío.\n",
    " - Consideraremos **date_sent** como la fecha en que el envío está a cargo del correo y no necesariamente cuando el envío \"salió\" del correo (más bien cuando \"entró\" al correo, que es cuando el proceso de handling -esto es, el proceso del vendedor llevando los paquetes hacia el correo- llega a su fin).\n",
    " - Puede crearse \"automáticamente\" cuando el vendedor deja el contenido del envío en el correo.\n",
    "  - Puede también crearse \"manualmente\", pensando en lugares de recepción de correos sin la tecnología suficiente para que esta fecha sea generada automáticamente. Es posible entonces que sea necesario \"aceptar\" algunas fechas no precisas como válidas.\n",
    " * Por los supuestos en **date_created** y las anteriores para **date_sent**, esta fecha debe necesariamente ser posterior a **date_created**\n",
    "- **date_visit**: Corresponde a la fecha y hora en que alguno de los correos cargó en envío en cuestión como entregado.\n",
    "  - Puede crearse \"automáticamente\" cuando el cartero utiliza tecnología (lector de código de barras o aplicación movil, por ejemplo).\n",
    "  - Puede crearse \"manualmente\", pensando en que el cartero, al terminar un ciclo o jornada, provee de la información de todos los envíos entregados en ese ciclo o jornada.\n",
    "  - Por los supuestos en **date_created**, **date_sent** y los anteriores de **date_visit**, esta fecha debe neceariamente ser posterior a **date_created**. Se espera también que sea posterior a **date_sent** también, pero deberemos tomar una decisión en estos casos en función de análisis del dataset."
   ]
  },
  {
   "cell_type": "code",
   "execution_count": 14,
   "metadata": {
    "colab": {
     "base_uri": "https://localhost:8080/",
     "height": 287
    },
    "colab_type": "code",
    "id": "icZiHFRWnp0E",
    "outputId": "622914da-7057-423d-9a9e-5215781b558c"
   },
   "outputs": [
    {
     "data": {
      "text/html": [
       "<div>\n",
       "<style scoped>\n",
       "    .dataframe tbody tr th:only-of-type {\n",
       "        vertical-align: middle;\n",
       "    }\n",
       "\n",
       "    .dataframe tbody tr th {\n",
       "        vertical-align: top;\n",
       "    }\n",
       "\n",
       "    .dataframe thead th {\n",
       "        text-align: right;\n",
       "    }\n",
       "</style>\n",
       "<table border=\"1\" class=\"dataframe\">\n",
       "  <thead>\n",
       "    <tr style=\"text-align: right;\">\n",
       "      <th></th>\n",
       "      <th>sender_zipcode</th>\n",
       "      <th>receiver_zipcode</th>\n",
       "      <th>quantity</th>\n",
       "      <th>service</th>\n",
       "      <th>shipment_days</th>\n",
       "    </tr>\n",
       "  </thead>\n",
       "  <tbody>\n",
       "    <tr>\n",
       "      <th>count</th>\n",
       "      <td>194.000000</td>\n",
       "      <td>194.000000</td>\n",
       "      <td>194.000000</td>\n",
       "      <td>194.000000</td>\n",
       "      <td>179.000000</td>\n",
       "    </tr>\n",
       "    <tr>\n",
       "      <th>mean</th>\n",
       "      <td>7733.309278</td>\n",
       "      <td>41872.061856</td>\n",
       "      <td>1.237113</td>\n",
       "      <td>5.969072</td>\n",
       "      <td>-8.508380</td>\n",
       "    </tr>\n",
       "    <tr>\n",
       "      <th>std</th>\n",
       "      <td>4884.848489</td>\n",
       "      <td>30855.877916</td>\n",
       "      <td>0.589602</td>\n",
       "      <td>1.862939</td>\n",
       "      <td>34.751828</td>\n",
       "    </tr>\n",
       "    <tr>\n",
       "      <th>min</th>\n",
       "      <td>1039.000000</td>\n",
       "      <td>1021.000000</td>\n",
       "      <td>1.000000</td>\n",
       "      <td>2.000000</td>\n",
       "      <td>-77.000000</td>\n",
       "    </tr>\n",
       "    <tr>\n",
       "      <th>25%</th>\n",
       "      <td>3120.750000</td>\n",
       "      <td>13930.000000</td>\n",
       "      <td>1.000000</td>\n",
       "      <td>4.000000</td>\n",
       "      <td>-32.500000</td>\n",
       "    </tr>\n",
       "    <tr>\n",
       "      <th>50%</th>\n",
       "      <td>7411.000000</td>\n",
       "      <td>29108.500000</td>\n",
       "      <td>1.000000</td>\n",
       "      <td>7.000000</td>\n",
       "      <td>0.000000</td>\n",
       "    </tr>\n",
       "    <tr>\n",
       "      <th>75%</th>\n",
       "      <td>9961.000000</td>\n",
       "      <td>71970.500000</td>\n",
       "      <td>1.000000</td>\n",
       "      <td>7.000000</td>\n",
       "      <td>17.000000</td>\n",
       "    </tr>\n",
       "    <tr>\n",
       "      <th>max</th>\n",
       "      <td>19160.000000</td>\n",
       "      <td>97502.000000</td>\n",
       "      <td>4.000000</td>\n",
       "      <td>10.000000</td>\n",
       "      <td>38.000000</td>\n",
       "    </tr>\n",
       "  </tbody>\n",
       "</table>\n",
       "</div>"
      ],
      "text/plain": [
       "       sender_zipcode  receiver_zipcode    quantity     service  shipment_days\n",
       "count      194.000000        194.000000  194.000000  194.000000     179.000000\n",
       "mean      7733.309278      41872.061856    1.237113    5.969072      -8.508380\n",
       "std       4884.848489      30855.877916    0.589602    1.862939      34.751828\n",
       "min       1039.000000       1021.000000    1.000000    2.000000     -77.000000\n",
       "25%       3120.750000      13930.000000    1.000000    4.000000     -32.500000\n",
       "50%       7411.000000      29108.500000    1.000000    7.000000       0.000000\n",
       "75%       9961.000000      71970.500000    1.000000    7.000000      17.000000\n",
       "max      19160.000000      97502.000000    4.000000   10.000000      38.000000"
      ]
     },
     "execution_count": 14,
     "metadata": {},
     "output_type": "execute_result"
    }
   ],
   "source": [
    "m_date_created_after_date_sent = (ds.date_created >= ds.date_sent) #Filtramos date_created mayores que date_sent\n",
    "m_date_created_before_date_sent = (ds.date_created < ds.date_sent) #Filtramos date_created menores que date_sent\n",
    "\n",
    "m_date_created_after_date_visit = (ds.date_created >= ds.date_visit) #Filtramos date_created mayores que date_visit\n",
    "m_date_created_before_date_visit = (ds.date_created < ds.date_visit) #Filtramos date_created menores que date_visit\n",
    "\n",
    "m_date_created_invalid = m_date_created_after_date_sent | m_date_created_after_date_visit #Fechas de creación anomalas\n",
    "\n",
    "ds[m_date_created_invalid].describe()"
   ]
  },
  {
   "cell_type": "markdown",
   "metadata": {
    "colab_type": "text",
    "id": "rRJX9CfNoiQi"
   },
   "source": [
    "Tenemos 194 casos donde **date_created** no sigue los supuestos planteados. Por lo tanto, consideramos que esta información anómala o no válida debe ser eliminada del dataset. Podríamos hacer un análisis un poco más exhaustivo, pero creemos que por las cantidades de datos involucrados no vale la pena hacerlo."
   ]
  },
  {
   "cell_type": "code",
   "execution_count": 15,
   "metadata": {
    "colab": {
     "base_uri": "https://localhost:8080/",
     "height": 287
    },
    "colab_type": "code",
    "id": "qWCs-8e2o1w0",
    "outputId": "0ee54acc-dfc6-4b9a-e8d2-573932916dc0"
   },
   "outputs": [
    {
     "data": {
      "text/html": [
       "<div>\n",
       "<style scoped>\n",
       "    .dataframe tbody tr th:only-of-type {\n",
       "        vertical-align: middle;\n",
       "    }\n",
       "\n",
       "    .dataframe tbody tr th {\n",
       "        vertical-align: top;\n",
       "    }\n",
       "\n",
       "    .dataframe thead th {\n",
       "        text-align: right;\n",
       "    }\n",
       "</style>\n",
       "<table border=\"1\" class=\"dataframe\">\n",
       "  <thead>\n",
       "    <tr style=\"text-align: right;\">\n",
       "      <th></th>\n",
       "      <th>sender_zipcode</th>\n",
       "      <th>receiver_zipcode</th>\n",
       "      <th>quantity</th>\n",
       "      <th>service</th>\n",
       "      <th>shipment_days</th>\n",
       "    </tr>\n",
       "  </thead>\n",
       "  <tbody>\n",
       "    <tr>\n",
       "      <th>count</th>\n",
       "      <td>2407.000000</td>\n",
       "      <td>2407.000000</td>\n",
       "      <td>2407.000000</td>\n",
       "      <td>2407.000000</td>\n",
       "      <td>2407.000000</td>\n",
       "    </tr>\n",
       "    <tr>\n",
       "      <th>mean</th>\n",
       "      <td>7066.651849</td>\n",
       "      <td>12403.598671</td>\n",
       "      <td>1.283756</td>\n",
       "      <td>2.230577</td>\n",
       "      <td>-1.218114</td>\n",
       "    </tr>\n",
       "    <tr>\n",
       "      <th>std</th>\n",
       "      <td>4860.648858</td>\n",
       "      <td>17464.272237</td>\n",
       "      <td>0.670354</td>\n",
       "      <td>2.867468</td>\n",
       "      <td>9.042260</td>\n",
       "    </tr>\n",
       "    <tr>\n",
       "      <th>min</th>\n",
       "      <td>1001.000000</td>\n",
       "      <td>1005.000000</td>\n",
       "      <td>1.000000</td>\n",
       "      <td>0.000000</td>\n",
       "      <td>-77.000000</td>\n",
       "    </tr>\n",
       "    <tr>\n",
       "      <th>25%</th>\n",
       "      <td>3026.000000</td>\n",
       "      <td>4107.500000</td>\n",
       "      <td>1.000000</td>\n",
       "      <td>0.000000</td>\n",
       "      <td>0.000000</td>\n",
       "    </tr>\n",
       "    <tr>\n",
       "      <th>50%</th>\n",
       "      <td>5373.000000</td>\n",
       "      <td>6663.000000</td>\n",
       "      <td>1.000000</td>\n",
       "      <td>0.000000</td>\n",
       "      <td>0.000000</td>\n",
       "    </tr>\n",
       "    <tr>\n",
       "      <th>75%</th>\n",
       "      <td>11017.500000</td>\n",
       "      <td>13214.000000</td>\n",
       "      <td>1.000000</td>\n",
       "      <td>5.000000</td>\n",
       "      <td>0.000000</td>\n",
       "    </tr>\n",
       "    <tr>\n",
       "      <th>max</th>\n",
       "      <td>19970.000000</td>\n",
       "      <td>95300.000000</td>\n",
       "      <td>5.000000</td>\n",
       "      <td>10.000000</td>\n",
       "      <td>0.000000</td>\n",
       "    </tr>\n",
       "  </tbody>\n",
       "</table>\n",
       "</div>"
      ],
      "text/plain": [
       "       sender_zipcode  receiver_zipcode     quantity      service  \\\n",
       "count     2407.000000       2407.000000  2407.000000  2407.000000   \n",
       "mean      7066.651849      12403.598671     1.283756     2.230577   \n",
       "std       4860.648858      17464.272237     0.670354     2.867468   \n",
       "min       1001.000000       1005.000000     1.000000     0.000000   \n",
       "25%       3026.000000       4107.500000     1.000000     0.000000   \n",
       "50%       5373.000000       6663.000000     1.000000     0.000000   \n",
       "75%      11017.500000      13214.000000     1.000000     5.000000   \n",
       "max      19970.000000      95300.000000     5.000000    10.000000   \n",
       "\n",
       "       shipment_days  \n",
       "count    2407.000000  \n",
       "mean       -1.218114  \n",
       "std         9.042260  \n",
       "min       -77.000000  \n",
       "25%         0.000000  \n",
       "50%         0.000000  \n",
       "75%         0.000000  \n",
       "max         0.000000  "
      ]
     },
     "execution_count": 15,
     "metadata": {},
     "output_type": "execute_result"
    }
   ],
   "source": [
    "m_date_sent_after_date_visit = ds.date_sent >= ds.date_visit #Filtramos date_sent mayores que date_visit\n",
    "m_date_sent_before_date_visit = ds.date_sent < ds.date_visit #Filtramos date_sent menores que date_visit\n",
    "\n",
    "ds[m_date_sent_after_date_visit].describe()"
   ]
  },
  {
   "cell_type": "markdown",
   "metadata": {
    "colab_type": "text",
    "id": "sALwMy1_pLK_"
   },
   "source": [
    "Tenemos 2407 casos en donde se consignó que el paquete entró al proceso de envío después de la fecha de consignación de llegada. No representan una cantidad significativa de casos como para analizar si tiene sentido sacarlos o dejarlos del dataset, por lo que consideramos que es información no confiable que podemos quitar."
   ]
  },
  {
   "cell_type": "markdown",
   "metadata": {
    "colab_type": "text",
    "id": "iyOApcD3W8d8"
   },
   "source": [
    "## Dataset limpio\n",
    "\n",
    "Generaremos un nuevo dataset sin:\n",
    " - Anomalías y nulos en **shipment_days**.\n",
    " - Anomalías y nulos en **date_created**, **date_sent** y **date_visit**."
   ]
  },
  {
   "cell_type": "code",
   "execution_count": 16,
   "metadata": {
    "colab": {
     "base_uri": "https://localhost:8080/",
     "height": 387
    },
    "colab_type": "code",
    "id": "Ysgq9hk0U5Lz",
    "outputId": "5c645ade-46c1-47fe-b327-a3f5929b5ec7"
   },
   "outputs": [
    {
     "name": "stderr",
     "output_type": "stream",
     "text": [
      "/Users/nsalina/anaconda3/lib/python3.7/site-packages/ipykernel_launcher.py:3: UserWarning: Boolean Series key will be reindexed to match DataFrame index.\n",
      "  This is separate from the ipykernel package so we can avoid doing imports until\n",
      "/Users/nsalina/anaconda3/lib/python3.7/site-packages/ipykernel_launcher.py:4: UserWarning: Boolean Series key will be reindexed to match DataFrame index.\n",
      "  after removing the cwd from sys.path.\n",
      "/Users/nsalina/anaconda3/lib/python3.7/site-packages/ipykernel_launcher.py:5: UserWarning: Boolean Series key will be reindexed to match DataFrame index.\n",
      "  \"\"\"\n"
     ]
    },
    {
     "data": {
      "text/html": [
       "<div>\n",
       "<style scoped>\n",
       "    .dataframe tbody tr th:only-of-type {\n",
       "        vertical-align: middle;\n",
       "    }\n",
       "\n",
       "    .dataframe tbody tr th {\n",
       "        vertical-align: top;\n",
       "    }\n",
       "\n",
       "    .dataframe thead th {\n",
       "        text-align: right;\n",
       "    }\n",
       "</style>\n",
       "<table border=\"1\" class=\"dataframe\">\n",
       "  <thead>\n",
       "    <tr style=\"text-align: right;\">\n",
       "      <th></th>\n",
       "      <th>sender_zipcode</th>\n",
       "      <th>receiver_zipcode</th>\n",
       "      <th>quantity</th>\n",
       "      <th>service</th>\n",
       "      <th>shipment_days</th>\n",
       "    </tr>\n",
       "  </thead>\n",
       "  <tbody>\n",
       "    <tr>\n",
       "      <th>count</th>\n",
       "      <td>496860.000000</td>\n",
       "      <td>496860.000000</td>\n",
       "      <td>496860.000000</td>\n",
       "      <td>496860.000000</td>\n",
       "      <td>496860.000000</td>\n",
       "    </tr>\n",
       "    <tr>\n",
       "      <th>mean</th>\n",
       "      <td>8311.897045</td>\n",
       "      <td>40109.041430</td>\n",
       "      <td>1.278213</td>\n",
       "      <td>1.509465</td>\n",
       "      <td>5.398454</td>\n",
       "    </tr>\n",
       "    <tr>\n",
       "      <th>std</th>\n",
       "      <td>5088.813901</td>\n",
       "      <td>30969.204018</td>\n",
       "      <td>0.661664</td>\n",
       "      <td>1.817370</td>\n",
       "      <td>4.973359</td>\n",
       "    </tr>\n",
       "    <tr>\n",
       "      <th>min</th>\n",
       "      <td>1001.000000</td>\n",
       "      <td>1001.000000</td>\n",
       "      <td>1.000000</td>\n",
       "      <td>0.000000</td>\n",
       "      <td>0.000000</td>\n",
       "    </tr>\n",
       "    <tr>\n",
       "      <th>25%</th>\n",
       "      <td>3680.000000</td>\n",
       "      <td>13172.000000</td>\n",
       "      <td>1.000000</td>\n",
       "      <td>0.000000</td>\n",
       "      <td>2.000000</td>\n",
       "    </tr>\n",
       "    <tr>\n",
       "      <th>50%</th>\n",
       "      <td>7400.000000</td>\n",
       "      <td>31340.000000</td>\n",
       "      <td>1.000000</td>\n",
       "      <td>1.000000</td>\n",
       "      <td>4.000000</td>\n",
       "    </tr>\n",
       "    <tr>\n",
       "      <th>75%</th>\n",
       "      <td>13283.000000</td>\n",
       "      <td>70719.000000</td>\n",
       "      <td>1.000000</td>\n",
       "      <td>2.000000</td>\n",
       "      <td>8.000000</td>\n",
       "    </tr>\n",
       "    <tr>\n",
       "      <th>max</th>\n",
       "      <td>19970.000000</td>\n",
       "      <td>99990.000000</td>\n",
       "      <td>5.000000</td>\n",
       "      <td>12.000000</td>\n",
       "      <td>90.000000</td>\n",
       "    </tr>\n",
       "  </tbody>\n",
       "</table>\n",
       "</div>"
      ],
      "text/plain": [
       "       sender_zipcode  receiver_zipcode       quantity        service  \\\n",
       "count   496860.000000     496860.000000  496860.000000  496860.000000   \n",
       "mean      8311.897045      40109.041430       1.278213       1.509465   \n",
       "std       5088.813901      30969.204018       0.661664       1.817370   \n",
       "min       1001.000000       1001.000000       1.000000       0.000000   \n",
       "25%       3680.000000      13172.000000       1.000000       0.000000   \n",
       "50%       7400.000000      31340.000000       1.000000       1.000000   \n",
       "75%      13283.000000      70719.000000       1.000000       2.000000   \n",
       "max      19970.000000      99990.000000       5.000000      12.000000   \n",
       "\n",
       "       shipment_days  \n",
       "count  496860.000000  \n",
       "mean        5.398454  \n",
       "std         4.973359  \n",
       "min         0.000000  \n",
       "25%         2.000000  \n",
       "50%         4.000000  \n",
       "75%         8.000000  \n",
       "max        90.000000  "
      ]
     },
     "execution_count": 16,
     "metadata": {},
     "output_type": "execute_result"
    }
   ],
   "source": [
    "# Generate a new, cleaned dataset\n",
    "dataset = ds[m_shipment_days_positive] # solo shipment_days positives\n",
    "dataset = dataset[m_date_created_before_date_sent] # solo fechas de creacion antes de la fecha de envio\n",
    "dataset = dataset[m_date_created_before_date_visit] # solo fechas de creacion antes de la fecha de visita\n",
    "dataset = dataset[m_date_sent_before_date_visit] # solo fechas de envios antes de la fecha de visita\n",
    "dataset = dataset.dropna() # Quitamos las filas de valores faltantes que hayan quedado\n",
    "dataset.to_csv(\"data_sample_corrected_cleaned.csv\", sep=',', index=False)\n",
    "dataset.describe()"
   ]
  },
  {
   "cell_type": "markdown",
   "metadata": {},
   "source": [
    "La limpieza del dataset resulta en un total de 496.860 (99.37%) datos."
   ]
  },
  {
   "cell_type": "markdown",
   "metadata": {
    "colab_type": "text",
    "id": "vZiTXZICXcu2"
   },
   "source": [
    "## Estadísticos\n",
    "\n",
    "\n",
    "**Shipment _days**\n",
    "\n",
    "* El valor medio de envío es 5.39 días\n",
    "* La desviación estándar es 4.97 días.\n",
    "* La mediana es 4 días\n",
    "* El rango es de 90 días\n",
    "* El 50% de los envíos demora entre 0 y 4 días\n",
    "* El 75% de los envíos demora entre 0 y 8 días\n",
    "\n",
    "\n",
    "**Quantity**\n",
    "\n",
    "* El valor medio es de 1.27 productos por envío.\n",
    "* La desviación estándar de esta variable es 0.66\n",
    "* La mediana es 1 producto por envío\n",
    "* El rango es de 5 productos\n",
    "* El 75% de los envíos lleva sólo un producto"
   ]
  },
  {
   "cell_type": "code",
   "execution_count": 17,
   "metadata": {
    "colab": {
     "base_uri": "https://localhost:8080/",
     "height": 167
    },
    "colab_type": "code",
    "id": "_31BmMf2Wyvg",
    "outputId": "b5512c6e-7d6b-4d41-dfda-f943526da2c1"
   },
   "outputs": [
    {
     "data": {
      "text/html": [
       "<div>\n",
       "<style scoped>\n",
       "    .dataframe tbody tr th:only-of-type {\n",
       "        vertical-align: middle;\n",
       "    }\n",
       "\n",
       "    .dataframe tbody tr th {\n",
       "        vertical-align: top;\n",
       "    }\n",
       "\n",
       "    .dataframe thead th {\n",
       "        text-align: right;\n",
       "    }\n",
       "</style>\n",
       "<table border=\"1\" class=\"dataframe\">\n",
       "  <thead>\n",
       "    <tr style=\"text-align: right;\">\n",
       "      <th></th>\n",
       "      <th>sender_state</th>\n",
       "      <th>receiver_state</th>\n",
       "      <th>shipment_type</th>\n",
       "      <th>status</th>\n",
       "    </tr>\n",
       "  </thead>\n",
       "  <tbody>\n",
       "    <tr>\n",
       "      <th>count</th>\n",
       "      <td>496860</td>\n",
       "      <td>496860</td>\n",
       "      <td>496860</td>\n",
       "      <td>496860</td>\n",
       "    </tr>\n",
       "    <tr>\n",
       "      <th>unique</th>\n",
       "      <td>1</td>\n",
       "      <td>27</td>\n",
       "      <td>3</td>\n",
       "      <td>2</td>\n",
       "    </tr>\n",
       "    <tr>\n",
       "      <th>top</th>\n",
       "      <td>SP</td>\n",
       "      <td>SP</td>\n",
       "      <td>standard</td>\n",
       "      <td>done</td>\n",
       "    </tr>\n",
       "    <tr>\n",
       "      <th>freq</th>\n",
       "      <td>496860</td>\n",
       "      <td>188266</td>\n",
       "      <td>262721</td>\n",
       "      <td>492495</td>\n",
       "    </tr>\n",
       "  </tbody>\n",
       "</table>\n",
       "</div>"
      ],
      "text/plain": [
       "       sender_state receiver_state shipment_type  status\n",
       "count        496860         496860        496860  496860\n",
       "unique            1             27             3       2\n",
       "top              SP             SP      standard    done\n",
       "freq         496860         188266        262721  492495"
      ]
     },
     "execution_count": 17,
     "metadata": {},
     "output_type": "execute_result"
    }
   ],
   "source": [
    "dataset.describe(include='object') #dataset limpio"
   ]
  },
  {
   "cell_type": "code",
   "execution_count": 18,
   "metadata": {
    "colab": {
     "base_uri": "https://localhost:8080/",
     "height": 167
    },
    "colab_type": "code",
    "id": "UQ848w4HYmYk",
    "outputId": "0204a766-0712-427e-cfe1-33be71e4b55b"
   },
   "outputs": [
    {
     "data": {
      "text/html": [
       "<div>\n",
       "<style scoped>\n",
       "    .dataframe tbody tr th:only-of-type {\n",
       "        vertical-align: middle;\n",
       "    }\n",
       "\n",
       "    .dataframe tbody tr th {\n",
       "        vertical-align: top;\n",
       "    }\n",
       "\n",
       "    .dataframe thead th {\n",
       "        text-align: right;\n",
       "    }\n",
       "</style>\n",
       "<table border=\"1\" class=\"dataframe\">\n",
       "  <thead>\n",
       "    <tr style=\"text-align: right;\">\n",
       "      <th></th>\n",
       "      <th>sender_state</th>\n",
       "      <th>receiver_state</th>\n",
       "      <th>shipment_type</th>\n",
       "      <th>status</th>\n",
       "    </tr>\n",
       "  </thead>\n",
       "  <tbody>\n",
       "    <tr>\n",
       "      <th>count</th>\n",
       "      <td>500000</td>\n",
       "      <td>500000</td>\n",
       "      <td>500000</td>\n",
       "      <td>500000</td>\n",
       "    </tr>\n",
       "    <tr>\n",
       "      <th>unique</th>\n",
       "      <td>1</td>\n",
       "      <td>27</td>\n",
       "      <td>3</td>\n",
       "      <td>5</td>\n",
       "    </tr>\n",
       "    <tr>\n",
       "      <th>top</th>\n",
       "      <td>SP</td>\n",
       "      <td>SP</td>\n",
       "      <td>standard</td>\n",
       "      <td>done</td>\n",
       "    </tr>\n",
       "    <tr>\n",
       "      <th>freq</th>\n",
       "      <td>500000</td>\n",
       "      <td>190586</td>\n",
       "      <td>263227</td>\n",
       "      <td>494983</td>\n",
       "    </tr>\n",
       "  </tbody>\n",
       "</table>\n",
       "</div>"
      ],
      "text/plain": [
       "       sender_state receiver_state shipment_type  status\n",
       "count        500000         500000        500000  500000\n",
       "unique            1             27             3       5\n",
       "top              SP             SP      standard    done\n",
       "freq         500000         190586        263227  494983"
      ]
     },
     "execution_count": 18,
     "metadata": {},
     "output_type": "execute_result"
    }
   ],
   "source": [
    "ds.describe(include='object') #Dataset original"
   ]
  },
  {
   "cell_type": "code",
   "execution_count": 19,
   "metadata": {
    "colab": {
     "base_uri": "https://localhost:8080/",
     "height": 227
    },
    "colab_type": "code",
    "id": "qZMEO36lY0Bc",
    "outputId": "ceb30469-cc3e-4274-dbcc-0bd96f1e2abf"
   },
   "outputs": [
    {
     "data": {
      "text/html": [
       "<div>\n",
       "<style scoped>\n",
       "    .dataframe tbody tr th:only-of-type {\n",
       "        vertical-align: middle;\n",
       "    }\n",
       "\n",
       "    .dataframe tbody tr th {\n",
       "        vertical-align: top;\n",
       "    }\n",
       "\n",
       "    .dataframe thead th {\n",
       "        text-align: right;\n",
       "    }\n",
       "</style>\n",
       "<table border=\"1\" class=\"dataframe\">\n",
       "  <thead>\n",
       "    <tr style=\"text-align: right;\">\n",
       "      <th></th>\n",
       "      <th>date_created</th>\n",
       "      <th>date_sent</th>\n",
       "      <th>date_visit</th>\n",
       "    </tr>\n",
       "  </thead>\n",
       "  <tbody>\n",
       "    <tr>\n",
       "      <th>count</th>\n",
       "      <td>496860</td>\n",
       "      <td>496860</td>\n",
       "      <td>496860</td>\n",
       "    </tr>\n",
       "    <tr>\n",
       "      <th>unique</th>\n",
       "      <td>108</td>\n",
       "      <td>81083</td>\n",
       "      <td>54951</td>\n",
       "    </tr>\n",
       "    <tr>\n",
       "      <th>top</th>\n",
       "      <td>2019-03-05 00:00:00</td>\n",
       "      <td>2019-03-11 15:53:00</td>\n",
       "      <td>2019-03-11 22:00:00</td>\n",
       "    </tr>\n",
       "    <tr>\n",
       "      <th>freq</th>\n",
       "      <td>20048</td>\n",
       "      <td>113</td>\n",
       "      <td>621</td>\n",
       "    </tr>\n",
       "    <tr>\n",
       "      <th>first</th>\n",
       "      <td>2018-10-21 00:00:00</td>\n",
       "      <td>2018-10-23 13:57:00</td>\n",
       "      <td>2019-02-25 05:36:00</td>\n",
       "    </tr>\n",
       "    <tr>\n",
       "      <th>last</th>\n",
       "      <td>2019-03-28 00:00:00</td>\n",
       "      <td>2019-03-29 01:46:20</td>\n",
       "      <td>2019-04-02 15:35:00</td>\n",
       "    </tr>\n",
       "  </tbody>\n",
       "</table>\n",
       "</div>"
      ],
      "text/plain": [
       "               date_created            date_sent           date_visit\n",
       "count                496860               496860               496860\n",
       "unique                  108                81083                54951\n",
       "top     2019-03-05 00:00:00  2019-03-11 15:53:00  2019-03-11 22:00:00\n",
       "freq                  20048                  113                  621\n",
       "first   2018-10-21 00:00:00  2018-10-23 13:57:00  2019-02-25 05:36:00\n",
       "last    2019-03-28 00:00:00  2019-03-29 01:46:20  2019-04-02 15:35:00"
      ]
     },
     "execution_count": 19,
     "metadata": {},
     "output_type": "execute_result"
    }
   ],
   "source": [
    "dataset.describe(include='datetime64')"
   ]
  },
  {
   "cell_type": "code",
   "execution_count": 20,
   "metadata": {
    "colab": {
     "base_uri": "https://localhost:8080/",
     "height": 33
    },
    "colab_type": "code",
    "id": "zft-98FHY2ZT",
    "outputId": "da3e6152-9825-488c-ebf4-e3e1bbbc4cd5"
   },
   "outputs": [
    {
     "data": {
      "text/plain": [
       "array(['done', 'failed'], dtype=object)"
      ]
     },
     "execution_count": 20,
     "metadata": {},
     "output_type": "execute_result"
    }
   ],
   "source": [
    "dataset['status'].unique() #Dataset limpio (variable status)"
   ]
  },
  {
   "cell_type": "code",
   "execution_count": 21,
   "metadata": {
    "colab": {
     "base_uri": "https://localhost:8080/",
     "height": 33
    },
    "colab_type": "code",
    "id": "cEbPuEbBZC0B",
    "outputId": "f6f102af-a2d3-4505-99cb-12b9f3aa4971"
   },
   "outputs": [
    {
     "data": {
      "text/plain": [
       "array(['done', 'failed', 'sent', 'cancelled', 'set'], dtype=object)"
      ]
     },
     "execution_count": 21,
     "metadata": {},
     "output_type": "execute_result"
    }
   ],
   "source": [
    "ds['status'].unique() #Dataset original (variable status)"
   ]
  },
  {
   "cell_type": "code",
   "execution_count": 22,
   "metadata": {
    "colab": {
     "base_uri": "https://localhost:8080/",
     "height": 33
    },
    "colab_type": "code",
    "id": "LDAKohmiYw1j",
    "outputId": "42017c7d-7c40-4078-8940-075a3603c704"
   },
   "outputs": [
    {
     "data": {
      "text/plain": [
       "12"
      ]
     },
     "execution_count": 22,
     "metadata": {},
     "output_type": "execute_result"
    }
   ],
   "source": [
    "dataset['service'].unique().size #dataset limpio"
   ]
  },
  {
   "cell_type": "code",
   "execution_count": 23,
   "metadata": {
    "colab": {
     "base_uri": "https://localhost:8080/",
     "height": 33
    },
    "colab_type": "code",
    "id": "mKOfBfB6an1B",
    "outputId": "40c50e05-ed0b-49eb-d28a-a7ec0d52c1e0"
   },
   "outputs": [
    {
     "data": {
      "text/plain": [
       "13"
      ]
     },
     "execution_count": 23,
     "metadata": {},
     "output_type": "execute_result"
    }
   ],
   "source": [
    "ds['service'].unique().size #dataset original"
   ]
  },
  {
   "cell_type": "markdown",
   "metadata": {
    "colab_type": "text",
    "id": "APDUe3EFZL1N"
   },
   "source": [
    "La limpieza de nuestro dataset tuvo las siguientes consecuencias:\n",
    "\n",
    "* Hay 12 servicios de correo donde el más frecuente es el 1 (antes eran 13).\n",
    "* Hay 2 estados de envío (_done_ y _failed_) donde el más frecuente es _done_. Los otros 3 valores que puede tomar esta variable (_set_, _failed_ y _cancelled_) no tenían valor en **shipment_days** ante la falta de **date_visit**. Consideramos que estos valores no son de interés para nuestra problemática. "
   ]
  },
  {
   "cell_type": "markdown",
   "metadata": {
    "colab_type": "text",
    "id": "kIssBUH5RmTH"
   },
   "source": [
    "## 2. Información extra\n",
    "\n",
    "En función de la información que tenemos y la información que nos gustaría revisar, generamos otro dataset con información de los estados de Brasil, con los siguientes campos:\n",
    "\n",
    "- **id**: Dos letras que determinan unívocamente el estado (como lo tenemos en el dataset de la problemática)\n",
    "- **name**: Nombre del estado\n",
    "- **name_mapchart**: Nombre del estado tal cual lo necesita https://paintmaps.com/map-charts/29/Brazil-map-chart (por si hace falta usarlo para graficar)\n",
    "- **lat**: Latitud (de su capital, como figura en http://www.distancelatlong.com/country/brazil)\n",
    "- **lon**: Longitud (de su capital, como figura en http://www.distancelatlong.com/country/brazil)\n",
    "- **zipfrom1**: Inicio del segmento1 de los Código Postales del estado, acortado a los primeros 5 dígitos, como tenemos en la problemática (como figura en https://en.wikipedia.org/wiki/List_of_postal_codes_in_Brazil)\n",
    "- **zipto1**: Fin del segmento1 de los Código Postales del estado, acortado a los primeros 5 dígitos, como tenemos en la problemática (como figura en https://en.wikipedia.org/wiki/List_of_postal_codes_in_Brazil)\n",
    "- **zipfrom2**: (opcional) Inicio del segmento1 de los Código Postales del estado, acortado a los primeros 5 dígitos, como tenemos en la problemática (como figura en https://en.wikipedia.org/wiki/List_of_postal_codes_in_Brazil)\n",
    "- **zipto2**: (opcional) Fin del segmento1 de los Código Postales del estado, acortado a los primeros 5 dígitos, como tenemos en la problemática (como figura en https://en.wikipedia.org/wiki/List_of_postal_codes_in_Brazil)\n",
    "- **distance**: Distancia a Sao Paulo (en Km), usando latitud y longitud de este mismo dataset, y de acuerdo a lo que devuelve https://www.movable-type.co.uk/scripts/latlong.html\n"
   ]
  },
  {
   "cell_type": "code",
   "execution_count": 24,
   "metadata": {
    "colab": {
     "base_uri": "https://localhost:8080/",
     "height": 266
    },
    "colab_type": "code",
    "id": "YeJUtxHfSvem",
    "outputId": "dd5f8f6e-3864-4370-d7c8-57a68a72a211"
   },
   "outputs": [
    {
     "name": "stdout",
     "output_type": "stream",
     "text": [
      "<class 'pandas.core.frame.DataFrame'>\n",
      "RangeIndex: 27 entries, 0 to 26\n",
      "Data columns (total 10 columns):\n",
      "id               27 non-null object\n",
      "name             27 non-null object\n",
      "name_mapchart    27 non-null object\n",
      "lat              27 non-null float64\n",
      "lon              27 non-null float64\n",
      "zipfrom1         27 non-null int64\n",
      "zipto1           27 non-null int64\n",
      "zipfrom2         5 non-null float64\n",
      "zipto2           5 non-null float64\n",
      "distance         27 non-null int64\n",
      "dtypes: float64(4), int64(3), object(3)\n",
      "memory usage: 2.2+ KB\n"
     ]
    }
   ],
   "source": [
    "brazil_states = pd.read_csv('states_info.csv', delimiter=';',\n",
    "                           dtype={'lat':'float64',\n",
    "                                  'lon':'float64'})\n",
    "brazil_states.info()"
   ]
  },
  {
   "cell_type": "code",
   "execution_count": 25,
   "metadata": {
    "colab": {
     "base_uri": "https://localhost:8080/",
     "height": 857
    },
    "colab_type": "code",
    "id": "Ttr5cqXyOu-O",
    "outputId": "d45422d6-ea49-4d3c-c402-6202a3899417"
   },
   "outputs": [
    {
     "data": {
      "text/html": [
       "<div>\n",
       "<style scoped>\n",
       "    .dataframe tbody tr th:only-of-type {\n",
       "        vertical-align: middle;\n",
       "    }\n",
       "\n",
       "    .dataframe tbody tr th {\n",
       "        vertical-align: top;\n",
       "    }\n",
       "\n",
       "    .dataframe thead th {\n",
       "        text-align: right;\n",
       "    }\n",
       "</style>\n",
       "<table border=\"1\" class=\"dataframe\">\n",
       "  <thead>\n",
       "    <tr style=\"text-align: right;\">\n",
       "      <th></th>\n",
       "      <th>id</th>\n",
       "      <th>name</th>\n",
       "      <th>name_mapchart</th>\n",
       "      <th>lat</th>\n",
       "      <th>lon</th>\n",
       "      <th>zipfrom1</th>\n",
       "      <th>zipto1</th>\n",
       "      <th>zipfrom2</th>\n",
       "      <th>zipto2</th>\n",
       "      <th>distance</th>\n",
       "    </tr>\n",
       "  </thead>\n",
       "  <tbody>\n",
       "    <tr>\n",
       "      <th>0</th>\n",
       "      <td>AC</td>\n",
       "      <td>Acre</td>\n",
       "      <td>Acre</td>\n",
       "      <td>-9.070003</td>\n",
       "      <td>-68.669979</td>\n",
       "      <td>69900</td>\n",
       "      <td>69999</td>\n",
       "      <td>NaN</td>\n",
       "      <td>NaN</td>\n",
       "      <td>2862</td>\n",
       "    </tr>\n",
       "    <tr>\n",
       "      <th>1</th>\n",
       "      <td>AL</td>\n",
       "      <td>Alagoas</td>\n",
       "      <td>Alagoas</td>\n",
       "      <td>-9.480004</td>\n",
       "      <td>-35.839968</td>\n",
       "      <td>57000</td>\n",
       "      <td>57999</td>\n",
       "      <td>NaN</td>\n",
       "      <td>NaN</td>\n",
       "      <td>2864</td>\n",
       "    </tr>\n",
       "    <tr>\n",
       "      <th>2</th>\n",
       "      <td>AP</td>\n",
       "      <td>Amapa</td>\n",
       "      <td>Amapá</td>\n",
       "      <td>-0.039598</td>\n",
       "      <td>-51.179987</td>\n",
       "      <td>68900</td>\n",
       "      <td>68999</td>\n",
       "      <td>NaN</td>\n",
       "      <td>NaN</td>\n",
       "      <td>2682</td>\n",
       "    </tr>\n",
       "    <tr>\n",
       "      <th>3</th>\n",
       "      <td>AM</td>\n",
       "      <td>Amazonas</td>\n",
       "      <td>Amazonas</td>\n",
       "      <td>-3.289581</td>\n",
       "      <td>-60.619980</td>\n",
       "      <td>69000</td>\n",
       "      <td>69299</td>\n",
       "      <td>69400.0</td>\n",
       "      <td>69899.0</td>\n",
       "      <td>2731</td>\n",
       "    </tr>\n",
       "    <tr>\n",
       "      <th>4</th>\n",
       "      <td>BA</td>\n",
       "      <td>Bahia</td>\n",
       "      <td>Bahia</td>\n",
       "      <td>-16.280002</td>\n",
       "      <td>-39.029980</td>\n",
       "      <td>40000</td>\n",
       "      <td>48999</td>\n",
       "      <td>NaN</td>\n",
       "      <td>NaN</td>\n",
       "      <td>1140</td>\n",
       "    </tr>\n",
       "    <tr>\n",
       "      <th>5</th>\n",
       "      <td>CE</td>\n",
       "      <td>Ceara</td>\n",
       "      <td>Ceará</td>\n",
       "      <td>-2.899992</td>\n",
       "      <td>-40.850024</td>\n",
       "      <td>60000</td>\n",
       "      <td>63999</td>\n",
       "      <td>NaN</td>\n",
       "      <td>NaN</td>\n",
       "      <td>2396</td>\n",
       "    </tr>\n",
       "    <tr>\n",
       "      <th>6</th>\n",
       "      <td>DF</td>\n",
       "      <td>Distrito Federal</td>\n",
       "      <td>Distrito_Federal</td>\n",
       "      <td>-15.783340</td>\n",
       "      <td>-47.916052</td>\n",
       "      <td>70000</td>\n",
       "      <td>72799</td>\n",
       "      <td>73000.0</td>\n",
       "      <td>73699.0</td>\n",
       "      <td>896</td>\n",
       "    </tr>\n",
       "    <tr>\n",
       "      <th>7</th>\n",
       "      <td>ES</td>\n",
       "      <td>Espirito Santo</td>\n",
       "      <td>Espírito_Santo</td>\n",
       "      <td>-20.850008</td>\n",
       "      <td>-41.129981</td>\n",
       "      <td>29000</td>\n",
       "      <td>29999</td>\n",
       "      <td>NaN</td>\n",
       "      <td>NaN</td>\n",
       "      <td>641</td>\n",
       "    </tr>\n",
       "    <tr>\n",
       "      <th>8</th>\n",
       "      <td>GO</td>\n",
       "      <td>Goias</td>\n",
       "      <td>Goiás</td>\n",
       "      <td>-17.730043</td>\n",
       "      <td>-49.109985</td>\n",
       "      <td>72800</td>\n",
       "      <td>72999</td>\n",
       "      <td>73700.0</td>\n",
       "      <td>76799.0</td>\n",
       "      <td>719</td>\n",
       "    </tr>\n",
       "    <tr>\n",
       "      <th>9</th>\n",
       "      <td>MA</td>\n",
       "      <td>Maranhao</td>\n",
       "      <td>Maranhão</td>\n",
       "      <td>-5.809996</td>\n",
       "      <td>-46.149984</td>\n",
       "      <td>65000</td>\n",
       "      <td>65999</td>\n",
       "      <td>NaN</td>\n",
       "      <td>NaN</td>\n",
       "      <td>1994</td>\n",
       "    </tr>\n",
       "    <tr>\n",
       "      <th>10</th>\n",
       "      <td>MT</td>\n",
       "      <td>Mato Grosso</td>\n",
       "      <td>Mato_Grosso</td>\n",
       "      <td>-15.650015</td>\n",
       "      <td>-56.140021</td>\n",
       "      <td>78000</td>\n",
       "      <td>78899</td>\n",
       "      <td>NaN</td>\n",
       "      <td>NaN</td>\n",
       "      <td>1349</td>\n",
       "    </tr>\n",
       "    <tr>\n",
       "      <th>11</th>\n",
       "      <td>MS</td>\n",
       "      <td>Mato Grosso Do Sul</td>\n",
       "      <td>Mato_Grosso_do_Sul</td>\n",
       "      <td>-22.530009</td>\n",
       "      <td>-55.729968</td>\n",
       "      <td>79000</td>\n",
       "      <td>79999</td>\n",
       "      <td>NaN</td>\n",
       "      <td>NaN</td>\n",
       "      <td>950</td>\n",
       "    </tr>\n",
       "    <tr>\n",
       "      <th>12</th>\n",
       "      <td>MG</td>\n",
       "      <td>Minas Gerais</td>\n",
       "      <td>Minas_Gerais</td>\n",
       "      <td>-18.780005</td>\n",
       "      <td>-42.950025</td>\n",
       "      <td>30000</td>\n",
       "      <td>39999</td>\n",
       "      <td>NaN</td>\n",
       "      <td>NaN</td>\n",
       "      <td>664</td>\n",
       "    </tr>\n",
       "    <tr>\n",
       "      <th>13</th>\n",
       "      <td>PA</td>\n",
       "      <td>Para</td>\n",
       "      <td>Pará</td>\n",
       "      <td>-1.190019</td>\n",
       "      <td>-47.179999</td>\n",
       "      <td>66000</td>\n",
       "      <td>68899</td>\n",
       "      <td>NaN</td>\n",
       "      <td>NaN</td>\n",
       "      <td>2508</td>\n",
       "    </tr>\n",
       "    <tr>\n",
       "      <th>14</th>\n",
       "      <td>PB</td>\n",
       "      <td>Paraiba</td>\n",
       "      <td>Paraíba</td>\n",
       "      <td>-7.019586</td>\n",
       "      <td>-37.290008</td>\n",
       "      <td>58000</td>\n",
       "      <td>58999</td>\n",
       "      <td>NaN</td>\n",
       "      <td>NaN</td>\n",
       "      <td>2104</td>\n",
       "    </tr>\n",
       "    <tr>\n",
       "      <th>15</th>\n",
       "      <td>PR</td>\n",
       "      <td>Parana</td>\n",
       "      <td>Paraná</td>\n",
       "      <td>-24.089965</td>\n",
       "      <td>-54.269980</td>\n",
       "      <td>80000</td>\n",
       "      <td>87999</td>\n",
       "      <td>NaN</td>\n",
       "      <td>NaN</td>\n",
       "      <td>787</td>\n",
       "    </tr>\n",
       "    <tr>\n",
       "      <th>16</th>\n",
       "      <td>PE</td>\n",
       "      <td>Pernambuco</td>\n",
       "      <td>Pernambuco</td>\n",
       "      <td>-8.110010</td>\n",
       "      <td>-35.020044</td>\n",
       "      <td>50000</td>\n",
       "      <td>56999</td>\n",
       "      <td>NaN</td>\n",
       "      <td>NaN</td>\n",
       "      <td>2126</td>\n",
       "    </tr>\n",
       "    <tr>\n",
       "      <th>17</th>\n",
       "      <td>PI</td>\n",
       "      <td>Piaui</td>\n",
       "      <td>Piauí</td>\n",
       "      <td>-4.820030</td>\n",
       "      <td>-42.180020</td>\n",
       "      <td>64000</td>\n",
       "      <td>64999</td>\n",
       "      <td>NaN</td>\n",
       "      <td>NaN</td>\n",
       "      <td>2154</td>\n",
       "    </tr>\n",
       "    <tr>\n",
       "      <th>18</th>\n",
       "      <td>RJ</td>\n",
       "      <td>Rio De Janeiro</td>\n",
       "      <td>Rio_de_Janeiro</td>\n",
       "      <td>-22.560033</td>\n",
       "      <td>-44.169950</td>\n",
       "      <td>20000</td>\n",
       "      <td>28999</td>\n",
       "      <td>NaN</td>\n",
       "      <td>NaN</td>\n",
       "      <td>274</td>\n",
       "    </tr>\n",
       "    <tr>\n",
       "      <th>19</th>\n",
       "      <td>RN</td>\n",
       "      <td>Rio Grande Do Norte</td>\n",
       "      <td>Rio_Grande_do_Norte</td>\n",
       "      <td>-5.650005</td>\n",
       "      <td>-37.800003</td>\n",
       "      <td>59000</td>\n",
       "      <td>59999</td>\n",
       "      <td>NaN</td>\n",
       "      <td>NaN</td>\n",
       "      <td>2217</td>\n",
       "    </tr>\n",
       "    <tr>\n",
       "      <th>20</th>\n",
       "      <td>RS</td>\n",
       "      <td>Rio Grande Do Sul</td>\n",
       "      <td>Rio_Grande_do_Sul</td>\n",
       "      <td>-30.880041</td>\n",
       "      <td>-55.530006</td>\n",
       "      <td>90000</td>\n",
       "      <td>99999</td>\n",
       "      <td>NaN</td>\n",
       "      <td>NaN</td>\n",
       "      <td>1192</td>\n",
       "    </tr>\n",
       "    <tr>\n",
       "      <th>21</th>\n",
       "      <td>RO</td>\n",
       "      <td>Rondonia</td>\n",
       "      <td>Rondônia</td>\n",
       "      <td>-11.640027</td>\n",
       "      <td>-61.209995</td>\n",
       "      <td>76800</td>\n",
       "      <td>76999</td>\n",
       "      <td>78900.0</td>\n",
       "      <td>78999.0</td>\n",
       "      <td>2053</td>\n",
       "    </tr>\n",
       "    <tr>\n",
       "      <th>22</th>\n",
       "      <td>RR</td>\n",
       "      <td>Roraima</td>\n",
       "      <td>Roraima</td>\n",
       "      <td>1.816232</td>\n",
       "      <td>-61.127675</td>\n",
       "      <td>69300</td>\n",
       "      <td>69399</td>\n",
       "      <td>NaN</td>\n",
       "      <td>NaN</td>\n",
       "      <td>3250</td>\n",
       "    </tr>\n",
       "    <tr>\n",
       "      <th>23</th>\n",
       "      <td>SC</td>\n",
       "      <td>Santa Catarina</td>\n",
       "      <td>Santa_Catarina</td>\n",
       "      <td>-27.230032</td>\n",
       "      <td>-52.030013</td>\n",
       "      <td>88000</td>\n",
       "      <td>89999</td>\n",
       "      <td>NaN</td>\n",
       "      <td>NaN</td>\n",
       "      <td>675</td>\n",
       "    </tr>\n",
       "    <tr>\n",
       "      <th>24</th>\n",
       "      <td>SP</td>\n",
       "      <td>Sao Paulo</td>\n",
       "      <td>São_Paulo</td>\n",
       "      <td>-23.652834</td>\n",
       "      <td>-46.527817</td>\n",
       "      <td>1000</td>\n",
       "      <td>9999</td>\n",
       "      <td>11000.0</td>\n",
       "      <td>19999.0</td>\n",
       "      <td>0</td>\n",
       "    </tr>\n",
       "    <tr>\n",
       "      <th>25</th>\n",
       "      <td>SE</td>\n",
       "      <td>Sergipe</td>\n",
       "      <td>Sergipe</td>\n",
       "      <td>-11.269611</td>\n",
       "      <td>-37.450024</td>\n",
       "      <td>49000</td>\n",
       "      <td>49999</td>\n",
       "      <td>NaN</td>\n",
       "      <td>NaN</td>\n",
       "      <td>1686</td>\n",
       "    </tr>\n",
       "    <tr>\n",
       "      <th>26</th>\n",
       "      <td>TO</td>\n",
       "      <td>Tocantins</td>\n",
       "      <td>Tocantins</td>\n",
       "      <td>-6.319577</td>\n",
       "      <td>-47.419984</td>\n",
       "      <td>77000</td>\n",
       "      <td>77999</td>\n",
       "      <td>NaN</td>\n",
       "      <td>NaN</td>\n",
       "      <td>1939</td>\n",
       "    </tr>\n",
       "  </tbody>\n",
       "</table>\n",
       "</div>"
      ],
      "text/plain": [
       "    id                 name        name_mapchart        lat        lon  \\\n",
       "0   AC                 Acre                 Acre  -9.070003 -68.669979   \n",
       "1   AL              Alagoas              Alagoas  -9.480004 -35.839968   \n",
       "2   AP                Amapa                Amapá  -0.039598 -51.179987   \n",
       "3   AM             Amazonas             Amazonas  -3.289581 -60.619980   \n",
       "4   BA                Bahia                Bahia -16.280002 -39.029980   \n",
       "5   CE                Ceara                Ceará  -2.899992 -40.850024   \n",
       "6   DF     Distrito Federal     Distrito_Federal -15.783340 -47.916052   \n",
       "7   ES       Espirito Santo       Espírito_Santo -20.850008 -41.129981   \n",
       "8   GO                Goias                Goiás -17.730043 -49.109985   \n",
       "9   MA             Maranhao             Maranhão  -5.809996 -46.149984   \n",
       "10  MT          Mato Grosso          Mato_Grosso -15.650015 -56.140021   \n",
       "11  MS   Mato Grosso Do Sul   Mato_Grosso_do_Sul -22.530009 -55.729968   \n",
       "12  MG         Minas Gerais         Minas_Gerais -18.780005 -42.950025   \n",
       "13  PA                 Para                 Pará  -1.190019 -47.179999   \n",
       "14  PB              Paraiba              Paraíba  -7.019586 -37.290008   \n",
       "15  PR               Parana               Paraná -24.089965 -54.269980   \n",
       "16  PE           Pernambuco           Pernambuco  -8.110010 -35.020044   \n",
       "17  PI                Piaui                Piauí  -4.820030 -42.180020   \n",
       "18  RJ       Rio De Janeiro       Rio_de_Janeiro -22.560033 -44.169950   \n",
       "19  RN  Rio Grande Do Norte  Rio_Grande_do_Norte  -5.650005 -37.800003   \n",
       "20  RS    Rio Grande Do Sul    Rio_Grande_do_Sul -30.880041 -55.530006   \n",
       "21  RO             Rondonia             Rondônia -11.640027 -61.209995   \n",
       "22  RR              Roraima              Roraima   1.816232 -61.127675   \n",
       "23  SC       Santa Catarina       Santa_Catarina -27.230032 -52.030013   \n",
       "24  SP            Sao Paulo            São_Paulo -23.652834 -46.527817   \n",
       "25  SE              Sergipe              Sergipe -11.269611 -37.450024   \n",
       "26  TO            Tocantins            Tocantins  -6.319577 -47.419984   \n",
       "\n",
       "    zipfrom1  zipto1  zipfrom2   zipto2  distance  \n",
       "0      69900   69999       NaN      NaN      2862  \n",
       "1      57000   57999       NaN      NaN      2864  \n",
       "2      68900   68999       NaN      NaN      2682  \n",
       "3      69000   69299   69400.0  69899.0      2731  \n",
       "4      40000   48999       NaN      NaN      1140  \n",
       "5      60000   63999       NaN      NaN      2396  \n",
       "6      70000   72799   73000.0  73699.0       896  \n",
       "7      29000   29999       NaN      NaN       641  \n",
       "8      72800   72999   73700.0  76799.0       719  \n",
       "9      65000   65999       NaN      NaN      1994  \n",
       "10     78000   78899       NaN      NaN      1349  \n",
       "11     79000   79999       NaN      NaN       950  \n",
       "12     30000   39999       NaN      NaN       664  \n",
       "13     66000   68899       NaN      NaN      2508  \n",
       "14     58000   58999       NaN      NaN      2104  \n",
       "15     80000   87999       NaN      NaN       787  \n",
       "16     50000   56999       NaN      NaN      2126  \n",
       "17     64000   64999       NaN      NaN      2154  \n",
       "18     20000   28999       NaN      NaN       274  \n",
       "19     59000   59999       NaN      NaN      2217  \n",
       "20     90000   99999       NaN      NaN      1192  \n",
       "21     76800   76999   78900.0  78999.0      2053  \n",
       "22     69300   69399       NaN      NaN      3250  \n",
       "23     88000   89999       NaN      NaN       675  \n",
       "24      1000    9999   11000.0  19999.0         0  \n",
       "25     49000   49999       NaN      NaN      1686  \n",
       "26     77000   77999       NaN      NaN      1939  "
      ]
     },
     "execution_count": 25,
     "metadata": {},
     "output_type": "execute_result"
    }
   ],
   "source": [
    "brazil_states"
   ]
  },
  {
   "cell_type": "markdown",
   "metadata": {
    "colab_type": "text",
    "id": "zDd_lzyebKJF"
   },
   "source": [
    "## 3. Análisis de los zipcodes, quantity y service\n",
    "\n",
    "En esta sección intentaremos responder las siguientes preguntas (**Pregunta n°2** ):\n",
    "\n",
    "¿Cómo es la distribución de zipcodes de origen y destino de un envío? ¿Está concentrada en algún valor? ¿Y para el resto de las variables?"
   ]
  },
  {
   "cell_type": "markdown",
   "metadata": {
    "colab_type": "text",
    "id": "DpMQdG1cCrX6"
   },
   "source": [
    "A continuación mostramos los histogramas de las variables **sender_zipcode** y **receiver_zipcode**  respectivamente. Consideramos que dichos histogramas en sí no nos brindan demasiada información sobre todo en **receiver_zipcode** donde estamos considerando casi 19.000 códigos distintos lo cual puede apreciarse en la variabilidad de su histograma (no muestra ninguna tendencia marcada). \n",
    "\n",
    "Por otro lado, dado que todos los envíos salen de San Pablo no tiene sentido hacer un estudio por estados en la variable **sender_zipcode** pero quizás si lo tiene en el caso de **receiver_zipcode** donde tenemos más margen para investigar pues los envíos llegan a diferentes estados. Las diferentes concentraciones de este histograma quizás podrían estar relacionadas con el envío a  estados diferentes (en el gráfico hay tres picos marcados)."
   ]
  },
  {
   "cell_type": "code",
   "execution_count": 26,
   "metadata": {
    "colab": {
     "base_uri": "https://localhost:8080/",
     "height": 448
    },
    "colab_type": "code",
    "id": "_SrCaXMXa4jr",
    "outputId": "deef3d7a-2d8e-41b8-d1ad-f50288b4dc9e"
   },
   "outputs": [
    {
     "data": {
      "image/png": "[encoded data removed]",
      "text/plain": [
       "<Figure size 1800x1080 with 2 Axes>"
      ]
     },
     "metadata": {
      "needs_background": "light"
     },
     "output_type": "display_data"
    }
   ],
   "source": [
    "plt.figure(figsize=(25,15))\n",
    "plt.subplot2grid((2,3),(0,0))\n",
    "sns.distplot(dataset['sender_zipcode'].dropna(), bins=25)\n",
    "plt.title('Distribución de los zipcodes de origen')\n",
    "plt.subplot2grid((2,3),(0,1))\n",
    "sns.distplot(dataset['receiver_zipcode'].dropna(), bins=50)\n",
    "plt.title('Distribución de los zipcodes de destino')\n",
    "\n",
    "sns.despine()\n"
   ]
  },
  {
   "cell_type": "code",
   "execution_count": 27,
   "metadata": {
    "colab": {
     "base_uri": "https://localhost:8080/",
     "height": 33
    },
    "colab_type": "code",
    "id": "gDxqb4zfJ_5q",
    "outputId": "db4973bb-340f-4067-f838-760c6bd32e10"
   },
   "outputs": [
    {
     "data": {
      "text/plain": [
       "18909"
      ]
     },
     "execution_count": 27,
     "metadata": {},
     "output_type": "execute_result"
    }
   ],
   "source": [
    "dataset['receiver_zipcode'].unique().size # Cantidad de códigos postales distintos de la variable receiver_zipcode"
   ]
  },
  {
   "cell_type": "code",
   "execution_count": 28,
   "metadata": {
    "colab": {
     "base_uri": "https://localhost:8080/",
     "height": 33
    },
    "colab_type": "code",
    "id": "8m4tJVPaNGTN",
    "outputId": "771f100a-b14c-4917-8a8e-69b4f0972e73"
   },
   "outputs": [
    {
     "data": {
      "text/plain": [
       "5450"
      ]
     },
     "execution_count": 28,
     "metadata": {},
     "output_type": "execute_result"
    }
   ],
   "source": [
    "dataset['sender_zipcode'].unique().size #Cantidad de códigos postales distintos de la variable sender_zipcode"
   ]
  },
  {
   "cell_type": "code",
   "execution_count": 29,
   "metadata": {
    "colab": {
     "base_uri": "https://localhost:8080/",
     "height": 33
    },
    "colab_type": "code",
    "id": "eDQzOvcYz-uw",
    "outputId": "582baabb-bfb7-44b1-cacf-659a98c8511b"
   },
   "outputs": [
    {
     "data": {
      "text/plain": [
       "27"
      ]
     },
     "execution_count": 29,
     "metadata": {},
     "output_type": "execute_result"
    }
   ],
   "source": [
    "dataset['receiver_state'].unique().size"
   ]
  },
  {
   "cell_type": "markdown",
   "metadata": {
    "colab_type": "text",
    "id": "2SzX2cxwk6Nb"
   },
   "source": [
    "Los códigos postales de Brasil tienen 8 números, con la forma:\n",
    "\n",
    "abcde-fgh\n",
    "\n",
    "Donde, por lo general:\n",
    "\n",
    "* a: Región\n",
    "* b: Sub Región\n",
    "* c: Sector\n",
    "* d: Sub Sector\n",
    "* e: Sub Sector del divisor\n",
    "* fgh: Zona de entrega\n",
    "\n",
    "Sabiendo que los datos fueron modificados para que tengan una longitud de 5 dígitos, y con un pequeño análisis de los códigos postales de Brasil, sabemos que los 5 dígitos con los que contamos en el dataset corresponden a los dígitos que no incluyen la determinación de la zona de entrega. Con lo cual, concluimos que a priori no estaríamos perdiendo información que consideremos de valor para el análisis de la problemática. O en todo caso, podemos contar con que la información de CP de envío y destino es lo suficientemente precisa para que no afecte el análisis que queremos realizar."
   ]
  },
  {
   "cell_type": "code",
   "execution_count": 30,
   "metadata": {
    "colab": {
     "base_uri": "https://localhost:8080/",
     "height": 372
    },
    "colab_type": "code",
    "id": "Ebajv7Pk3B7y",
    "outputId": "d059d45f-cbba-44c7-aef5-65fb548b76ad"
   },
   "outputs": [
    {
     "data": {
      "image/png": "[encoded data removed]",
      "text/plain": [
       "<Figure size 1800x1080 with 2 Axes>"
      ]
     },
     "metadata": {
      "needs_background": "light"
     },
     "output_type": "display_data"
    }
   ],
   "source": [
    "plt.figure(figsize=(25,15))\n",
    "plt.subplot2grid((2,3),(0,0))\n",
    "ax = dataset['receiver_state'].value_counts(normalize=False,\n",
    "                                       dropna=True,\n",
    "                                       sort=True).plot(kind='bar',\n",
    "                                                       grid=True)\n",
    "plt.title('Cantidad de envíos por estado')\n",
    "ax.set(xlabel=\"Estados de destino\",ylabel=\"Cantidad de envíos\")\n",
    "plt.xlim(-0.5,27)\n",
    "\n",
    "plt.subplot2grid((2,3),(0,1))\n",
    "ax = dataset['receiver_state'].value_counts(normalize=True,\n",
    "                                       dropna=True,\n",
    "                                       sort=True).plot(kind='bar',\n",
    "                                                       grid=True)\n",
    "plt.title('Distribución de envíos por estado')\n",
    "ax.set(xlabel=\"Estados de destino\",ylabel=\"% de envíos\")\n",
    "plt.xlim(-0.5,27)\n",
    "sns.despine()\n",
    "sns.despine()"
   ]
  },
  {
   "cell_type": "markdown",
   "metadata": {
    "colab_type": "text",
    "id": "t-srLqOx8cAI"
   },
   "source": [
    "El gráfico de barras anterior muestra, como habíamos notado en el primer punto de este trabajo, que el estado de San Pablo es el que recibe más envíos, seguido por Minas Gerais y Río de Janeiro. Probablemente los picos que observamos en el histograma de la variable **receiver_zipcode** sean estos tres estados."
   ]
  },
  {
   "cell_type": "markdown",
   "metadata": {
    "colab_type": "text",
    "id": "o7UsBm_bDs4p"
   },
   "source": [
    "A continuación mostramos la distribución de las variables **quantity** y **service**."
   ]
  },
  {
   "cell_type": "code",
   "execution_count": 31,
   "metadata": {
    "colab": {
     "base_uri": "https://localhost:8080/",
     "height": 313
    },
    "colab_type": "code",
    "id": "VmIL1WUOBGeE",
    "outputId": "23dcb99f-74c8-4cfa-a908-60e7f6a88a54"
   },
   "outputs": [
    {
     "data": {
      "image/png": "[encoded data removed]",
      "text/plain": [
       "<Figure size 1656x720 with 2 Axes>"
      ]
     },
     "metadata": {
      "needs_background": "light"
     },
     "output_type": "display_data"
    }
   ],
   "source": [
    "plt.figure(figsize=(23,10))\n",
    "\n",
    "plt.subplot2grid((2,4),(0,0))\n",
    "dataset['quantity'].value_counts(normalize=True).plot(kind='bar')\n",
    "plt.title('Distribución de la variable quantity')\n",
    "\n",
    "plt.subplot2grid((2,4),(0,1))\n",
    "dataset['service'].value_counts(normalize=True,sort=True).plot(kind='bar')\n",
    "plt.title('Distribución de la variable service')\n",
    "sns.despine()"
   ]
  },
  {
   "cell_type": "markdown",
   "metadata": {
    "colab_type": "text",
    "id": "ktL5sA3mKz-d"
   },
   "source": [
    "**Quantity**\n",
    "\n",
    "* El 80% de los envíos contiene un único producto.\n",
    "* El 20% restante tiene como máxima la cantidad 2 y muy por debajo se encuentran las cantidades 3, 4 y 5.\n",
    "\n",
    "Es muy poco frecuente en el envío de más de un producto. Sobre esta variable no se puede suponer demasiado ya que si los múltiples productos son enviados en un mismo paquete, la información de quantity podría ser despreciable. Sería interesante verificar que no tiene correlación con el resto de las variables.\n",
    "\n",
    "**Service**\n",
    "\n",
    "* Los servicios de correo están concentrados en el 0 y 1, que abarcan el 70% de los envíos.\n",
    "\n",
    "Sería interesante verificar si la mayoría de envíos en los servicios 0 y 1 tienen también un menor tiempo de entrega ya que se puede suponer que podrían tener mayor y mejor cobertura. Por el contrario, se podría verificar si los envíos de los servicios minoritarios tienen un incremento de similares proporciones sobre sus tiempos de entrega. En este caso también resultaría de interés ver la correlación entre esta variable y el tiempo de envío. Si ésta correlación se valida, esta variable podría tener un alto contenido de información para predecir cuándo llegará un envío.\n",
    "\n",
    "A simple vista, se puede observar que tanto las variables de cantidad de paquetes en los envíos (quantity) como la de distribución de paquetes por correo (service) muestran una distribución que se asemeja a una exponencial (la mayor concentración se da para unos pocos valores)."
   ]
  },
  {
   "cell_type": "markdown",
   "metadata": {
    "colab_type": "text",
    "id": "9DpGRT-U9w4J"
   },
   "source": [
    "## 4. Análisis de Shipment Days\n",
    "\n",
    "En esta sección intentaremos responder a las siguientes preguntas (**Pregunta n° 3**):\n",
    "\n",
    "¿Es la distribución del número de días que demora un envío normal? ¿Adquiere significado la media y desviación estándar? ¿Qué tipo de estadísticos podrían ser relevantes en este caso? ¿Hay alguna otra distribución a la cual se asemeje más?\n"
   ]
  },
  {
   "cell_type": "code",
   "execution_count": 31,
   "metadata": {
    "colab": {
     "base_uri": "https://localhost:8080/",
     "height": 351
    },
    "colab_type": "code",
    "id": "7yKrBtB4_576",
    "outputId": "dca92e8d-e5be-42d9-9a2b-f67b321ea90d"
   },
   "outputs": [
    {
     "data": {
      "image/png": "[encoded data removed]",
      "text/plain": [
       "<Figure size 720x360 with 1 Axes>"
      ]
     },
     "metadata": {
      "needs_background": "light"
     },
     "output_type": "display_data"
    }
   ],
   "source": [
    "plt.figure(figsize=(10,5))\n",
    "sns.distplot(dataset['shipment_days'].dropna(), bins=50)\n",
    "plt.title('Distribución de la variable shipment_days')\n",
    "sns.despine()"
   ]
  },
  {
   "cell_type": "code",
   "execution_count": 32,
   "metadata": {
    "colab": {
     "base_uri": "https://localhost:8080/",
     "height": 300
    },
    "colab_type": "code",
    "id": "u1Hd82bADzUi",
    "outputId": "e0ec7fe6-e024-4855-dded-f363eb9ccc3e"
   },
   "outputs": [
    {
     "data": {
      "text/plain": [
       "count    496860.000000\n",
       "mean          5.398454\n",
       "std           4.973359\n",
       "min           0.000000\n",
       "0%            0.000000\n",
       "10%           1.000000\n",
       "20%           1.000000\n",
       "30%           2.000000\n",
       "40%           3.000000\n",
       "50%           4.000000\n",
       "60%           5.000000\n",
       "70%           7.000000\n",
       "80%           9.000000\n",
       "90%          13.000000\n",
       "100%         90.000000\n",
       "max          90.000000\n",
       "Name: shipment_days, dtype: float64"
      ]
     },
     "execution_count": 32,
     "metadata": {},
     "output_type": "execute_result"
    }
   ],
   "source": [
    "dataset['shipment_days'].describe(percentiles=[x/10 for x in range(11)])"
   ]
  },
  {
   "cell_type": "markdown",
   "metadata": {
    "colab_type": "text",
    "id": "lJt6O84FAdbI"
   },
   "source": [
    "* El 60% de los envíos llega en 5 días o menos\n",
    "* El 90% de los envíos llega en 13 días o menos"
   ]
  },
  {
   "cell_type": "markdown",
   "metadata": {
    "colab_type": "text",
    "id": "sPLCrPTuG1Oi"
   },
   "source": [
    "La variable **shipment_days** no muestra una distribución normal de acuerdo al histograma visto anteriormente. Esta variable podría seguir la forma de una distribución de Poisson. La línea continua que se observa representa la función de distribución que mejor se aproxima a nuestros datos (los cuales están divididos en bines). De acuerdo a los contextos esta función puede resultar más o menos útil. En nuestro caso solo queremos saber que forma tienen nuestros datos, no encontrar dicha función."
   ]
  },
  {
   "cell_type": "markdown",
   "metadata": {
    "colab_type": "text",
    "id": "XpZYfuqg-LoY"
   },
   "source": [
    "## 5. Análisis de probabilidad de envíos a Minas Gerais\n",
    "\n",
    "En esta sección intentaremos responder los siguientes interrogantes: (**Pregunta n°4**)\n",
    "\n",
    "¿Cuál es la probabilidad de que el destinatario de un envío sea del estado de Minas Gerais (MG)? ¿Cuál es la probabilidad de que dicho envío (que llega a Minas Gerais) sea realizado mediante el servicio 1? \n"
   ]
  },
  {
   "cell_type": "markdown",
   "metadata": {
    "colab_type": "text",
    "id": "PXVe_jO7vpoM"
   },
   "source": [
    "A continuación calcularemos los porcentajes de envíos llegan a cada estado."
   ]
  },
  {
   "cell_type": "code",
   "execution_count": 33,
   "metadata": {
    "colab": {
     "base_uri": "https://localhost:8080/",
     "height": 483
    },
    "colab_type": "code",
    "id": "fpxc6167zz7V",
    "outputId": "fb21d399-918f-45de-a5d1-884788f5a35d"
   },
   "outputs": [
    {
     "data": {
      "text/plain": [
       "SP    0.378912\n",
       "MG    0.122364\n",
       "RJ    0.085907\n",
       "RS    0.065316\n",
       "PR    0.058018\n",
       "SC    0.047746\n",
       "BA    0.042459\n",
       "GO    0.026637\n",
       "PE    0.024103\n",
       "DF    0.021801\n",
       "ES    0.020243\n",
       "PA    0.013048\n",
       "MT    0.012953\n",
       "MS    0.011907\n",
       "CE    0.010510\n",
       "PB    0.008940\n",
       "RN    0.008113\n",
       "MA    0.007519\n",
       "AL    0.006006\n",
       "PI    0.005497\n",
       "SE    0.005168\n",
       "RO    0.004508\n",
       "TO    0.004245\n",
       "AM    0.003931\n",
       "AC    0.001683\n",
       "AP    0.001582\n",
       "RR    0.000884\n",
       "Name: receiver_state, dtype: float64"
      ]
     },
     "execution_count": 33,
     "metadata": {},
     "output_type": "execute_result"
    }
   ],
   "source": [
    "dataset['receiver_state'].value_counts(normalize=True)"
   ]
  },
  {
   "cell_type": "markdown",
   "metadata": {
    "colab_type": "text",
    "id": "EjPoYL9E46SA"
   },
   "source": [
    "La probabilidad de que un envío tenga como destino al estado de Mina Gerais es el **12.23%** ."
   ]
  },
  {
   "cell_type": "code",
   "execution_count": 34,
   "metadata": {
    "colab": {
     "base_uri": "https://localhost:8080/",
     "height": 183
    },
    "colab_type": "code",
    "id": "fG7jWkZH8syk",
    "outputId": "8c613b9b-b75d-4c96-dfce-da901fb0ad97"
   },
   "outputs": [
    {
     "data": {
      "text/plain": [
       "1     0.531580\n",
       "0     0.163640\n",
       "2     0.126320\n",
       "4     0.119182\n",
       "6     0.034442\n",
       "3     0.022303\n",
       "9     0.001431\n",
       "7     0.001069\n",
       "10    0.000033\n",
       "Name: service, dtype: float64"
      ]
     },
     "execution_count": 34,
     "metadata": {},
     "output_type": "execute_result"
    }
   ],
   "source": [
    "dataset[dataset.receiver_state == 'MG']['service'].value_counts(normalize=True)"
   ]
  },
  {
   "cell_type": "markdown",
   "metadata": {
    "colab_type": "text",
    "id": "ub_U6bKB9XDh"
   },
   "source": [
    "La probabilidad de que un envío a Minas Gerais sea realizado con el servicio de correo 1 es **53.15%**.\n",
    "\n"
   ]
  },
  {
   "cell_type": "markdown",
   "metadata": {
    "colab_type": "text",
    "id": "0QMJ625t-OWy"
   },
   "source": [
    "## 6. Análisis de probabilidad de envíos por tipo\n",
    "\n",
    "En esta sección intentaremos responder las siguientes preguntas:\n",
    "\n",
    "¿Cuál es la probabilidad de que un envío sea realizado con el método super express? ¿Y la de que un envío realizado con dicho método llegue al estado de Minas Gerais? (**Pregunta n°5**)"
   ]
  },
  {
   "cell_type": "code",
   "execution_count": 35,
   "metadata": {
    "colab": {
     "base_uri": "https://localhost:8080/",
     "height": 83
    },
    "colab_type": "code",
    "id": "F_EPrMGiicwK",
    "outputId": "41e470ed-22dc-4091-eb3a-c3d3f2683f4c"
   },
   "outputs": [
    {
     "data": {
      "text/plain": [
       "standard    0.528763\n",
       "express     0.451091\n",
       "super       0.020147\n",
       "Name: shipment_type, dtype: float64"
      ]
     },
     "execution_count": 35,
     "metadata": {},
     "output_type": "execute_result"
    }
   ],
   "source": [
    "dataset['shipment_type'].value_counts(normalize=True)"
   ]
  },
  {
   "cell_type": "markdown",
   "metadata": {
    "colab_type": "text",
    "id": "5mNvlcjBis8B"
   },
   "source": [
    "La probabilidad de que un envío sea realizado con el método súper express es **2%**.\n",
    "\n",
    "Este método de envío es el menos probable de todos, los otros dos se reparten el total prácticamente en partes iguales."
   ]
  },
  {
   "cell_type": "code",
   "execution_count": 36,
   "metadata": {
    "colab": {
     "base_uri": "https://localhost:8080/",
     "height": 216
    },
    "colab_type": "code",
    "id": "_KDIW-bOT6UP",
    "outputId": "419fa2d9-a1c3-4f45-deac-7eb2933f6daf"
   },
   "outputs": [
    {
     "data": {
      "text/plain": [
       "SP    0.679720\n",
       "RJ    0.088312\n",
       "MG    0.065534\n",
       "PR    0.035265\n",
       "SC    0.034466\n",
       "RS    0.031568\n",
       "DF    0.020180\n",
       "ES    0.017682\n",
       "GO    0.014685\n",
       "MT    0.006394\n",
       "MS    0.006194\n",
       "Name: receiver_state, dtype: float64"
      ]
     },
     "execution_count": 36,
     "metadata": {},
     "output_type": "execute_result"
    }
   ],
   "source": [
    "dataset[dataset.shipment_type == 'super']['receiver_state'].value_counts(normalize=True)\n"
   ]
  },
  {
   "cell_type": "markdown",
   "metadata": {
    "colab_type": "text",
    "id": "OxtpI43BjFL-"
   },
   "source": [
    "La probabilidad de que un envío, realizado con el método súper express, llegue a Minas Gerais es 6.5%.\n",
    "\n",
    "Analizando las probabilidades de cada estado de ser el destino de los envíos realizado con el método súper express, vemos que MG se ubica en el 3º lugar, mientras que SP ocupa el 1º lugar (67%)."
   ]
  },
  {
   "cell_type": "code",
   "execution_count": 37,
   "metadata": {
    "colab": {
     "base_uri": "https://localhost:8080/",
     "height": 950
    },
    "colab_type": "code",
    "id": "8VjV6CpaouVt",
    "outputId": "37a25468-0f6a-4e08-8623-44756bf3d889"
   },
   "outputs": [
    {
     "data": {
      "text/plain": [
       "shipment_type  receiver_state\n",
       "express        SP                0.665469\n",
       "               RJ                0.080936\n",
       "               MG                0.058752\n",
       "               RS                0.036452\n",
       "               PR                0.028234\n",
       "               SC                0.024044\n",
       "               DF                0.022050\n",
       "               BA                0.018065\n",
       "               GO                0.014880\n",
       "               ES                0.013033\n",
       "               MS                0.007393\n",
       "               PE                0.005283\n",
       "               PA                0.003784\n",
       "               MT                0.003373\n",
       "               CE                0.003016\n",
       "               AM                0.002646\n",
       "               RN                0.001874\n",
       "               AL                0.001865\n",
       "               PB                0.001794\n",
       "               MA                0.001629\n",
       "               SE                0.001267\n",
       "               PI                0.001062\n",
       "               RO                0.000888\n",
       "               AP                0.000660\n",
       "               RR                0.000616\n",
       "               TO                0.000593\n",
       "               AC                0.000344\n",
       "standard       MG                0.178798\n",
       "               SP                0.122986\n",
       "               RS                0.091226\n",
       "               RJ                0.090058\n",
       "               PR                0.084295\n",
       "               SC                0.068472\n",
       "               BA                0.064886\n",
       "               PE                0.041078\n",
       "               GO                0.037123\n",
       "               ES                0.026492\n",
       "               DF                0.021650\n",
       "               PA                0.021449\n",
       "               MT                0.021376\n",
       "               CE                0.017304\n",
       "               MS                0.015975\n",
       "               PB                0.015378\n",
       "               RN                0.013745\n",
       "               MA                0.012831\n",
       "               AL                0.009767\n",
       "               PI                0.009489\n",
       "               SE                0.008694\n",
       "               RO                0.007769\n",
       "               TO                0.007521\n",
       "               AM                0.005177\n",
       "               AC                0.002889\n",
       "               AP                0.002428\n",
       "               RR                0.001146\n",
       "Name: receiver_state, dtype: float64"
      ]
     },
     "execution_count": 37,
     "metadata": {},
     "output_type": "execute_result"
    }
   ],
   "source": [
    "dataset[dataset['shipment_type']!='super'].groupby('shipment_type')['receiver_state'].value_counts(normalize=True)"
   ]
  },
  {
   "cell_type": "markdown",
   "metadata": {
    "colab_type": "text",
    "id": "Z9TlmF7yo8_3"
   },
   "source": [
    "Extendiendo el análisis de probabilidades, de que los estados sean los destinos de los envíos para los otros métodos (standard y express), se puede ver que:\n",
    "* Para el método standard, MG tiene la mayor probabilidad de ser el destino de los envíos (17.8%). \n",
    "* Para el método express, SP sigue ocupando el 1º lugar (66%) y MG el 3º (5.8%), tal como sucedió en el método súper."
   ]
  },
  {
   "cell_type": "markdown",
   "metadata": {
    "colab_type": "text",
    "id": "T-HF6nug-WeP"
   },
   "source": [
    "## 7. Análisis de correlación entre variables\n",
    "\n",
    "Intentaremos responder las siguientes preguntas: (**Pregunta n°6**)\n",
    "\n",
    "¿Existe correlación entre el número de días que tarda un envío y el destinatario del mismo? ¿Y entre el número de días y la cantidad de productos en un paquete? ¿Con qué otra variable está correlacionado el número de días que tarda un envío? Analizar la independencia de las variables. "
   ]
  },
  {
   "cell_type": "markdown",
   "metadata": {
    "colab_type": "text",
    "id": "T0PRzFg_SL33"
   },
   "source": [
    "De acuerdo a la información que tenemos de los códigos postales, quizá resulte interesante hacer un análisis para una zona granularmente más chica que un estado. Para ello, vamos a generar una nueva columna en el dataset con los primeros 2 dígitos del código postal (subregión):"
   ]
  },
  {
   "cell_type": "code",
   "execution_count": 38,
   "metadata": {
    "colab": {},
    "colab_type": "code",
    "id": "f5P3Bk8ofQbn"
   },
   "outputs": [],
   "source": [
    "def zipcode_to_subregion(zc):\n",
    "    \"\"\"Takes the first two digit from a number.\n",
    "    For a brazilian zipcode consisting of 5 digit,\n",
    "    the first two represents subregion\n",
    "    \"\"\"\n",
    "\n",
    "    str_zc = str(zc)[:3]\n",
    "    return int(str_zc)\n",
    "\n",
    "\n",
    "dataset['receiver_subregion'] = dataset['receiver_zipcode'].apply(zipcode_to_subregion) "
   ]
  },
  {
   "cell_type": "code",
   "execution_count": 39,
   "metadata": {
    "colab": {
     "base_uri": "https://localhost:8080/",
     "height": 565
    },
    "colab_type": "code",
    "id": "SLE3r6II-Hvg",
    "outputId": "ae023399-5d9b-4aa9-d5db-7325b14ad5ec"
   },
   "outputs": [
    {
     "data": {
      "text/plain": [
       "<Figure size 720x432 with 0 Axes>"
      ]
     },
     "metadata": {},
     "output_type": "display_data"
    },
    {
     "data": {
      "image/png": "[encoded data removed]",
      "text/plain": [
       "<Figure size 540x540 with 12 Axes>"
      ]
     },
     "metadata": {
      "needs_background": "light"
     },
     "output_type": "display_data"
    }
   ],
   "source": [
    "plt.figure(figsize=(10, 6))\n",
    "\n",
    "sns.pairplot(\n",
    "    data=dataset,\n",
    "    vars=['shipment_days', 'receiver_subregion', 'quantity'],\n",
    "    markers='+')\n",
    "plt.title('')\n",
    "sns.despine()"
   ]
  },
  {
   "cell_type": "markdown",
   "metadata": {
    "colab_type": "text",
    "id": "cjtcHzg_ObDP"
   },
   "source": [
    "De los gráficos anteriores no se pueden sacar conclusiones sobre la existencia de posibles correlaciones. Por lo tanto, se seguirá explorando con otras opciones."
   ]
  },
  {
   "cell_type": "code",
   "execution_count": 40,
   "metadata": {
    "colab": {
     "base_uri": "https://localhost:8080/",
     "height": 474
    },
    "colab_type": "code",
    "id": "8mnXpbda-l8V",
    "outputId": "d7a4d0be-589f-43c4-d6c8-3b7074aad968"
   },
   "outputs": [
    {
     "data": {
      "text/plain": [
       "<seaborn.axisgrid.JointGrid at 0x1a1a0ba160>"
      ]
     },
     "execution_count": 40,
     "metadata": {},
     "output_type": "execute_result"
    },
    {
     "data": {
      "text/plain": [
       "<Figure size 720x432 with 0 Axes>"
      ]
     },
     "metadata": {},
     "output_type": "display_data"
    },
    {
     "data": {
      "image/png": "[encoded data removed]",
      "text/plain": [
       "<Figure size 432x432 with 3 Axes>"
      ]
     },
     "metadata": {
      "needs_background": "light"
     },
     "output_type": "display_data"
    }
   ],
   "source": [
    "plt.figure(figsize=(10,6))\n",
    "sns.jointplot(data=dataset,\n",
    "                  x='shipment_days', y='receiver_subregion', kind='kde')\n"
   ]
  },
  {
   "cell_type": "code",
   "execution_count": 41,
   "metadata": {
    "colab": {
     "base_uri": "https://localhost:8080/",
     "height": 66
    },
    "colab_type": "code",
    "id": "_wP6MeURQB72",
    "outputId": "530da22c-001a-4c35-f65a-335b659ad5b4"
   },
   "outputs": [
    {
     "data": {
      "text/plain": [
       "SP    0.993635\n",
       "RJ    0.006365\n",
       "Name: receiver_state, dtype: float64"
      ]
     },
     "execution_count": 41,
     "metadata": {},
     "output_type": "execute_result"
    }
   ],
   "source": [
    "minor_shipment_days = dataset['receiver_subregion'].between(100,200,inclusive=True)\n",
    "dataset[minor_shipment_days]['receiver_state'].value_counts(normalize=True)"
   ]
  },
  {
   "cell_type": "markdown",
   "metadata": {
    "colab_type": "text",
    "id": "MK5-YcYWPBX6"
   },
   "source": [
    "En el gráfico anterior se puede ver que para los valores de **receiver_subregion** entre 100 y 200 se tiene una alta concentración de valores bajos de **shipment_days**. Al consultar los estados asociados a dichos valores de **receiver_subregion**, encontramos que la mayoría son de SP, por lo que era de esperar que tuviera tiempos de envío bajos."
   ]
  },
  {
   "cell_type": "code",
   "execution_count": 42,
   "metadata": {
    "colab": {
     "base_uri": "https://localhost:8080/",
     "height": 512
    },
    "colab_type": "code",
    "id": "fSq-tsN-ZNBm",
    "outputId": "3f44927d-238a-4d58-a1c8-519bbedfff87"
   },
   "outputs": [
    {
     "data": {
      "image/png": "[encoded data removed]",
      "text/plain": [
       "<Figure size 1080x432 with 2 Axes>"
      ]
     },
     "metadata": {
      "needs_background": "light"
     },
     "output_type": "display_data"
    }
   ],
   "source": [
    "plt.figure(figsize=(15,6))\n",
    "data = dataset[['quantity', 'shipment_days']]\n",
    "data = data.pivot_table(index='quantity', columns='shipment_days', aggfunc=len, fill_value=0)\n",
    "sns.heatmap(data,cmap='Greens')\n",
    "sns.despine()"
   ]
  },
  {
   "cell_type": "markdown",
   "metadata": {
    "colab_type": "text",
    "id": "8DR5EaiwSM_3"
   },
   "source": [
    "La interpretación de este gráfico puede darse a confusión, puesto que la cantidad de envíos sobre el total de envíos es un factor importante para graficar. De todas maneras, se puede observar que, de los envíos con menor tiempo, la mayoría tenían valores de quantity 1."
   ]
  },
  {
   "cell_type": "code",
   "execution_count": 43,
   "metadata": {
    "colab": {
     "base_uri": "https://localhost:8080/",
     "height": 512
    },
    "colab_type": "code",
    "id": "YsBuNPsNX9oW",
    "outputId": "6cb935f4-35d6-4894-b241-f50dd2f68c07"
   },
   "outputs": [
    {
     "data": {
      "image/png": "[encoded data removed]",
      "text/plain": [
       "<Figure size 1080x576 with 2 Axes>"
      ]
     },
     "metadata": {
      "needs_background": "light"
     },
     "output_type": "display_data"
    }
   ],
   "source": [
    "plt.figure(figsize=(15,8))\n",
    "data = dataset[['receiver_state', 'shipment_days']]\n",
    "data = data.pivot_table(index='receiver_state', columns='shipment_days', aggfunc=len, fill_value=0)\n",
    "sns.heatmap(data,cmap='Greens')\n",
    "sns.despine()"
   ]
  },
  {
   "cell_type": "markdown",
   "metadata": {
    "colab_type": "text",
    "id": "vtb7cM0GS6Nx"
   },
   "source": [
    "La interpretación de este gráfico puede darse a confusión, puesto que el peso de la cantidad de envíos sobre el total de envíos es un factor importante para graficar. De todas maneras, se puede observar que son muy frecuentes los envíos que demoran un día y se dirigen hacia SP."
   ]
  },
  {
   "cell_type": "markdown",
   "metadata": {
    "colab_type": "text",
    "id": "QH0MMIR3-sC-"
   },
   "source": [
    "## Análisis de distancias\n",
    "\n",
    "En esta sección analizaremos las distancias teniendo en cuenta la siguiente consigna (**Pregunta n°7**):\n",
    "\n",
    "Además del cálculo de los estadísticos correspondientes, sería interesante observar un gráfico que muestre la información estadística (por ejemplo, la media) y la presencia de outliers del número de días que tardan los envíos que se realizan a los diferentes estados de Brasil. ¿Cuál es el estado que, en promedio, tiene una mayor demora? ¿Cuál es la distancia geográfica de San Pablo a dicho estado? ¿Y al de menor? (**Pregunta n°8**).\n",
    "\n",
    "Vamos a considerar la distancia (expresada en Km.) entre San Pablo y otro estado, como la distancia entre las capitales de los estados, tal como lo generamos y calculamos en la información de estados provista:\n",
    "\n"
   ]
  },
  {
   "cell_type": "code",
   "execution_count": 44,
   "metadata": {
    "colab": {
     "base_uri": "https://localhost:8080/",
     "height": 857
    },
    "colab_type": "code",
    "id": "_wyEMSHeACP3",
    "outputId": "1afe9939-4770-4bd5-b3a8-4f38b0dfecb4"
   },
   "outputs": [
    {
     "data": {
      "text/html": [
       "<div>\n",
       "<style scoped>\n",
       "    .dataframe tbody tr th:only-of-type {\n",
       "        vertical-align: middle;\n",
       "    }\n",
       "\n",
       "    .dataframe tbody tr th {\n",
       "        vertical-align: top;\n",
       "    }\n",
       "\n",
       "    .dataframe thead th {\n",
       "        text-align: right;\n",
       "    }\n",
       "</style>\n",
       "<table border=\"1\" class=\"dataframe\">\n",
       "  <thead>\n",
       "    <tr style=\"text-align: right;\">\n",
       "      <th></th>\n",
       "      <th>id</th>\n",
       "      <th>name</th>\n",
       "      <th>distance</th>\n",
       "    </tr>\n",
       "  </thead>\n",
       "  <tbody>\n",
       "    <tr>\n",
       "      <th>24</th>\n",
       "      <td>SP</td>\n",
       "      <td>Sao Paulo</td>\n",
       "      <td>0</td>\n",
       "    </tr>\n",
       "    <tr>\n",
       "      <th>18</th>\n",
       "      <td>RJ</td>\n",
       "      <td>Rio De Janeiro</td>\n",
       "      <td>274</td>\n",
       "    </tr>\n",
       "    <tr>\n",
       "      <th>7</th>\n",
       "      <td>ES</td>\n",
       "      <td>Espirito Santo</td>\n",
       "      <td>641</td>\n",
       "    </tr>\n",
       "    <tr>\n",
       "      <th>12</th>\n",
       "      <td>MG</td>\n",
       "      <td>Minas Gerais</td>\n",
       "      <td>664</td>\n",
       "    </tr>\n",
       "    <tr>\n",
       "      <th>23</th>\n",
       "      <td>SC</td>\n",
       "      <td>Santa Catarina</td>\n",
       "      <td>675</td>\n",
       "    </tr>\n",
       "    <tr>\n",
       "      <th>8</th>\n",
       "      <td>GO</td>\n",
       "      <td>Goias</td>\n",
       "      <td>719</td>\n",
       "    </tr>\n",
       "    <tr>\n",
       "      <th>15</th>\n",
       "      <td>PR</td>\n",
       "      <td>Parana</td>\n",
       "      <td>787</td>\n",
       "    </tr>\n",
       "    <tr>\n",
       "      <th>6</th>\n",
       "      <td>DF</td>\n",
       "      <td>Distrito Federal</td>\n",
       "      <td>896</td>\n",
       "    </tr>\n",
       "    <tr>\n",
       "      <th>11</th>\n",
       "      <td>MS</td>\n",
       "      <td>Mato Grosso Do Sul</td>\n",
       "      <td>950</td>\n",
       "    </tr>\n",
       "    <tr>\n",
       "      <th>4</th>\n",
       "      <td>BA</td>\n",
       "      <td>Bahia</td>\n",
       "      <td>1140</td>\n",
       "    </tr>\n",
       "    <tr>\n",
       "      <th>20</th>\n",
       "      <td>RS</td>\n",
       "      <td>Rio Grande Do Sul</td>\n",
       "      <td>1192</td>\n",
       "    </tr>\n",
       "    <tr>\n",
       "      <th>10</th>\n",
       "      <td>MT</td>\n",
       "      <td>Mato Grosso</td>\n",
       "      <td>1349</td>\n",
       "    </tr>\n",
       "    <tr>\n",
       "      <th>25</th>\n",
       "      <td>SE</td>\n",
       "      <td>Sergipe</td>\n",
       "      <td>1686</td>\n",
       "    </tr>\n",
       "    <tr>\n",
       "      <th>26</th>\n",
       "      <td>TO</td>\n",
       "      <td>Tocantins</td>\n",
       "      <td>1939</td>\n",
       "    </tr>\n",
       "    <tr>\n",
       "      <th>9</th>\n",
       "      <td>MA</td>\n",
       "      <td>Maranhao</td>\n",
       "      <td>1994</td>\n",
       "    </tr>\n",
       "    <tr>\n",
       "      <th>21</th>\n",
       "      <td>RO</td>\n",
       "      <td>Rondonia</td>\n",
       "      <td>2053</td>\n",
       "    </tr>\n",
       "    <tr>\n",
       "      <th>14</th>\n",
       "      <td>PB</td>\n",
       "      <td>Paraiba</td>\n",
       "      <td>2104</td>\n",
       "    </tr>\n",
       "    <tr>\n",
       "      <th>16</th>\n",
       "      <td>PE</td>\n",
       "      <td>Pernambuco</td>\n",
       "      <td>2126</td>\n",
       "    </tr>\n",
       "    <tr>\n",
       "      <th>17</th>\n",
       "      <td>PI</td>\n",
       "      <td>Piaui</td>\n",
       "      <td>2154</td>\n",
       "    </tr>\n",
       "    <tr>\n",
       "      <th>19</th>\n",
       "      <td>RN</td>\n",
       "      <td>Rio Grande Do Norte</td>\n",
       "      <td>2217</td>\n",
       "    </tr>\n",
       "    <tr>\n",
       "      <th>5</th>\n",
       "      <td>CE</td>\n",
       "      <td>Ceara</td>\n",
       "      <td>2396</td>\n",
       "    </tr>\n",
       "    <tr>\n",
       "      <th>13</th>\n",
       "      <td>PA</td>\n",
       "      <td>Para</td>\n",
       "      <td>2508</td>\n",
       "    </tr>\n",
       "    <tr>\n",
       "      <th>2</th>\n",
       "      <td>AP</td>\n",
       "      <td>Amapa</td>\n",
       "      <td>2682</td>\n",
       "    </tr>\n",
       "    <tr>\n",
       "      <th>3</th>\n",
       "      <td>AM</td>\n",
       "      <td>Amazonas</td>\n",
       "      <td>2731</td>\n",
       "    </tr>\n",
       "    <tr>\n",
       "      <th>0</th>\n",
       "      <td>AC</td>\n",
       "      <td>Acre</td>\n",
       "      <td>2862</td>\n",
       "    </tr>\n",
       "    <tr>\n",
       "      <th>1</th>\n",
       "      <td>AL</td>\n",
       "      <td>Alagoas</td>\n",
       "      <td>2864</td>\n",
       "    </tr>\n",
       "    <tr>\n",
       "      <th>22</th>\n",
       "      <td>RR</td>\n",
       "      <td>Roraima</td>\n",
       "      <td>3250</td>\n",
       "    </tr>\n",
       "  </tbody>\n",
       "</table>\n",
       "</div>"
      ],
      "text/plain": [
       "    id                 name  distance\n",
       "24  SP            Sao Paulo         0\n",
       "18  RJ       Rio De Janeiro       274\n",
       "7   ES       Espirito Santo       641\n",
       "12  MG         Minas Gerais       664\n",
       "23  SC       Santa Catarina       675\n",
       "8   GO                Goias       719\n",
       "15  PR               Parana       787\n",
       "6   DF     Distrito Federal       896\n",
       "11  MS   Mato Grosso Do Sul       950\n",
       "4   BA                Bahia      1140\n",
       "20  RS    Rio Grande Do Sul      1192\n",
       "10  MT          Mato Grosso      1349\n",
       "25  SE              Sergipe      1686\n",
       "26  TO            Tocantins      1939\n",
       "9   MA             Maranhao      1994\n",
       "21  RO             Rondonia      2053\n",
       "14  PB              Paraiba      2104\n",
       "16  PE           Pernambuco      2126\n",
       "17  PI                Piaui      2154\n",
       "19  RN  Rio Grande Do Norte      2217\n",
       "5   CE                Ceara      2396\n",
       "13  PA                 Para      2508\n",
       "2   AP                Amapa      2682\n",
       "3   AM             Amazonas      2731\n",
       "0   AC                 Acre      2862\n",
       "1   AL              Alagoas      2864\n",
       "22  RR              Roraima      3250"
      ]
     },
     "execution_count": 44,
     "metadata": {},
     "output_type": "execute_result"
    }
   ],
   "source": [
    "state_basic_cols = ['id','name','distance'] \n",
    "brazil_states[state_basic_cols].sort_values('distance', ascending=True)"
   ]
  },
  {
   "cell_type": "markdown",
   "metadata": {
    "colab_type": "text",
    "id": "lLnoxRRMcYwb"
   },
   "source": [
    "![\"Distancias consideradas\"](./02_distancias.png)"
   ]
  },
  {
   "cell_type": "markdown",
   "metadata": {
    "colab_type": "text",
    "id": "NS6Ew6o4A5Sm"
   },
   "source": [
    "Si bien esta distancia es, por definición, un poco burda, creemos que es información valiosa en términos de distancias y que sería interesante estudiar si hay alguna relación entre los tiempos de envíos y las distancias a los estados. Ordenaremos los estados decrecientemente, por tiempos medios de envíos:"
   ]
  },
  {
   "cell_type": "code",
   "execution_count": 45,
   "metadata": {
    "colab": {
     "base_uri": "https://localhost:8080/",
     "height": 857
    },
    "colab_type": "code",
    "id": "0x2Pwduv-wWT",
    "outputId": "9196c592-bc02-4c7c-eb0f-d2c9ba12fe23"
   },
   "outputs": [
    {
     "data": {
      "text/html": [
       "<div>\n",
       "<style scoped>\n",
       "    .dataframe tbody tr th:only-of-type {\n",
       "        vertical-align: middle;\n",
       "    }\n",
       "\n",
       "    .dataframe tbody tr th {\n",
       "        vertical-align: top;\n",
       "    }\n",
       "\n",
       "    .dataframe thead th {\n",
       "        text-align: right;\n",
       "    }\n",
       "</style>\n",
       "<table border=\"1\" class=\"dataframe\">\n",
       "  <thead>\n",
       "    <tr style=\"text-align: right;\">\n",
       "      <th></th>\n",
       "      <th>name</th>\n",
       "      <th>receiver_state</th>\n",
       "      <th>distance</th>\n",
       "      <th>shipment_days</th>\n",
       "    </tr>\n",
       "  </thead>\n",
       "  <tbody>\n",
       "    <tr>\n",
       "      <th>22</th>\n",
       "      <td>Roraima</td>\n",
       "      <td>RR</td>\n",
       "      <td>3250</td>\n",
       "      <td>13.990888</td>\n",
       "    </tr>\n",
       "    <tr>\n",
       "      <th>1</th>\n",
       "      <td>Alagoas</td>\n",
       "      <td>AL</td>\n",
       "      <td>2864</td>\n",
       "      <td>11.674263</td>\n",
       "    </tr>\n",
       "    <tr>\n",
       "      <th>0</th>\n",
       "      <td>Acre</td>\n",
       "      <td>AC</td>\n",
       "      <td>2862</td>\n",
       "      <td>11.449761</td>\n",
       "    </tr>\n",
       "    <tr>\n",
       "      <th>3</th>\n",
       "      <td>Amazonas</td>\n",
       "      <td>AM</td>\n",
       "      <td>2731</td>\n",
       "      <td>12.870968</td>\n",
       "    </tr>\n",
       "    <tr>\n",
       "      <th>2</th>\n",
       "      <td>Amapa</td>\n",
       "      <td>AP</td>\n",
       "      <td>2682</td>\n",
       "      <td>12.851145</td>\n",
       "    </tr>\n",
       "    <tr>\n",
       "      <th>13</th>\n",
       "      <td>Para</td>\n",
       "      <td>PA</td>\n",
       "      <td>2508</td>\n",
       "      <td>12.259911</td>\n",
       "    </tr>\n",
       "    <tr>\n",
       "      <th>5</th>\n",
       "      <td>Ceara</td>\n",
       "      <td>CE</td>\n",
       "      <td>2396</td>\n",
       "      <td>13.053045</td>\n",
       "    </tr>\n",
       "    <tr>\n",
       "      <th>19</th>\n",
       "      <td>Rio Grande Do Norte</td>\n",
       "      <td>RN</td>\n",
       "      <td>2217</td>\n",
       "      <td>9.204168</td>\n",
       "    </tr>\n",
       "    <tr>\n",
       "      <th>17</th>\n",
       "      <td>Piaui</td>\n",
       "      <td>PI</td>\n",
       "      <td>2154</td>\n",
       "      <td>10.264738</td>\n",
       "    </tr>\n",
       "    <tr>\n",
       "      <th>16</th>\n",
       "      <td>Pernambuco</td>\n",
       "      <td>PE</td>\n",
       "      <td>2126</td>\n",
       "      <td>8.813293</td>\n",
       "    </tr>\n",
       "    <tr>\n",
       "      <th>14</th>\n",
       "      <td>Paraiba</td>\n",
       "      <td>PB</td>\n",
       "      <td>2104</td>\n",
       "      <td>9.862900</td>\n",
       "    </tr>\n",
       "    <tr>\n",
       "      <th>21</th>\n",
       "      <td>Rondonia</td>\n",
       "      <td>RO</td>\n",
       "      <td>2053</td>\n",
       "      <td>11.490625</td>\n",
       "    </tr>\n",
       "    <tr>\n",
       "      <th>9</th>\n",
       "      <td>Maranhao</td>\n",
       "      <td>MA</td>\n",
       "      <td>1994</td>\n",
       "      <td>10.442184</td>\n",
       "    </tr>\n",
       "    <tr>\n",
       "      <th>26</th>\n",
       "      <td>Tocantins</td>\n",
       "      <td>TO</td>\n",
       "      <td>1939</td>\n",
       "      <td>10.570413</td>\n",
       "    </tr>\n",
       "    <tr>\n",
       "      <th>25</th>\n",
       "      <td>Sergipe</td>\n",
       "      <td>SE</td>\n",
       "      <td>1686</td>\n",
       "      <td>8.928738</td>\n",
       "    </tr>\n",
       "    <tr>\n",
       "      <th>10</th>\n",
       "      <td>Mato Grosso</td>\n",
       "      <td>MT</td>\n",
       "      <td>1349</td>\n",
       "      <td>9.897452</td>\n",
       "    </tr>\n",
       "    <tr>\n",
       "      <th>20</th>\n",
       "      <td>Rio Grande Do Sul</td>\n",
       "      <td>RS</td>\n",
       "      <td>1192</td>\n",
       "      <td>7.466644</td>\n",
       "    </tr>\n",
       "    <tr>\n",
       "      <th>4</th>\n",
       "      <td>Bahia</td>\n",
       "      <td>BA</td>\n",
       "      <td>1140</td>\n",
       "      <td>8.976583</td>\n",
       "    </tr>\n",
       "    <tr>\n",
       "      <th>11</th>\n",
       "      <td>Mato Grosso Do Sul</td>\n",
       "      <td>MS</td>\n",
       "      <td>950</td>\n",
       "      <td>7.510142</td>\n",
       "    </tr>\n",
       "    <tr>\n",
       "      <th>6</th>\n",
       "      <td>Distrito Federal</td>\n",
       "      <td>DF</td>\n",
       "      <td>896</td>\n",
       "      <td>4.541174</td>\n",
       "    </tr>\n",
       "    <tr>\n",
       "      <th>15</th>\n",
       "      <td>Parana</td>\n",
       "      <td>PR</td>\n",
       "      <td>787</td>\n",
       "      <td>5.687307</td>\n",
       "    </tr>\n",
       "    <tr>\n",
       "      <th>8</th>\n",
       "      <td>Goias</td>\n",
       "      <td>GO</td>\n",
       "      <td>719</td>\n",
       "      <td>7.232263</td>\n",
       "    </tr>\n",
       "    <tr>\n",
       "      <th>23</th>\n",
       "      <td>Santa Catarina</td>\n",
       "      <td>SC</td>\n",
       "      <td>675</td>\n",
       "      <td>7.450997</td>\n",
       "    </tr>\n",
       "    <tr>\n",
       "      <th>12</th>\n",
       "      <td>Minas Gerais</td>\n",
       "      <td>MG</td>\n",
       "      <td>664</td>\n",
       "      <td>5.688444</td>\n",
       "    </tr>\n",
       "    <tr>\n",
       "      <th>7</th>\n",
       "      <td>Espirito Santo</td>\n",
       "      <td>ES</td>\n",
       "      <td>641</td>\n",
       "      <td>6.138894</td>\n",
       "    </tr>\n",
       "    <tr>\n",
       "      <th>18</th>\n",
       "      <td>Rio De Janeiro</td>\n",
       "      <td>RJ</td>\n",
       "      <td>274</td>\n",
       "      <td>5.733296</td>\n",
       "    </tr>\n",
       "    <tr>\n",
       "      <th>24</th>\n",
       "      <td>Sao Paulo</td>\n",
       "      <td>SP</td>\n",
       "      <td>0</td>\n",
       "      <td>2.372356</td>\n",
       "    </tr>\n",
       "  </tbody>\n",
       "</table>\n",
       "</div>"
      ],
      "text/plain": [
       "                   name receiver_state  distance  shipment_days\n",
       "22              Roraima             RR      3250      13.990888\n",
       "1               Alagoas             AL      2864      11.674263\n",
       "0                  Acre             AC      2862      11.449761\n",
       "3              Amazonas             AM      2731      12.870968\n",
       "2                 Amapa             AP      2682      12.851145\n",
       "13                 Para             PA      2508      12.259911\n",
       "5                 Ceara             CE      2396      13.053045\n",
       "19  Rio Grande Do Norte             RN      2217       9.204168\n",
       "17                Piaui             PI      2154      10.264738\n",
       "16           Pernambuco             PE      2126       8.813293\n",
       "14              Paraiba             PB      2104       9.862900\n",
       "21             Rondonia             RO      2053      11.490625\n",
       "9              Maranhao             MA      1994      10.442184\n",
       "26            Tocantins             TO      1939      10.570413\n",
       "25              Sergipe             SE      1686       8.928738\n",
       "10          Mato Grosso             MT      1349       9.897452\n",
       "20    Rio Grande Do Sul             RS      1192       7.466644\n",
       "4                 Bahia             BA      1140       8.976583\n",
       "11   Mato Grosso Do Sul             MS       950       7.510142\n",
       "6      Distrito Federal             DF       896       4.541174\n",
       "15               Parana             PR       787       5.687307\n",
       "8                 Goias             GO       719       7.232263\n",
       "23       Santa Catarina             SC       675       7.450997\n",
       "12         Minas Gerais             MG       664       5.688444\n",
       "7        Espirito Santo             ES       641       6.138894\n",
       "18       Rio De Janeiro             RJ       274       5.733296\n",
       "24            Sao Paulo             SP         0       2.372356"
      ]
     },
     "execution_count": 45,
     "metadata": {},
     "output_type": "execute_result"
    }
   ],
   "source": [
    "shipments_by_state = dataset.groupby('receiver_state')['shipment_days'].mean().reset_index()\n",
    "shipments_by_state = pd.merge(brazil_states[state_basic_cols],\n",
    "                              shipments_by_state,\n",
    "                              left_on='id',\n",
    "                              right_on='receiver_state',\n",
    "                              how='left').drop('id',axis=1)\n",
    "shipments_by_state = shipments_by_state[['name','receiver_state','distance','shipment_days']]\n",
    "shipments_by_state.sort_values(['distance','shipment_days'], ascending=False)"
   ]
  },
  {
   "cell_type": "markdown",
   "metadata": {
    "colab_type": "text",
    "id": "HUI6p_ZlDFiU"
   },
   "source": [
    "Los resultados no están ordenados de la misma forma, pero se aprecia claramente una relación entre las dos variables: los envíos que están más cerca (de nuevo, para una definición burda de \"cerca\"), tardan en promedio menos.\n",
    "\n",
    "Grafiquemos la relación entre envíos y estados:"
   ]
  },
  {
   "cell_type": "code",
   "execution_count": 46,
   "metadata": {
    "colab": {
     "base_uri": "https://localhost:8080/",
     "height": 432
    },
    "colab_type": "code",
    "id": "F2sCWyBx-oST",
    "outputId": "a6227741-b1cb-4523-89e3-ce607af76207"
   },
   "outputs": [
    {
     "data": {
      "image/png": "[encoded data removed]",
      "text/plain": [
       "<Figure size 1008x504 with 1 Axes>"
      ]
     },
     "metadata": {
      "needs_background": "light"
     },
     "output_type": "display_data"
    }
   ],
   "source": [
    "plt.figure(figsize=(14,7))\n",
    "sns.boxplot(data=dataset,\n",
    "                x='receiver_state', \n",
    "                y='shipment_days',\n",
    "                whis=2.5, fliersize=8)\n",
    "plt.xlabel('')\n",
    "plt.grid(True)\n",
    "plt.ylabel('Shipment days')\n",
    "sns.despine()"
   ]
  },
  {
   "cell_type": "markdown",
   "metadata": {
    "colab_type": "text",
    "id": "Qo7pkirqi7CW"
   },
   "source": [
    "Puede verse en la mayoría de los estados, outliers en los tiempos de entrega (hacia el lado de mayor tiempo de entrega, claro está). Esto seguramente sea una de las razones por las cuales sea necesaria una estimación de estos valores. Dicho de otro modo, es posible que de no existir estos outliers, la necesidad de estimar la llegada de un paquete no sería parte de una problemática de estimación sino más bien de seteo de reglas."
   ]
  },
  {
   "cell_type": "markdown",
   "metadata": {
    "colab_type": "text",
    "id": "4YlQWfvFW1Li"
   },
   "source": [
    "Por último, uniremos la información de distancias al dataset para graficar la correlación entre las distancias de los estados y el tiempo de envío."
   ]
  },
  {
   "cell_type": "code",
   "execution_count": 47,
   "metadata": {
    "colab": {},
    "colab_type": "code",
    "id": "DbRM5Z_BWUMy"
   },
   "outputs": [],
   "source": [
    "dataset = pd.merge(dataset,\n",
    "                   brazil_states[['id','distance']],\n",
    "                   left_on='receiver_state',\n",
    "                   right_on='id',\n",
    "                   how='left').drop('id',axis=1)"
   ]
  },
  {
   "cell_type": "code",
   "execution_count": 48,
   "metadata": {
    "colab": {
     "base_uri": "https://localhost:8080/",
     "height": 474
    },
    "colab_type": "code",
    "id": "H55qDV1dXSvb",
    "outputId": "c916beeb-1572-47c1-a2ef-5eb024361b30"
   },
   "outputs": [
    {
     "data": {
      "text/plain": [
       "<seaborn.axisgrid.JointGrid at 0x1a1b918588>"
      ]
     },
     "execution_count": 48,
     "metadata": {},
     "output_type": "execute_result"
    },
    {
     "data": {
      "text/plain": [
       "<Figure size 720x432 with 0 Axes>"
      ]
     },
     "metadata": {},
     "output_type": "display_data"
    },
    {
     "data": {
      "image/png": "[encoded data removed]",
      "text/plain": [
       "<Figure size 432x432 with 3 Axes>"
      ]
     },
     "metadata": {
      "needs_background": "light"
     },
     "output_type": "display_data"
    }
   ],
   "source": [
    "plt.figure(figsize=(10,6))\n",
    "sns.jointplot(data=dataset,\n",
    "                  x='shipment_days', y='distance', kind='kde')"
   ]
  },
  {
   "cell_type": "markdown",
   "metadata": {
    "colab_type": "text",
    "id": "_1-AbGTxZMHF"
   },
   "source": [
    "Tal como esperábamos, en el gráfico se puede encontrar una alta concentración de valores bajos en distancia y tiempo de envío. Por lo tanto, se puede pensar que es muy probable que los envíos que sean de distancias cortas demoren poco tiempo."
   ]
  },
  {
   "cell_type": "markdown",
   "metadata": {
    "colab_type": "text",
    "id": "Unu68Pu2_H4f"
   },
   "source": [
    "## Análisis de la hora del día de entrega"
   ]
  },
  {
   "cell_type": "markdown",
   "metadata": {
    "colab_type": "text",
    "id": "t0vcyZ4DG4h4"
   },
   "source": [
    "En esta última sección de análisis de los datos queremos responder la siguiente pregunta (**Pregunta n°9**):\n",
    "\n",
    "¿Cuál es la distribución de la entrega de envíos por hora del día para cada uno de los estados de Brasil? Realizar un único gráfico donde se muestre esta información.\n",
    "\n",
    "Graficaremos en primer lugar la distribución de entregas por hora para todos los envíos:\n",
    "\n"
   ]
  },
  {
   "cell_type": "code",
   "execution_count": 49,
   "metadata": {
    "colab": {
     "base_uri": "https://localhost:8080/",
     "height": 434
    },
    "colab_type": "code",
    "id": "J6HIEduV_ETT",
    "outputId": "33e6361f-457f-4b03-ce8e-effb144915e0"
   },
   "outputs": [
    {
     "data": {
      "image/png": "[encoded data removed]",
      "text/plain": [
       "<Figure size 1008x360 with 1 Axes>"
      ]
     },
     "metadata": {
      "needs_background": "light"
     },
     "output_type": "display_data"
    }
   ],
   "source": [
    "plt.figure(figsize=(14,5))\n",
    "dataset['date_visit'].dt.hour.value_counts(normalize=True,sort=False).plot(kind='bar')\n",
    "plt.grid(True)"
   ]
  },
  {
   "cell_type": "markdown",
   "metadata": {
    "colab_type": "text",
    "id": "WdMOdBhyHqPY"
   },
   "source": [
    "Hay datos de entregas (o carga de información de las mismas) para todas las horas del día.\n",
    "En \"horario de oficina\" se da la mayoría de las entregas, mayormente en el segmento de las 13 a las 16 horas (y entre las 9 y las 17 abarcando la mayor parte de los envíos)"
   ]
  },
  {
   "cell_type": "code",
   "execution_count": 50,
   "metadata": {
    "colab": {
     "base_uri": "https://localhost:8080/",
     "height": 501
    },
    "colab_type": "code",
    "id": "E3vfAD0v_PE5",
    "outputId": "230991a5-473d-4861-e966-732e76051af7"
   },
   "outputs": [
    {
     "data": {
      "image/png": "[encoded data removed]",
      "text/plain": [
       "<Figure size 1080x576 with 2 Axes>"
      ]
     },
     "metadata": {
      "needs_background": "light"
     },
     "output_type": "display_data"
    }
   ],
   "source": [
    "dataset['date_visit_hour']=dataset['date_visit'].dt.hour\n",
    "\n",
    "\n",
    "plt.figure(figsize=(15,8))\n",
    "data = dataset[['receiver_state', 'date_visit_hour']]\n",
    "data = data.pivot_table(index='receiver_state', columns='date_visit_hour', aggfunc=len)\n",
    "sns.heatmap(data,cmap='Greens')\n",
    "sns.despine()"
   ]
  },
  {
   "cell_type": "markdown",
   "metadata": {
    "colab_type": "text",
    "id": "FPBRRnJCILIA"
   },
   "source": [
    "La interpretación de este gráfico puede darse a confusión, puesto que el peso de la cantidad de envíos sobre el total de envíos es un factor importante para graficar. De todas formas, puede verse que el segmento de 8 a 18 tiene alteraciones en el color por la cantidad de envíos para la mayoría de los estados. Quizá en vez de la cantidad de envíos, tiene más sentido ver la proporción de envíos sobre el total, para un estado dado.\n",
    "\n",
    "Veamos cómo se comporta cada estado por separado, a través de un boxplot:"
   ]
  },
  {
   "cell_type": "code",
   "execution_count": 51,
   "metadata": {
    "colab": {
     "base_uri": "https://localhost:8080/",
     "height": 432
    },
    "colab_type": "code",
    "id": "iLKUMGuuMCZw",
    "outputId": "a5c38513-a837-4961-fb68-375a1dd3fd78"
   },
   "outputs": [
    {
     "data": {
      "image/png": "[encoded data removed]",
      "text/plain": [
       "<Figure size 1008x504 with 1 Axes>"
      ]
     },
     "metadata": {
      "needs_background": "light"
     },
     "output_type": "display_data"
    }
   ],
   "source": [
    "plt.figure(figsize=(14,7))\n",
    "sns.boxplot(data=dataset,\n",
    "                x='receiver_state', \n",
    "                y='date_visit_hour',\n",
    "                whis=2.5, fliersize=8)\n",
    "plt.xlabel('')\n",
    "plt.grid(True)\n",
    "plt.ylabel('Shipment hours')\n",
    "sns.despine()"
   ]
  },
  {
   "cell_type": "markdown",
   "metadata": {
    "colab_type": "text",
    "id": "BCTKlH7kTMNS"
   },
   "source": [
    "Se puede ver que en algunos estados las entregas tienen comportamientos de horarios distintos (en Mato Grosso, por ejemplo, los paquetes se entregan más temprano, en Para, Acre y Rio Grande do Norte, por ejemplo, un poco más tarde), pero en el segmento 9 a 16 se atrapan la mayoría de los envíos."
   ]
  },
  {
   "cell_type": "markdown",
   "metadata": {
    "colab_type": "text",
    "id": "JxzpThBwkCJv"
   },
   "source": [
    "## Inferencia Bayesiana (Consigna n°10)\n",
    "\n",
    "La inferencia bayesiana está atada, de una manera simplista, a la posibilidad de adivinar con educación (educated guess).\n",
    "\n",
    "La información con la que contamos (por ejemplo el correo, el tipo de envío y el estado de destino) conforman en nuestro análisis un \"a priori\" que forma parte de una cota de tiempos de envío mucho más razonable que no formular hipótesis entre los tiempos. Dicho esto, con la información que tenemos en nuestro dataset, podemos ajustar la probabilidad del tiempo de envio entre dos parámetros dados por nuestros datos (experiencia) que serán mucho más probable que decir, por ejemplo, \"el envío llegará entre 0 y 1.000.000 de días\".\n",
    "\n",
    "La probabilidad de que un paquete llegue, por ejemplo, cerca de la media de la cantidad de días que tardaron los paquetes anteriores con los que contamos información, es una estimación mucho más valiosa que la mencionada anteriormente.\n",
    "\n",
    "Con los datos con los que contamos, al calcular la probabilidad de que un paquete (con las características descriptas) llegue en un tiempo dado, estamos generando nueva información para el sistema (estamos incorporando información a el \"a posteriori\") que junto con la información que recolectemos de la realidad del envío del paquete, harán que contemos con información que nos permita una estimación más precisa de estos tiempos.\n",
    "\n",
    "De todas formas, tenemos que tener presente también que estamos ante un problema en donde queremos estimar una información. Si cometemos el error de creer que conocemos la respuesta, podemos estar censurando el poder de la información de los datos."
   ]
  },
  {
   "cell_type": "markdown",
   "metadata": {
    "colab": {},
    "colab_type": "code",
    "id": "37sPWFQekIwU"
   },
   "source": [
    "### Conclusiones\n",
    "\n",
    "En este trabajo analizamos el dataset propuesto por Mercado Libre con el objetivo de estimar **cuando llega un envío** desde que una persona realiza la compra online mediante la plataforma hasta que llega a su casa a través del correo. Algunas de las conclusiones que nos llevamos del análisis de la información se listan a continuación:\n",
    "\n",
    "* No toda la información del dataset puede considerarse confiable. El dataset inicial tiene una determinada cantidad de datos anómalos (como intervalos de días negativos o fechas que no siguen la cronología esperada). Para cumplir con los objetivos planteados al inicio del trabajo tomamos la decisión de filtrar todos estos valores que no seguian los patrones esperados. En consecuencia, la mayor parte de trabajo se hizo considerando un dataset más reducido.\n",
    "\n",
    "* La distribución de los códigos postales (de envío y de llegada) parecería seguir una distribución de Poisson. En la distribución de los códigos postales de llegada se observan tres picos que creemos están asociados a los estados de San Pablo, Minas Gerais y Río de Janeiro, esto se concluyo también en un análisis posterior.\n",
    "\n",
    "* El 80% de los envíos contiene un único producto y los servicios de correo están concentrados en el 0 y 1, que abarcan el 70% de los envíos.\n",
    "\n",
    "* El estado de San Pablo es el que recibe más envíos, seguido por Minas Gerais y Río de Janeiro.\n",
    "\n",
    "* San Pablo parecería tener los tiempos de envíos más bajos.\n",
    "\n",
    "* Las entregas de paquetes se da mayormente entre las 9  y las 16 horas (con una más concentración en el intervalo de 13hs a 17 hs)\n",
    "\n",
    "* Los envíos en distancias cortas demoran poco tiempo (están correlacionados)."
   ]
  },
  {
   "cell_type": "code",
   "execution_count": null,
   "metadata": {},
   "outputs": [],
   "source": []
  }
 ],
 "metadata": {
  "colab": {
   "collapsed_sections": [],
   "name": "Practico1_AyV_Mentoria_cuando_llega_190512.ipynb",
   "provenance": [],
   "version": "0.3.2"
  },
  "kernelspec": {
   "display_name": "Python 3",
   "language": "python",
   "name": "python3"
  },
  "language_info": {
   "codemirror_mode": {
    "name": "ipython",
    "version": 3
   },
   "file_extension": ".py",
   "mimetype": "text/x-python",
   "name": "python",
   "nbconvert_exporter": "python",
   "pygments_lexer": "ipython3",
   "version": "3.7.3"
  }
 },
 "nbformat": 4,
 "nbformat_minor": 1
}
